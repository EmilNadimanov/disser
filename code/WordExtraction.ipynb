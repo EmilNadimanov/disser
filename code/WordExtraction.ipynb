{
 "cells": [
  {
   "cell_type": "code",
   "execution_count": 19,
   "id": "486bb11a",
   "metadata": {},
   "outputs": [],
   "source": [
    "import sys\n",
    "import os\n",
    "import heapq\n",
    "import matplotlib.pyplot as plt\n",
    "import numpy as np\n",
    "import cv2\n",
    "from PIL import Image as im\n",
    "from PIL.ImageShow import IPythonViewer\n",
    "from scipy import ndimage\n",
    "from matplotlib.pyplot import figure\n",
    "from glob import glob\n",
    "from tqdm import tqdm\n",
    "from itertools import groupby\n",
    "from random import randint\n",
    "from string import punctuation\n",
    "from razdel import tokenize\n",
    "\n",
    "from typing import *\n",
    "\n",
    "from utils import take_central_stripe, INTERVAL_FOR_STRIPE, binarize, avg\n",
    "\n",
    "sep = os.path.sep\n",
    "punctuation += \"«»—…“”\"\n",
    "punct = set(punctuation)"
   ]
  },
  {
   "cell_type": "code",
   "execution_count": 20,
   "id": "26548eab",
   "metadata": {},
   "outputs": [],
   "source": [
    "with open(os.getcwd() + \"/../dictation_text.txt\") as f:\n",
    "    text = f.read()\n",
    "    dictation_text = [word.text.strip(punctuation) for word in tokenize(text)]"
   ]
  },
  {
   "cell_type": "code",
   "execution_count": 21,
   "id": "47850851",
   "metadata": {},
   "outputs": [
    {
     "data": {
      "text/plain": [
       "'../chopped/58198/58198_4'"
      ]
     },
     "execution_count": 21,
     "metadata": {},
     "output_type": "execute_result"
    }
   ],
   "source": [
    "DATA_LOCATION = \"../chopped\"\n",
    "WORK_PATHS = glob(f\"{DATA_LOCATION}{sep}*{sep}*\")\n",
    "work_path = WORK_PATHS[0]\n",
    "work_path"
   ]
  },
  {
   "cell_type": "code",
   "execution_count": 195,
   "id": "fef3a963",
   "metadata": {},
   "outputs": [],
   "source": [
    "# how close should notches be to form a single group of \"consecutive\" empty lines\n",
    "NOTCHES_DIFF_THRESHOLD = 5\n",
    "# how many consecutive empty lines should there be so that we count it as a notch\n",
    "# We do not want to take a gap inside a word for a border between words\n",
    "MIN_GROUP_SIZE_TO_CONDENSE = 10\n",
    "\n",
    "def condense(notches) -> List[int]:\n",
    "    condensed = []\n",
    "    potential_group = []\n",
    "    \n",
    "    for notch in notches:\n",
    "        if len(potential_group) == 0:\n",
    "            potential_group.append(notch)\n",
    "        elif notch - potential_group[-1] < NOTCHES_DIFF_THRESHOLD and notch != notches[-1]:\n",
    "            potential_group.append(notch)\n",
    "        else:\n",
    "            # condense a group to one notch\n",
    "            if len(potential_group) >= MIN_GROUP_SIZE_TO_CONDENSE:\n",
    "                condensed.append(int(avg(potential_group)))\n",
    "            potential_group = []\n",
    "    return condensed\n",
    "\n",
    "condense_notches = condense"
   ]
  },
  {
   "cell_type": "code",
   "execution_count": 185,
   "id": "73416978",
   "metadata": {},
   "outputs": [],
   "source": [
    "def trim(image, where='lrtb', return_trims=False):\n",
    "    bin_img = binarize(image)\n",
    "    height, width = bin_img.shape\n",
    "    def find_border(bin_img):\n",
    "        for (idx, row) in enumerate(bin_img):\n",
    "            if np.sum(row) > 1:\n",
    "                return idx\n",
    "    \n",
    "    left = find_border(bin_img.T) if 'l' in where  else 0\n",
    "    top = find_border(bin_img) if 'l' in where  else 0\n",
    "    right = width - find_border(bin_img.T[::-1, :]) if 'r' in where else width\n",
    "    bottom = height - find_border(bin_img[::-1, :]) if 'b' in where else height\n",
    "    \n",
    "    if return_trims:\n",
    "        trims = {\n",
    "            'l': left,\n",
    "            't': top,\n",
    "            'r': right,\n",
    "            'b': bottom\n",
    "        }\n",
    "        return image.crop((left, top, right, bottom)), trims\n",
    "    return image.crop((left, top, right, bottom))"
   ]
  },
  {
   "cell_type": "code",
   "execution_count": 186,
   "id": "32721d4d",
   "metadata": {},
   "outputs": [],
   "source": [
    "class Line:\n",
    "    def __init__(self, path: str):\n",
    "        self.path = path\n",
    "        self.image = im.open(path)\n",
    "        self.bin_img = binarize(self.image)\n",
    "\n",
    "    def __repr__(self):\n",
    "        return f\"Line({self.path})\"\n",
    "    \n",
    "    def __lt__(self, other):\n",
    "        return self.path[-6:-4] < other.path[-6:-4]"
   ]
  },
  {
   "cell_type": "code",
   "execution_count": 187,
   "id": "9f828afa",
   "metadata": {},
   "outputs": [],
   "source": [
    "class Page:\n",
    "    def __init__(self, path: str):\n",
    "        self.path = path\n",
    "        self.lines = [Line(l) for l in glob(path + \"/*.png\")]\n",
    "        self.lines.sort()\n",
    "\n",
    "    def __repr__(self):\n",
    "        return f\"Page({self.path})\"\n",
    "    \n",
    "    def __lt__(self, other):\n",
    "        return self.path[-1] < other.path[-1]"
   ]
  },
  {
   "cell_type": "code",
   "execution_count": 188,
   "id": "5134e908",
   "metadata": {},
   "outputs": [],
   "source": [
    "class Work:\n",
    "    def __init__(self, work_path: str):\n",
    "        self.pages = [Page(p) for p in glob(f\"{work_path}{sep}*\")]\n",
    "        self.pages.sort()\n",
    "        self.work_id = os.path.basename(work_path)\n",
    "\n",
    "    @staticmethod\n",
    "    def extract_work_id(filename: str) -> str:\n",
    "        return filename.split('/')[-1].split('-')[0]\n",
    "    \n",
    "    def __repr__(self):\n",
    "        return f\"Work({self.work_id}, {self.pages})\"\n",
    "    "
   ]
  },
  {
   "cell_type": "code",
   "execution_count": 189,
   "id": "315b1a6c",
   "metadata": {},
   "outputs": [
    {
     "data": {
      "image/png": "[encoded data removed]",
      "text/plain": [
       "<PIL.PngImagePlugin.PngImageFile image mode=RGBA size=1115x52>"
      ]
     },
     "execution_count": 189,
     "metadata": {},
     "output_type": "execute_result"
    }
   ],
   "source": [
    "page = work.pages[0]\n",
    "lines = page.lines\n",
    "line = lines[1]\n",
    "im.open(line.path)"
   ]
  },
  {
   "cell_type": "code",
   "execution_count": 190,
   "id": "89b0da18",
   "metadata": {},
   "outputs": [
    {
     "data": {
      "text/plain": [
       "Page(../chopped/18525/18525_51/18525_51-0)"
      ]
     },
     "execution_count": 190,
     "metadata": {},
     "output_type": "execute_result"
    }
   ],
   "source": [
    "page"
   ]
  },
  {
   "cell_type": "code",
   "execution_count": 191,
   "id": "a61e0ffb",
   "metadata": {},
   "outputs": [
    {
     "data": {
      "text/plain": [
       "\"\\nWork(50382_33)\\n\\nПричина: Обрезанный заголовок вместо строки \\n\\nОшибка:\\nTypeError                                 Traceback (most recent call last)\\nInput In [117], in <cell line: 16>()\\n     13 h, w = line.bin_img.shape\\n     15 stripe = line.image.crop((0, h//2-INTERVAL_FOR_STRIPE, w, h//2+INTERVAL_FOR_STRIPE))\\n---> 16 trimmed_stripe, trims = trim(stripe, return_trims=True)\\n     17 bin_turned_around = binarize(trimmed_stripe)[::-1, :].T\\n     19 trimmed_line = line.image.crop((trims['l'],0,trims['r'],h))\\n\\nInput In [82], in trim(image, where, return_trims)\\n      9 left = find_border(bin_img.T) if 'l' in where  else 0\\n     10 top = find_border(bin_img) if 'l' in where  else 0\\n---> 11 right = width - find_border(bin_img.T[::-1, :]) if 'r' in where else width\\n     12 bottom = height - find_border(bin_img[::-1, :]) if 'b' in where else height\\n     14 if return_trims:\\n\\nTypeError: unsupported operand type(s) for -: 'int' and 'NoneType'\\n\""
      ]
     },
     "execution_count": 191,
     "metadata": {},
     "output_type": "execute_result"
    }
   ],
   "source": [
    "\"\"\"\n",
    "Work(50382_33)\n",
    "\n",
    "Причина: Обрезанный заголовок вместо строки \n",
    "\n",
    "Ошибка:\n",
    "TypeError                                 Traceback (most recent call last)\n",
    "Input In [117], in <cell line: 16>()\n",
    "     13 h, w = line.bin_img.shape\n",
    "     15 stripe = line.image.crop((0, h//2-INTERVAL_FOR_STRIPE, w, h//2+INTERVAL_FOR_STRIPE))\n",
    "---> 16 trimmed_stripe, trims = trim(stripe, return_trims=True)\n",
    "     17 bin_turned_around = binarize(trimmed_stripe)[::-1, :].T\n",
    "     19 trimmed_line = line.image.crop((trims['l'],0,trims['r'],h))\n",
    "\n",
    "Input In [82], in trim(image, where, return_trims)\n",
    "      9 left = find_border(bin_img.T) if 'l' in where  else 0\n",
    "     10 top = find_border(bin_img) if 'l' in where  else 0\n",
    "---> 11 right = width - find_border(bin_img.T[::-1, :]) if 'r' in where else width\n",
    "     12 bottom = height - find_border(bin_img[::-1, :]) if 'b' in where else height\n",
    "     14 if return_trims:\n",
    "\n",
    "TypeError: unsupported operand type(s) for -: 'int' and 'NoneType'\n",
    "\"\"\""
   ]
  },
  {
   "cell_type": "code",
   "execution_count": 192,
   "id": "98f7739c",
   "metadata": {},
   "outputs": [
    {
     "data": {
      "text/plain": [
       "\"\\nWork(18956_21)\\n\\nПричина: пустая строка каким-то образом прошла мимо фильтра на пустые строки в скрипте сегментации\\n\\nОшибка:\\nTypeError                                 Traceback (most recent call last)\\nInput In [158], in <cell line: 17>()\\n     14 h, w = line.bin_img.shape\\n     16 stripe = line.image.crop((0, axis(h)-INTERVAL_FOR_STRIPE, w, axis(h)+INTERVAL_FOR_STRIPE))\\n---> 17 trimmed_stripe, trims = trim(stripe, return_trims=True)\\n     18 bin_turned_around = binarize(trimmed_stripe)[::-1, :].T\\n     20 notches = []\\n\\nInput In [82], in trim(image, where, return_trims)\\n      9 left = find_border(bin_img.T) if 'l' in where  else 0\\n     10 top = find_border(bin_img) if 'l' in where  else 0\\n---> 11 right = width - find_border(bin_img.T[::-1, :]) if 'r' in where else width\\n     12 bottom = height - find_border(bin_img[::-1, :]) if 'b' in where else height\\n     14 if return_trims:\\n\\nTypeError: unsupported operand type(s) for -: 'int' and 'NoneType'\\n\""
      ]
     },
     "execution_count": 192,
     "metadata": {},
     "output_type": "execute_result"
    }
   ],
   "source": [
    "\"\"\"\n",
    "Work(18956_21)\n",
    "\n",
    "Причина: пустая строка каким-то образом прошла мимо фильтра на пустые строки в скрипте сегментации\n",
    "\n",
    "Ошибка:\n",
    "TypeError                                 Traceback (most recent call last)\n",
    "Input In [158], in <cell line: 17>()\n",
    "     14 h, w = line.bin_img.shape\n",
    "     16 stripe = line.image.crop((0, axis(h)-INTERVAL_FOR_STRIPE, w, axis(h)+INTERVAL_FOR_STRIPE))\n",
    "---> 17 trimmed_stripe, trims = trim(stripe, return_trims=True)\n",
    "     18 bin_turned_around = binarize(trimmed_stripe)[::-1, :].T\n",
    "     20 notches = []\n",
    "\n",
    "Input In [82], in trim(image, where, return_trims)\n",
    "      9 left = find_border(bin_img.T) if 'l' in where  else 0\n",
    "     10 top = find_border(bin_img) if 'l' in where  else 0\n",
    "---> 11 right = width - find_border(bin_img.T[::-1, :]) if 'r' in where else width\n",
    "     12 bottom = height - find_border(bin_img[::-1, :]) if 'b' in where else height\n",
    "     14 if return_trims:\n",
    "\n",
    "TypeError: unsupported operand type(s) for -: 'int' and 'NoneType'\n",
    "\"\"\""
   ]
  },
  {
   "cell_type": "code",
   "execution_count": 193,
   "id": "7001f744",
   "metadata": {},
   "outputs": [],
   "source": [
    "work = Work(WORK_PATHS[randint(0, len(WORK_PATHS)-1)])\n",
    "page = work.pages[randint(0, len(work.pages)-1)]\n",
    "line = page.lines[randint(0, len(page.lines)-1)]\n",
    "h, w = line.bin_img.shape"
   ]
  },
  {
   "cell_type": "code",
   "execution_count": 221,
   "id": "979f9dd8",
   "metadata": {},
   "outputs": [
    {
     "data": {
      "text/plain": [
       "<matplotlib.lines.Line2D at 0x7f2d8146fca0>"
      ]
     },
     "execution_count": 221,
     "metadata": {},
     "output_type": "execute_result"
    },
    {
     "data": {
      "image/png": "[encoded data removed]",
      "text/plain": [
       "<Figure size 3600x3600 with 1 Axes>"
      ]
     },
     "metadata": {
      "needs_background": "light"
     },
     "output_type": "display_data"
    }
   ],
   "source": [
    "\"\"\"CONDENSED NOTCHES DEMO\"\"\"\n",
    "work = Work(WORK_PATHS[randint(0, len(WORK_PATHS)-1)])\n",
    "page = work.pages[randint(0, len(work.pages)-1)]\n",
    "line = page.lines[randint(0, len(page.lines)-1)]\n",
    "h, w = line.bin_img.shape\n",
    "\n",
    "figure(figsize=(50, 50))\n",
    "stripe = take_central_stripe(line.image,\n",
    "                             up=5)\n",
    "trimmed_stripe, trims = trim(stripe, return_trims=True)\n",
    "bin_turned_around = binarize(trimmed_stripe)[::-1, :].T\n",
    "\n",
    "notches = []\n",
    "for idx, col in enumerate(bin_turned_around):\n",
    "    if np.sum(col) == 0:\n",
    "        notches.append(idx)\n",
    "\n",
    "axis = h // 2\n",
    "upper, lower = (axis-5, axis + INTERVAL_FOR_STRIPE)\n",
    "\n",
    "condensed = condense(notches)\n",
    "plt.imshow(line.bin_img, 'gray')\n",
    "for x in condensed:\n",
    "    x += trims['l']\n",
    "    plt.axvline(x=x,color='red')\n",
    "\n",
    "plt.axhline(y=upper,color='yellow')\n",
    "plt.axhline(y=lower,color='yellow')\n"
   ]
  },
  {
   "cell_type": "code",
   "execution_count": null,
   "id": "0fe4fc39",
   "metadata": {},
   "outputs": [],
   "source": [
    "def segment_line_into_words(line: Line):\n",
    "    \n",
    "    stripe = take_central_stripe(line.image)\n",
    "    try:\n",
    "        trimmed_stripe, trims = trim(stripe, return_trims=True)\n",
    "    except TypeError: \n",
    "        # somehow an empty line was not filtered. Usually due to image imperfections\n",
    "        return []\n",
    "    except:\n",
    "        print(line)\n",
    "        raise\n",
    "    # easier to turn by 90 degrees and analyze row by row, which is same\n",
    "    # as analyzing original image column by column\n",
    "    bin_90_degrees = binarize(trimmed_stripe)[::-1, :].T\n",
    "\n",
    "    notches = []\n",
    "    for idx, col in enumerate(bin_90_degrees):\n",
    "        if np.sum(col) == 0:\n",
    "            notches.append(idx)        \n",
    "\n",
    "    # dropping the empty space to the left and to the right of the line\n",
    "    trimmed_line_image = line.image.crop((trims['l'], 0, trims['r'], line.image.height))\n",
    "    condensed = [0] + condense(notches) + [trimmed_line_image.width]\n",
    "\n",
    "    words = []\n",
    "    pairs = [(condensed[i], condensed[i+1]) for i in range(len(condensed) - 1)]\n",
    "    for l, r in pairs:\n",
    "        words.append(trimmed_line_image.crop((l, 0, r, line.image.height)))\n",
    "    return words"
   ]
  },
  {
   "cell_type": "code",
   "execution_count": 222,
   "id": "ed066607",
   "metadata": {},
   "outputs": [
    {
     "name": "stderr",
     "output_type": "stream",
     "text": [
      "100%|█████████████████████████████████████████| 526/526 [05:48<00:00,  1.51it/s]\n"
     ]
    }
   ],
   "source": [
    "for work in tqdm((Work(path) for path in WORK_PATHS), total=526):\n",
    "    for page in work.pages:\n",
    "        for line in page.lines:\n",
    "            line_num = os.path.basename(line.path).replace(\".png\", \"\")\n",
    "            destination = f\"../formatted_data/words/{work.work_id}/{os.path.basename(page.path)}/{line_num}\"\n",
    "            os.makedirs(destination, exist_ok=True)\n",
    "            \n",
    "            words = segment_line_into_words(line)\n",
    "            for i, word in enumerate(words):\n",
    "                word.save(f\"{destination}/{i}.png\")"
   ]
  },
  {
   "cell_type": "code",
   "execution_count": null,
   "id": "99e3e588",
   "metadata": {},
   "outputs": [],
   "source": [
    "\"\"\" HOUGH lines don't work \"\"\"\n",
    "\n",
    "# open_cv_image = np.array(words[1])[:, :, ::-1]\n",
    "# open_cv_image = cv2.Canny(open_cv_image, 50, 200, None, 3)\n",
    "\n",
    "# cdst = cv2.cvtColor(open_cv_image, cv2.COLOR_GRAY2BGR)\n",
    "# cdstP = np.copy(cdst)\n",
    "\n",
    "# lines = cv2.HoughLinesP(open_cv_image, 1, np.pi / 180, 50, None, 50, 10)\n",
    "# print(lines)\n",
    "# if lines is not None:\n",
    "#     for i in range(0, len(lines)):\n",
    "#         l = lines[i][0]\n",
    "#         cv2.line(cdstP, (l[0], l[1]), (l[2], l[3]), (0,0,255), 3, cv2.LINE_AA)\n",
    "\n",
    "# plt.imshow(cdstP)"
   ]
  },
  {
   "cell_type": "code",
   "execution_count": null,
   "id": "f4e33d64",
   "metadata": {},
   "outputs": [],
   "source": [
    "\"\"\" DELETE BY CONTOUR. DOESN'T WORK CUZ LETTERS CAN BE TOO SMALL\"\"\"\n",
    "\n",
    "# %matplotlib inline\n",
    "# figure(figsize=(20, 20))\n",
    "\n",
    "\n",
    "# # Load image, convert to grayscale, Gaussian blur, Otsu's threshold\n",
    "# image = np.array(line.image)[:, :, ::-1]\n",
    "# gray = cv2.cvtColor(image, cv2.COLOR_BGR2GRAY)\n",
    "# blur = cv2.GaussianBlur(gray, (3,3), 3)\n",
    "# thresh = cv2.threshold(blur, 0, 255, cv2.THRESH_BINARY_INV + cv2.THRESH_OTSU)[1]\n",
    "\n",
    "# # Filter using contour area and remove small noise\n",
    "# cnts = cv2.findContours(thresh, cv2.RETR_TREE, cv2.CHAIN_APPROX_SIMPLE)\n",
    "# cnts = cnts[0] if len(cnts) == 2 else cnts[1]\n",
    "# for c in cnts:\n",
    "#     area = cv2.contourArea(c)\n",
    "#     if area < 20:\n",
    "#         cv2.drawContours(thresh, [c], -1, (0,0,0), -1)\n",
    "\n",
    "# # Morph close and invert image\n",
    "# kernel = cv2.getStructuringElement(cv2.MORPH_RECT, (5,5))\n",
    "# close = 255 - cv2.morphologyEx(thresh, cv2.MORPH_CLOSE, kernel, iterations=2)\n",
    "# plt.imshow(thresh)"
   ]
  },
  {
   "cell_type": "code",
   "execution_count": null,
   "id": "0f3320fb",
   "metadata": {},
   "outputs": [],
   "source": [
    "\"\"\" FLOOD FILL ELEMENTS THAT ARE ON BORDER \"\"\"\n",
    "\n",
    "# figure(figsize=(20, 20))\n",
    "\n",
    "# floodFilled = gray.copy()\n",
    "# _, floodFilled = cv2.threshold(floodFilled, thresh=180, maxval=255, type=cv2.THRESH_BINARY)\n",
    "# for id in list(id for id, x in enumerate(floodFilled[1]) if x == 0):\n",
    "#     cv2.floodFill(floodFilled, None,(id,1),255)\n",
    "# plt.imshow(floodFilled, cmap=\"gray\")"
   ]
  }
 ],
 "metadata": {
  "kernelspec": {
   "display_name": "cv",
   "language": "python",
   "name": "cv"
  },
  "language_info": {
   "codemirror_mode": {
    "name": "ipython",
    "version": 3
   },
   "file_extension": ".py",
   "mimetype": "text/x-python",
   "name": "python",
   "nbconvert_exporter": "python",
   "pygments_lexer": "ipython3",
   "version": "3.10.4"
  }
 },
 "nbformat": 4,
 "nbformat_minor": 5
}
