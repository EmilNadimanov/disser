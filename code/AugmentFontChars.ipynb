{
 "cells": [
  {
   "cell_type": "code",
   "execution_count": 4,
   "id": "afb7949a",
   "metadata": {},
   "outputs": [],
   "source": [
    "import sys\n",
    "import os\n",
    "import matplotlib.pyplot as plt\n",
    "import numpy as np\n",
    "import cv2\n",
    "from PIL import Image as im, ImageDraw, ImageFont\n",
    "import PIL\n",
    "from scipy import ndimage\n",
    "from matplotlib.pyplot import figure\n",
    "from glob import glob\n",
    "from utils import add_margin, expand2square, put_in_a_box, binarize\n",
    "from tqdm import tqdm\n",
    "\n",
    "from typing import *"
   ]
  },
  {
   "cell_type": "code",
   "execution_count": 5,
   "id": "e5ab08b8",
   "metadata": {},
   "outputs": [],
   "source": [
    "PATH_TO_FONT_CHARS = \"../formatted_data/chars_images/chars\"\n",
    "\n",
    "PATH_TO_AUGMENTED_CHARS = \"../formatted_data/chars_images/augmented_chars\"\n",
    "PATH_TO_ROTATED_CHARS = f\"{PATH_TO_AUGMENTED_CHARS}/rotated\"\n",
    "PATH_TO_OFFSET_CHARS = f\"{PATH_TO_AUGMENTED_CHARS}/offset\"\n",
    "PATH_TO_CONNECTED_CHARS = f\"{PATH_TO_AUGMENTED_CHARS}/connected\"\n",
    "PATH_TO_RESIZED_CHARS = f\"{PATH_TO_AUGMENTED_CHARS}/resized\"\n",
    "\n",
    "LOWERCASE = \"абвгдеёжзийклмнопрстуфхцчшщъыьэюя\"\n",
    "UPPERCASE = LOWERCASE.upper().replace(\"Ъ\", '')"
   ]
  },
  {
   "cell_type": "code",
   "execution_count": 6,
   "id": "bd992568",
   "metadata": {},
   "outputs": [],
   "source": [
    "class Char:\n",
    "    def __init__(self, path: str):\n",
    "        self.path = path\n",
    "        self.image = im.open(path)\n",
    "        \n",
    "        split = os.path.normpath(path).split(os.path.sep)\n",
    "        self.name = split[-1].replace(\".png\", \"\")\n",
    "        self.font = split[-2]\n"
   ]
  },
  {
   "cell_type": "code",
   "execution_count": 7,
   "id": "82a29423",
   "metadata": {},
   "outputs": [],
   "source": [
    "fonts = os.listdir(PATH_TO_FONT_CHARS)\n",
    "chars_dict = {font: glob(f\"{PATH_TO_FONT_CHARS}/{font}/*\") for font in fonts}\n",
    "for k, v in chars_dict.items():\n",
    "    chars = []\n",
    "    for char in v:\n",
    "        chars.append(Char(char))\n",
    "    chars_dict[k] = chars"
   ]
  },
  {
   "cell_type": "code",
   "execution_count": 8,
   "id": "d83f7c0f",
   "metadata": {},
   "outputs": [],
   "source": [
    "charset = chars_dict['Salavat']"
   ]
  },
  {
   "cell_type": "code",
   "execution_count": 9,
   "id": "f4580667",
   "metadata": {},
   "outputs": [],
   "source": [
    "def convert_png_transparent(image, bg_color=(255,255,255)):\n",
    "    array = np.array(image, dtype=np.ubyte)\n",
    "    mask = (array[:,:,:3] == bg_color).all(axis=2)\n",
    "    alpha = np.where(mask, 0, 255)\n",
    "    array[:,:,-1] = alpha\n",
    "    return im.fromarray(np.ubyte(array))"
   ]
  },
  {
   "cell_type": "code",
   "execution_count": 10,
   "id": "ac3f933d",
   "metadata": {},
   "outputs": [],
   "source": [
    "def get_dominant_color(img):\n",
    "    palette_size = 2\n",
    "    # Resize image to speed up processing\n",
    "    #img = convert_png_transparent(pil_img.copy())\n",
    "    img.thumbnail((100, 100))\n",
    "\n",
    "    # Reduce colors (uses k-means internally)\n",
    "    paletted = img.convert('P', palette=im.ADAPTIVE, colors=palette_size)\n",
    "\n",
    "    # Find the color that occurs most often\n",
    "    palette = paletted.getpalette()\n",
    "    color_counts = sorted(paletted.getcolors(), reverse=False)\n",
    "    palette_index = color_counts[0][1]\n",
    "    dominant_color = palette[palette_index*3:palette_index*3+3]\n",
    "    dominant_color.append(255)\n",
    "\n",
    "    return tuple(dominant_color)"
   ]
  },
  {
   "cell_type": "code",
   "execution_count": 11,
   "id": "ed65e784",
   "metadata": {},
   "outputs": [],
   "source": [
    "def expand(img, top=0, right=0, bottom=0, left=0):\n",
    "    return add_margin(\n",
    "             expand2square(img),\n",
    "             top=top,\n",
    "             bottom=bottom,\n",
    "             left=left,\n",
    "             right=right\n",
    "           )"
   ]
  },
  {
   "cell_type": "code",
   "execution_count": 12,
   "id": "9bd133c3",
   "metadata": {},
   "outputs": [],
   "source": [
    "\"\"\" ROTATION FROM -40° to 40° \"\"\"\n",
    "def rotate(degree, image):\n",
    "    return image.rotate(degree, expand=True, fillcolor=(255,255,255), resample=PIL.Image.Resampling.BICUBIC)\n",
    "\n",
    "for font, charset in chars_dict.items():\n",
    "    font_specific_path = f\"{PATH_TO_ROTATED_CHARS}/{font}\"\n",
    "    os.makedirs(font_specific_path, exist_ok=True)\n",
    "    for char in charset:\n",
    "        for degree in range(-40, 41, 5):\n",
    "            rotate(degree, char.image) \\\n",
    "                .save(f\"{font_specific_path}/{char.name}_{degree}.png\")\n"
   ]
  },
  {
   "cell_type": "code",
   "execution_count": null,
   "id": "2dfcac48",
   "metadata": {},
   "outputs": [],
   "source": [
    "\"\"\" MOVING AROUND \"\"\"\n",
    "for font, charset in chars_dict.items():\n",
    "    font_specific_path = f\"{PATH_TO_OFFSET_CHARS}/{font}\"\n",
    "    os.makedirs(font_specific_path, exist_ok=True)\n",
    "    for char in charset:\n",
    "        for margin, side in [(m, side) for m in range(5,16,5) for side in \"lrtb\"]:\n",
    "            if side == \"l\":\n",
    "                image = expand(char.image, left=margin)\n",
    "            elif side == \"r\":\n",
    "                image = expand(char.image, right=margin)\n",
    "            elif side == \"t\":\n",
    "                image = expand(char.image, top=margin)\n",
    "            elif side == \"b\":\n",
    "                image = expand(char.image, bottom=margin)\n",
    "            image.save(f\"{font_specific_path}/{char.name}_{side}{margin}.png\")"
   ]
  },
  {
   "cell_type": "code",
   "execution_count": 13,
   "id": "dae4507e",
   "metadata": {},
   "outputs": [],
   "source": [
    "def euclideanDistance(coordinate1, coordinate2):\n",
    "    return pow(pow(coordinate1[0] - coordinate2[0], 2) + pow(coordinate1[1] - coordinate2[1], 2), .5)"
   ]
  },
  {
   "cell_type": "code",
   "execution_count": 14,
   "id": "1730e87a",
   "metadata": {},
   "outputs": [],
   "source": [
    "def closest_to(char_image, coord: Tuple[int, int]):\n",
    "    bin_img = binarize(char_image)\n",
    "    h, w = char_image.size\n",
    "    distances = list()\n",
    "    for r_idx in range(w):\n",
    "        for c_idx in range(h):\n",
    "            if bin_img[r_idx, c_idx] > 0.5:\n",
    "                distance = euclideanDistance(coord, (r_idx, c_idx))\n",
    "                distances.append((r_idx, c_idx, distance))\n",
    "    return min(distances, key=lambda entry: entry[2])[:2]\n",
    "\n",
    "# goes up and right from here\n",
    "right_bottom_spot = lambda image: (closest_to(image, (image.height, image.width)), {\"x\": 100, \"y\": -30})\n",
    "# goes down and right from here\n",
    "right_top_spot = lambda image: (closest_to(image, (0, image.height)), {\"x\": 100, \"y\": 30})\n",
    "\n",
    "# goes up and rigth from here\n",
    "left_bottom_spot = lambda image: (closest_to(image, (image.width, 0)), {\"x\": 100, \"y\": -30})\n",
    "# goes down and left from here\n",
    "left_top_spot = lambda image: (closest_to(image, (0,0)), {\"x\": -100, \"y\": 30})"
   ]
  },
  {
   "cell_type": "code",
   "execution_count": null,
   "id": "d39a05ca",
   "metadata": {},
   "outputs": [],
   "source": [
    "\"\"\" CONNECTED CHARS \"\"\"\n",
    "for font, charset in chars_dict.items():\n",
    "    font_specific_path = f\"{PATH_TO_CONNECTED_CHARS}/{font}\"\n",
    "    os.makedirs(font_specific_path, exist_ok=True)\n",
    "    for char in charset:\n",
    "        dominant = get_dominant_color(char.image)\n",
    "        # left_top from prev\n",
    "        char_copy = char.image.copy()\n",
    "        draw = ImageDraw.Draw(char_copy) \n",
    "        (y, x), destination = left_top_spot(char_copy)\n",
    "        draw.line((x,y, x+destination[\"x\"],y+destination[\"y\"]), fill=dominant, width=2, joint=\"curve\")     \n",
    "        char_copy.save(f\"{font_specific_path}/{char.name}_lt.png\")\n",
    "        \n",
    "        # right_top to next\n",
    "        char_copy = char.image.copy()\n",
    "        draw = ImageDraw.Draw(char_copy)\n",
    "        (y, x), destination = right_top_spot(char_copy)\n",
    "        draw.line((x,y, x+destination[\"x\"],y+destination[\"y\"]), fill=dominant, width=2, joint=\"curve\")\n",
    "        char_copy.save(f\"{font_specific_path}/{char.name}_rt.png\")\n",
    "        \n",
    "        # right_bottom to next\n",
    "        char_copy = char.image.copy()\n",
    "        draw = ImageDraw.Draw(char_copy) \n",
    "        (y, x), destination = right_bottom_spot(char_copy)\n",
    "        draw.line((x,y, x+destination[\"x\"],y+destination[\"y\"]), fill=dominant, width=2, joint=\"curve\")\n",
    "        char_copy.save(f\"{font_specific_path}/{char.name}_rb.png\")\n",
    "        \n",
    "        # left_bottom to next\n",
    "        char_copy = char.image.copy()\n",
    "        draw = ImageDraw.Draw(char_copy) \n",
    "        (y, x), destination = left_bottom_spot(char_copy)\n",
    "        draw.line((x,y, x+destination[\"x\"],y+destination[\"y\"]), fill=dominant, width=2, joint=\"curve\")\n",
    "        char_copy.save(f\"{font_specific_path}/{char.name}_lb.png\")\n",
    "        "
   ]
  },
  {
   "cell_type": "code",
   "execution_count": 15,
   "id": "1ce7c064",
   "metadata": {},
   "outputs": [],
   "source": [
    "\"\"\" RESIZED, i.e. squashed or extended\"\"\"\n",
    "\n",
    "def resize(image: \"Image\", what: str, how_much: float):\n",
    "    if what == 'width':  return image.resize((round(w * how_much), h))\n",
    "    if what == 'height': return image.resize((w, round(h * how_much)))\n",
    "    raise AssertionError(f\"`what` must be either \\\"width\\\" or \\\"height\\\", not {what}\")\n",
    "    \n",
    "\n",
    "for font, charset in chars_dict.items():\n",
    "    font_specific_path = f\"{PATH_TO_RESIZED_CHARS}/{font}\"\n",
    "    os.makedirs(font_specific_path, exist_ok=True)\n",
    "    for char in charset:\n",
    "        w, h = char.image.size\n",
    "        resize(char.image, \"width\",  1.2).save(f\"{font_specific_path}/{char.name}_20%wider.png\")\n",
    "        resize(char.image, \"width\",  1.4).save(f\"{font_specific_path}/{char.name}_40%wider.png\")\n",
    "        resize(char.image, \"width\",  1.6).save(f\"{font_specific_path}/{char.name}_60%wider.png\")\n",
    "        resize(char.image, \"width\",  1.8).save(f\"{font_specific_path}/{char.name}_80%wider.png\")\n",
    "        \n",
    "        resize(char.image, \"width\",   .8).save(f\"{font_specific_path}/{char.name}_20%narrower.png\")\n",
    "        resize(char.image, \"width\",   .6).save(f\"{font_specific_path}/{char.name}_40%narrower.png\")\n",
    "        resize(char.image, \"width\",   .4).save(f\"{font_specific_path}/{char.name}_60%narrower.png\")\n",
    "        \n",
    "        resize(char.image, \"height\", 1.2).save(f\"{font_specific_path}/{char.name}_20%higher.png\")\n",
    "        resize(char.image, \"height\", 1.4).save(f\"{font_specific_path}/{char.name}_40%higher.png\")\n",
    "        resize(char.image, \"height\", 1.6).save(f\"{font_specific_path}/{char.name}_60%higher.png\")\n",
    "        resize(char.image, \"height\", 1.8).save(f\"{font_specific_path}/{char.name}_80%higher.png\")\n",
    "        \n",
    "        resize(char.image, \"height\",  .8).save(f\"{font_specific_path}/{char.name}_20%shorter.png\")\n",
    "        resize(char.image, \"height\",  .6).save(f\"{font_specific_path}/{char.name}_40%shorter.png\")\n",
    "        resize(char.image, \"height\",  .4).save(f\"{font_specific_path}/{char.name}_60%shorter.png\")\n",
    "        resize(char.image, \"height\",  .3).save(f\"{font_specific_path}/{char.name}_70%shorter.png\")"
   ]
  },
  {
   "cell_type": "markdown",
   "id": "97854ff6",
   "metadata": {},
   "source": [
    "Создаём фейковые изображения символов в связке с соседними символами и называем это умным словом \"аугментация\""
   ]
  },
  {
   "cell_type": "code",
   "execution_count": 81,
   "id": "fb75341d",
   "metadata": {},
   "outputs": [],
   "source": [
    "def write(font, word):\n",
    "    img  = im.new(\"RGBA\", (500,150),(255,255,255))\n",
    "    ImageDraw.Draw(img).text((22, 22), word,(49, 76, 175), font=font)\n",
    "    return put_in_a_box(img)\n",
    "\n",
    "def width_of(font, word):\n",
    "    return write(font, word).width"
   ]
  },
  {
   "cell_type": "code",
   "execution_count": null,
   "id": "da27122e",
   "metadata": {},
   "outputs": [
    {
     "name": "stdout",
     "output_type": "stream",
     "text": [
      "Abram\n"
     ]
    },
    {
     "name": "stderr",
     "output_type": "stream",
     "text": [
      " 64%|██████████████████████████▋               | 21/33 [00:18<00:12,  1.02s/it]"
     ]
    }
   ],
   "source": [
    "from copy import copy\n",
    "ttfs = glob(\"ttfs/*.ttf\")\n",
    "\n",
    "def f():\n",
    "    for ttf in ttfs:\n",
    "        font = ImageFont.truetype(ttf,64)\n",
    "        fontname = os.path.basename(ttf).replace(\".ttf\", '')\n",
    "        font_specific_path = f\"../formatted_data/chars_images/augmented_chars/simulation/{fontname}\"\n",
    "        os.makedirs(font_specific_path, exist_ok=True)\n",
    "        print(fontname)\n",
    "        for s in tqdm(LOWERCASE):\n",
    "            for idx in range(1,len(LOWERCASE)):\n",
    "                random = np.random.randint(-50, 50)\n",
    "                \n",
    "                f = LOWERCASE[random % len(LOWERCASE) % idx]\n",
    "                t = LOWERCASE[random % idx % len(LOWERCASE)]\n",
    "                word = f\"{f}{s}{t}\"\n",
    "\n",
    "                img = write(font, word)\n",
    "\n",
    "                l = img.width - width_of(font, f\"{s+t}\")\n",
    "                r = width_of(font, f\"{f+s}\")\n",
    "                s_itself = width_of(font, s)\n",
    "                \n",
    "                # widen the borders so that the second letter certainly fits in\n",
    "                if s_itself - 2 <= r - l <= s_itself + 2:\n",
    "                    l, r = l-5, r+5\n",
    "                img = img.crop((l, 0, r, img.height))\n",
    "                \n",
    "                ## Applying mutations to widen the variety of images\n",
    "                # 40% chance to rotate\n",
    "                if 15 <= abs(random) <= 35:\n",
    "                    img = rotate(random // 2, img)\n",
    "                # 30% chance to add a shear\n",
    "                if abs(random) <= 15:\n",
    "                    p = random / 100\n",
    "                    img = img.transform((50, 50),\n",
    "                                        im.Transform.AFFINE,\n",
    "                                        (1-p*2, 0+p*2, 1, 0, 1, 1),\n",
    "                                        resample=im.Resampling.BILINEAR)\n",
    "                # 50% chance to expand or shrink an image in either of two dimensions\n",
    "                if random % 2 == 0: \n",
    "                    img = resize(image=img,\n",
    "                                 what=\"width\" if abs(random) <= 25 else \"height\",\n",
    "                                 how_much=(120 + random) / 100)\n",
    "                img.save(f\"{font_specific_path}/{word}.png\")\n",
    "f()"
   ]
  },
  {
   "cell_type": "code",
   "execution_count": 21,
   "id": "b33a51a5",
   "metadata": {},
   "outputs": [
    {
     "data": {
      "image/png": "[encoded data removed]",
      "text/plain": [
       "<PIL.Image.Image image mode=RGBA size=30x45>"
      ]
     },
     "execution_count": 21,
     "metadata": {},
     "output_type": "execute_result"
    }
   ],
   "source": [
    "font = ImageFont.truetype(ttfs[0],64)\n",
    "img  = im.new(\"RGBA\", (500,100),(255,255,255))\n",
    "draw = ImageDraw.Draw(img)\n",
    "\n",
    "f,s,t = tuple(\"бцц\")\n",
    "draw.text((22, 22), f\"{f}{s}{t}\",(49, 76, 175),font=font)\n",
    "img = put_in_a_box(img)\n",
    "\n",
    "l, r = img.width - w[s] - w[t], img.width - w[t]\n",
    "img.crop((l, 0, r, img.height))\n",
    "# img"
   ]
  },
  {
   "cell_type": "code",
   "execution_count": null,
   "id": "198d322c",
   "metadata": {},
   "outputs": [],
   "source": [
    "\n",
    "\n",
    "\n",
    "\n",
    "\n",
    "\n",
    "\n",
    "\n",
    "\n",
    "\n",
    "\n",
    "\n",
    "\n",
    "\n",
    "\n",
    "\n",
    "\n",
    "\n",
    "\n",
    "\n",
    "\n",
    "\n",
    "\n",
    "\n",
    "\n",
    "\n",
    "\n",
    "\n",
    "\n",
    "\n",
    "\n",
    "\n"
   ]
  }
 ],
 "metadata": {
  "kernelspec": {
   "display_name": "cv",
   "language": "python",
   "name": "cv"
  },
  "language_info": {
   "codemirror_mode": {
    "name": "ipython",
    "version": 3
   },
   "file_extension": ".py",
   "mimetype": "text/x-python",
   "name": "python",
   "nbconvert_exporter": "python",
   "pygments_lexer": "ipython3",
   "version": "3.10.4"
  }
 },
 "nbformat": 4,
 "nbformat_minor": 5
}
