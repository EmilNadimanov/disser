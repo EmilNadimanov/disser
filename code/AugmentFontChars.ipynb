{
 "cells": [
  {
   "cell_type": "code",
   "execution_count": 1,
   "id": "afb7949a",
   "metadata": {},
   "outputs": [],
   "source": [
    "import os\n",
    "import re\n",
    "import matplotlib.pyplot as plt\n",
    "import numpy as np\n",
    "from PIL import Image as im, ImageDraw, ImageFont\n",
    "import PIL\n",
    "from glob import glob\n",
    "from utils import add_margin, expand2square, put_in_a_box, binarize\n",
    "from tqdm import tqdm\n",
    "\n",
    "from typing import *"
   ]
  },
  {
   "cell_type": "code",
   "execution_count": 67,
   "id": "e5ab08b8",
   "metadata": {},
   "outputs": [],
   "source": [
    "PATH_TO_FONT_CHARS = \"../formatted_data/chars_images/chars\"\n",
    "PATH_TO_AUGMENTED_CHARS = \"../formatted_data/dataset_lowercase_labels_and_punct\"\n",
    "\n",
    "ttfs = glob(\"ttfs/*.ttf\")\n",
    "\n",
    "LOWERCASE = \"абвгдеёжзийклмнопрстуфхцчшщъыьэюя\"\n",
    "UPPERCASE = LOWERCASE.upper().replace(\"Ъ\", '')"
   ]
  },
  {
   "cell_type": "code",
   "execution_count": 68,
   "id": "5c2eb7cd",
   "metadata": {},
   "outputs": [],
   "source": [
    "for l in list(LOWERCASE) + [\"trash\"]:\n",
    "    os.makedirs(f\"{PATH_TO_AUGMENTED_CHARS}/{l}\", exist_ok=1)\n",
    "    "
   ]
  },
  {
   "cell_type": "code",
   "execution_count": 69,
   "id": "bd992568",
   "metadata": {},
   "outputs": [],
   "source": [
    "# class Char:\n",
    "#     def __init__(self, path: str):\n",
    "#         self.path = path\n",
    "#         self.image = im.open(path)\n",
    "        \n",
    "#         split = os.path.normpath(path).split(os.path.sep)\n",
    "#         self.name = split[-1].replace(\".png\", \"\")\n",
    "#         self.font = split[-2]\n"
   ]
  },
  {
   "cell_type": "code",
   "execution_count": 70,
   "id": "82a29423",
   "metadata": {},
   "outputs": [],
   "source": [
    "# fonts = os.listdir(PATH_TO_FONT_CHARS)\n",
    "# chars_dict = {font: glob(f\"{PATH_TO_FONT_CHARS}/{font}/*\") for font in fonts}\n",
    "# for k, v in chars_dict.items():\n",
    "#     chars = []\n",
    "#     for char in v:\n",
    "#         chars.append(Char(char))\n",
    "#     chars_dict[k] = chars"
   ]
  },
  {
   "cell_type": "code",
   "execution_count": 71,
   "id": "f4580667",
   "metadata": {},
   "outputs": [],
   "source": [
    "def convert_png_transparent(image, bg_color=(255,255,255)):\n",
    "    array = np.array(image, dtype=np.ubyte)\n",
    "    mask = (array[:,:,:3] == bg_color).all(axis=2)\n",
    "    alpha = np.where(mask, 0, 255)\n",
    "    array[:,:,-1] = alpha\n",
    "    return im.fromarray(np.ubyte(array))\n",
    "\n",
    "def get_dominant_color(img):\n",
    "    palette_size = 2\n",
    "    # Resize image to speed up processing\n",
    "    #img = convert_png_transparent(pil_img.copy())\n",
    "    img.thumbnail((100, 100))\n",
    "\n",
    "    # Reduce colors (uses k-means internally)\n",
    "    paletted = img.convert('P', palette=im.ADAPTIVE, colors=palette_size)\n",
    "\n",
    "    # Find the color that occurs most often\n",
    "    palette = paletted.getpalette()\n",
    "    color_counts = sorted(paletted.getcolors(), reverse=False)\n",
    "    palette_index = color_counts[0][1]\n",
    "    dominant_color = palette[palette_index*3:palette_index*3+3]\n",
    "    dominant_color.append(255)\n",
    "\n",
    "    return tuple(dominant_color)\n",
    "\n",
    "def expand(img, top=0, right=0, bottom=0, left=0):\n",
    "    return add_margin(\n",
    "             expand2square(img),\n",
    "             top=top,\n",
    "             bottom=bottom,\n",
    "             left=left,\n",
    "             right=right\n",
    "           )\n",
    "\n",
    "def rotate(degree, image):\n",
    "    return image.rotate(degree, expand=True, fillcolor=(255,255,255), resample=PIL.Image.Resampling.BICUBIC)\n",
    "\n",
    "def closest_to(char_image, coord: Tuple[int, int]):\n",
    "    bin_img = binarize(char_image)\n",
    "    h, w = char_image.size\n",
    "    distances = list()\n",
    "    for r_idx in range(w):\n",
    "        for c_idx in range(h):\n",
    "            if bin_img[r_idx, c_idx] > 0.5:\n",
    "                distance = euclideanDistance(coord, (r_idx, c_idx))\n",
    "                distances.append((r_idx, c_idx, distance))\n",
    "    return min(distances, key=lambda entry: entry[2])[:2]\n",
    "\n",
    "def resize(image: \"Image\", what: str, how_much: float):\n",
    "    w,h = image.width, image.height\n",
    "    if what == 'width':  return image.resize((round(w * how_much), h))\n",
    "    if what == 'height': return image.resize((w, round(h * how_much)))\n",
    "    raise AssertionError(f\"`what` must be either \\\"width\\\" or \\\"height\\\", not {what}\")\n",
    "    \n",
    "def euclideanDistance(coordinate1, coordinate2):\n",
    "    return pow(pow(coordinate1[0] - coordinate2[0], 2) + pow(coordinate1[1] - coordinate2[1], 2), .5)\n",
    "\n",
    "def fill_background_png(image):\n",
    "    fill_color = (255,255,255)  # your new background color\n",
    "    if image.mode in ('RGBA', 'LA'):\n",
    "        background = im.new(image.mode[:-1], image.size, fill_color)\n",
    "        background.paste(image, image.split()[-1]) # omit transparency\n",
    "        image = background\n",
    "    return image\n",
    "\n",
    "def write(font, word):\n",
    "    font = ImageFont.truetype(font,64)\n",
    "    img  = im.new(\"RGBA\", (500,150),(255,255,255))\n",
    "    ImageDraw.Draw(img).text((22, 22), word,(49, 76, 175), font=font)\n",
    "    return put_in_a_box(img)"
   ]
  },
  {
   "cell_type": "code",
   "execution_count": 72,
   "id": "2dfcac48",
   "metadata": {},
   "outputs": [],
   "source": [
    "\"\"\" MOVING UP AND DOWN \"\"\"\n",
    "def move_up_and_down(save_path, pool):\n",
    "    for font in ttfs:\n",
    "        fontname = os.path.basename(font).replace(\".ttf\", '')\n",
    "        for letter in pool:\n",
    "            char = write(font, letter)\n",
    "            for margin, side in [(m, side) for m in range(5,16,3) for side in \"rltb\"]:\n",
    "                if side == \"l\":\n",
    "                    image = expand(char, left=margin)\n",
    "                elif side == \"r\":\n",
    "                    image = expand(char, right=margin)\n",
    "                elif side == \"t\":\n",
    "                    image = expand(char, top=margin)\n",
    "                elif side == \"b\":\n",
    "                    image = expand(char, bottom=margin)\n",
    "                image.convert(\"RGB\").save(f\"{save_path}/{letter.lower()}/{letter}_{fontname}_{side}{margin}.jpg\")\n",
    "\n",
    "move_up_and_down(PATH_TO_AUGMENTED_CHARS, LOWERCASE+UPPERCASE)"
   ]
  },
  {
   "cell_type": "code",
   "execution_count": 73,
   "id": "9bd133c3",
   "metadata": {},
   "outputs": [],
   "source": [
    "\"\"\" ROTATION FROM -40° to 40° \"\"\"\n",
    "def rotation_augment(save_path, pool):\n",
    "    for font in ttfs:\n",
    "        fontname = os.path.basename(font).replace(\".ttf\", '')\n",
    "        for letter in pool:\n",
    "            char = write(font, letter)\n",
    "            for degree in range(-20, 41, 5):\n",
    "                image = rotate(degree, char)\n",
    "                image.convert(\"RGB\").save(f\"{save_path}/{letter.lower()}/{fontname}_{letter}_{degree}.jpg\")\n",
    "rotation_augment(PATH_TO_AUGMENTED_CHARS, LOWERCASE+UPPERCASE)"
   ]
  },
  {
   "cell_type": "code",
   "execution_count": 74,
   "id": "1730e87a",
   "metadata": {},
   "outputs": [],
   "source": [
    "# goes up and right from here\n",
    "right_bottom_spot = lambda image: (closest_to(image, (image.height, image.width)), {\"x\": 100, \"y\": -30})\n",
    "# goes down and right from here\n",
    "right_top_spot = lambda image: (closest_to(image, (0, image.height)), {\"x\": 100, \"y\": 30})\n",
    "\n",
    "# goes up and rigth from here\n",
    "left_bottom_spot = lambda image: (closest_to(image, (image.width, 0)), {\"x\": 100, \"y\": -30})\n",
    "# goes down and left from here\n",
    "left_top_spot = lambda image: (closest_to(image, (0,0)), {\"x\": -100, \"y\": 30})"
   ]
  },
  {
   "cell_type": "code",
   "execution_count": 75,
   "id": "d39a05ca",
   "metadata": {},
   "outputs": [
    {
     "name": "stderr",
     "output_type": "stream",
     "text": [
      "/tmp/ipykernel_2824223/424961048.py:15: DeprecationWarning: ADAPTIVE is deprecated and will be removed in Pillow 10 (2023-07-01). Use Palette.ADAPTIVE instead.\n",
      "  paletted = img.convert('P', palette=im.ADAPTIVE, colors=palette_size)\n"
     ]
    }
   ],
   "source": [
    "\"\"\" CONNECTED CHARS \"\"\"\n",
    "def connected_chars(save_path, pool):\n",
    "    for font in ttfs:\n",
    "        fontname = os.path.basename(font).replace(\".ttf\", '')\n",
    "        for letter in pool:\n",
    "            char = write(font, letter)\n",
    "            dominant = get_dominant_color(char)\n",
    "            \n",
    "            # left_top from prev\n",
    "            char_copy = char.copy()\n",
    "            draw = ImageDraw.Draw(char_copy) \n",
    "            (y, x), destination = left_top_spot(char_copy)\n",
    "            draw.line((x,y, x+destination[\"x\"],y+destination[\"y\"]), fill=dominant, width=3, joint=\"curve\")     \n",
    "            char_copy.convert(\"RGB\").save(f\"{save_path}/{letter.lower()}/{fontname}_{letter}_lt.jpg\")\n",
    "\n",
    "            # right_top to next\n",
    "            char_copy = char.copy()\n",
    "            draw = ImageDraw.Draw(char_copy)\n",
    "            (y, x), destination = right_top_spot(char_copy)\n",
    "            draw.line((x,y, x+destination[\"x\"],y+destination[\"y\"]), fill=dominant, width=3, joint=\"curve\")\n",
    "            char_copy.convert(\"RGB\").save(f\"{save_path}/{letter.lower()}/{fontname}_{letter}_rt.jpg\")\n",
    "\n",
    "            # right_bottom to next\n",
    "            char_copy = char.copy()\n",
    "            draw = ImageDraw.Draw(char_copy) \n",
    "            (y, x), destination = right_bottom_spot(char_copy)\n",
    "            draw.line((x,y, x+destination[\"x\"],y+destination[\"y\"]), fill=dominant, width=3, joint=\"curve\")\n",
    "            char_copy.convert(\"RGB\").save(f\"{save_path}/{letter.lower()}/{fontname}_{letter}_rb.jpg\")\n",
    "\n",
    "            # left_bottom to next\n",
    "            char_copy = char.copy()\n",
    "            draw = ImageDraw.Draw(char_copy) \n",
    "            (y, x), destination = left_bottom_spot(char_copy)\n",
    "            draw.line((x,y, x+destination[\"x\"],y+destination[\"y\"]), fill=dominant, width=3, joint=\"curve\")\n",
    "            char_copy.convert(\"RGB\").save(f\"{save_path}/{letter.lower()}/{fontname}_{letter}_lb.jpg\")\n",
    "\n",
    "connected_chars(PATH_TO_AUGMENTED_CHARS, LOWERCASE+UPPERCASE)"
   ]
  },
  {
   "cell_type": "code",
   "execution_count": 76,
   "id": "1ce7c064",
   "metadata": {},
   "outputs": [],
   "source": [
    "\"\"\" RESIZED, i.e. squashed or extended\"\"\"\n",
    "def resized_augment(save_path, pool):\n",
    "    for font in ttfs:\n",
    "        fontname = os.path.basename(font).replace(\".ttf\", '')\n",
    "        for letter in pool:\n",
    "            char = write(font, letter)\n",
    "            w, h = char.size\n",
    "            resize(char, \"width\",  1.2).convert(\"RGB\").save(f\"{save_path}/{letter.lower()}/{letter}_{fontname}_20%wider.jpg\")\n",
    "            resize(char, \"width\",  1.4).convert(\"RGB\").save(f\"{save_path}/{letter.lower()}/{letter}_{fontname}_40%wider.jpg\")\n",
    "            resize(char, \"width\",  1.6).convert(\"RGB\").save(f\"{save_path}/{letter.lower()}/{letter}_{fontname}_60%wider.jpg\")\n",
    "            resize(char, \"width\",  1.8).convert(\"RGB\").save(f\"{save_path}/{letter.lower()}/{letter}_{fontname}_80%wider.jpg\")\n",
    "            resize(char, \"width\",   .8).convert(\"RGB\").save(f\"{save_path}/{letter.lower()}/{letter}_{fontname}_20%narrower.jpg\")\n",
    "            resize(char, \"width\",   .6).convert(\"RGB\").save(f\"{save_path}/{letter.lower()}/{letter}_{fontname}_40%narrower.jpg\")\n",
    "            resize(char, \"width\",   .5).convert(\"RGB\").save(f\"{save_path}/{letter.lower()}/{letter}_{fontname}_50%narrower.jpg\")\n",
    "            resize(char, \"height\", 1.2).convert(\"RGB\").save(f\"{save_path}/{letter.lower()}/{letter}_{fontname}_20%higher.jpg\")\n",
    "            resize(char, \"height\", 1.4).convert(\"RGB\").save(f\"{save_path}/{letter.lower()}/{letter}_{fontname}_40%higher.jpg\")\n",
    "            resize(char, \"height\", 1.6).convert(\"RGB\").save(f\"{save_path}/{letter.lower()}/{letter}_{fontname}_60%higher.jpg\")\n",
    "            resize(char, \"height\", 1.8).convert(\"RGB\").save(f\"{save_path}/{letter.lower()}/{letter}_{fontname}_80%higher.jpg\")\n",
    "            resize(char, \"height\",  .8).convert(\"RGB\").save(f\"{save_path}/{letter.lower()}/{letter}_{fontname}_20%shorter.jpg\")\n",
    "            resize(char, \"height\",  .6).convert(\"RGB\").save(f\"{save_path}/{letter.lower()}/{letter}_{fontname}_40%shorter.jpg\")\n",
    "            resize(char, \"height\",  .4).convert(\"RGB\").save(f\"{save_path}/{letter.lower()}/{letter}_{fontname}_60%shorter.jpg\")\n",
    "            \n",
    "resized_augment(PATH_TO_AUGMENTED_CHARS, LOWERCASE+UPPERCASE)"
   ]
  },
  {
   "cell_type": "markdown",
   "id": "97854ff6",
   "metadata": {},
   "source": [
    "Создаём фейковые изображения символов в связке с соседними символами и называем это умным словом \"аугментация\""
   ]
  },
  {
   "cell_type": "code",
   "execution_count": 77,
   "id": "fb75341d",
   "metadata": {},
   "outputs": [],
   "source": [
    "def width_of(font, word):\n",
    "    return write(font, word).width"
   ]
  },
  {
   "cell_type": "code",
   "execution_count": 78,
   "id": "da27122e",
   "metadata": {},
   "outputs": [
    {
     "name": "stdout",
     "output_type": "stream",
     "text": [
      "Abram\n"
     ]
    },
    {
     "name": "stderr",
     "output_type": "stream",
     "text": [
      "100%|████████████████████████████████████████████████████████████████████████████████████████████████████████████████████████████████████████████████████████████████████████████████████████████████████████████████████████████████████████████| 33/33 [00:31<00:00,  1.05it/s]\n"
     ]
    },
    {
     "name": "stdout",
     "output_type": "stream",
     "text": [
      "Propisi\n"
     ]
    },
    {
     "name": "stderr",
     "output_type": "stream",
     "text": [
      "100%|████████████████████████████████████████████████████████████████████████████████████████████████████████████████████████████████████████████████████████████████████████████████████████████████████████████████████████████████████████████| 33/33 [00:29<00:00,  1.11it/s]\n"
     ]
    },
    {
     "name": "stdout",
     "output_type": "stream",
     "text": [
      "Gogol\n"
     ]
    },
    {
     "name": "stderr",
     "output_type": "stream",
     "text": [
      "100%|████████████████████████████████████████████████████████████████████████████████████████████████████████████████████████████████████████████████████████████████████████████████████████████████████████████████████████████████████████████| 33/33 [00:29<00:00,  1.11it/s]\n"
     ]
    },
    {
     "name": "stdout",
     "output_type": "stream",
     "text": [
      "Pag\n"
     ]
    },
    {
     "name": "stderr",
     "output_type": "stream",
     "text": [
      "100%|████████████████████████████████████████████████████████████████████████████████████████████████████████████████████████████████████████████████████████████████████████████████████████████████████████████████████████████████████████████| 33/33 [00:29<00:00,  1.12it/s]\n"
     ]
    },
    {
     "name": "stdout",
     "output_type": "stream",
     "text": [
      "Capuletty\n"
     ]
    },
    {
     "name": "stderr",
     "output_type": "stream",
     "text": [
      "100%|████████████████████████████████████████████████████████████████████████████████████████████████████████████████████████████████████████████████████████████████████████████████████████████████████████████████████████████████████████████| 33/33 [00:29<00:00,  1.13it/s]\n"
     ]
    },
    {
     "name": "stdout",
     "output_type": "stream",
     "text": [
      "Nexa_Script\n"
     ]
    },
    {
     "name": "stderr",
     "output_type": "stream",
     "text": [
      "100%|████████████████████████████████████████████████████████████████████████████████████████████████████████████████████████████████████████████████████████████████████████████████████████████████████████████████████████████████████████████| 33/33 [00:31<00:00,  1.04it/s]\n"
     ]
    },
    {
     "name": "stdout",
     "output_type": "stream",
     "text": [
      "Eskal\n"
     ]
    },
    {
     "name": "stderr",
     "output_type": "stream",
     "text": [
      "100%|████████████████████████████████████████████████████████████████████████████████████████████████████████████████████████████████████████████████████████████████████████████████████████████████████████████████████████████████████████████| 33/33 [00:28<00:00,  1.15it/s]\n"
     ]
    },
    {
     "name": "stdout",
     "output_type": "stream",
     "text": [
      "Rozovii_Chulok\n"
     ]
    },
    {
     "name": "stderr",
     "output_type": "stream",
     "text": [
      "100%|████████████████████████████████████████████████████████████████████████████████████████████████████████████████████████████████████████████████████████████████████████████████████████████████████████████████████████████████████████████| 33/33 [00:29<00:00,  1.13it/s]\n"
     ]
    },
    {
     "name": "stdout",
     "output_type": "stream",
     "text": [
      "Salavat\n"
     ]
    },
    {
     "name": "stderr",
     "output_type": "stream",
     "text": [
      "100%|████████████████████████████████████████████████████████████████████████████████████████████████████████████████████████████████████████████████████████████████████████████████████████████████████████████████████████████████████████████| 33/33 [00:28<00:00,  1.14it/s]\n"
     ]
    },
    {
     "name": "stdout",
     "output_type": "stream",
     "text": [
      "Benvolio\n"
     ]
    },
    {
     "name": "stderr",
     "output_type": "stream",
     "text": [
      "100%|████████████████████████████████████████████████████████████████████████████████████████████████████████████████████████████████████████████████████████████████████████████████████████████████████████████████████████████████████████████| 33/33 [00:28<00:00,  1.16it/s]\n"
     ]
    },
    {
     "name": "stdout",
     "output_type": "stream",
     "text": [
      "Lorenco\n"
     ]
    },
    {
     "name": "stderr",
     "output_type": "stream",
     "text": [
      "100%|████████████████████████████████████████████████████████████████████████████████████████████████████████████████████████████████████████████████████████████████████████████████████████████████████████████████████████████████████████████| 33/33 [00:28<00:00,  1.15it/s]\n"
     ]
    },
    {
     "name": "stdout",
     "output_type": "stream",
     "text": [
      "Montekky\n"
     ]
    },
    {
     "name": "stderr",
     "output_type": "stream",
     "text": [
      "100%|████████████████████████████████████████████████████████████████████████████████████████████████████████████████████████████████████████████████████████████████████████████████████████████████████████████████████████████████████████████| 33/33 [00:29<00:00,  1.13it/s]\n"
     ]
    },
    {
     "name": "stdout",
     "output_type": "stream",
     "text": [
      "Denistina\n"
     ]
    },
    {
     "name": "stderr",
     "output_type": "stream",
     "text": [
      "100%|████████████████████████████████████████████████████████████████████████████████████████████████████████████████████████████████████████████████████████████████████████████████████████████████████████████████████████████████████████████| 33/33 [00:29<00:00,  1.12it/s]\n"
     ]
    },
    {
     "name": "stdout",
     "output_type": "stream",
     "text": [
      "Tibalt\n"
     ]
    },
    {
     "name": "stderr",
     "output_type": "stream",
     "text": [
      "100%|████████████████████████████████████████████████████████████████████████████████████████████████████████████████████████████████████████████████████████████████████████████████████████████████████████████████████████████████████████████| 33/33 [00:28<00:00,  1.14it/s]\n"
     ]
    }
   ],
   "source": [
    "\"\"\" SIMULATING A CONTEXT FOR A CHAR \"\"\"\n",
    "def simulate(save_path,\n",
    "             target_char_pool=LOWERCASE,\n",
    "             left_neighbor_pool=LOWERCASE,\n",
    "             right_neighbor_pool=LOWERCASE,\n",
    "             simulations_per_char=33,\n",
    "             description='simulation'):\n",
    "    for font in ttfs:\n",
    "        fontname = os.path.basename(font).replace(\".ttf\", '')\n",
    "        print(fontname)\n",
    "        for s in tqdm(target_char_pool):\n",
    "            for idx in range(1,simulations_per_char):\n",
    "                random = np.random.randint(-50, 50)\n",
    "                \n",
    "                f = left_neighbor_pool[random % idx % len(left_neighbor_pool)]\n",
    "                t = right_neighbor_pool[-random % idx % len(right_neighbor_pool)]\n",
    "                word = f\"{f}{s}{t}\"\n",
    "\n",
    "                img = write(font, word)\n",
    "\n",
    "                l = img.width - width_of(font, f\"{s+t}\")\n",
    "                r = width_of(font, f\"{f+s}\")\n",
    "                s_itself = width_of(font, s)\n",
    "                \n",
    "                # widen the borders so that the second letter certainly fits in\n",
    "                if s_itself - 2 <= r - l <= s_itself + 2:\n",
    "                    l, r = l-5, r+5\n",
    "                img = img.crop((l, 0, r, img.height))\n",
    "                \n",
    "                ## Applying mutations to widen the variety of images\n",
    "                # 40% chance to rotate\n",
    "                if 15 <= abs(random) <= 35:\n",
    "                    img = rotate(random // 2, img)\n",
    "                # 50% chance to expand or shrink an image in either of two dimensions\n",
    "                if random % 2 == 0: \n",
    "                    img = resize(image=img,\n",
    "                                 what=\"width\" if abs(random) <= 25 else \"height\",\n",
    "                                 how_much=(120 + random) / 100)\n",
    "                fill_background_png(img).convert('RGB').save(f\"{save_path}/{s.lower()}/{s}_{fontname}_{word}.jpg\")\n",
    "                \n",
    "simulate(PATH_TO_AUGMENTED_CHARS)"
   ]
  },
  {
   "cell_type": "code",
   "execution_count": 85,
   "id": "63dd9a5e",
   "metadata": {},
   "outputs": [
    {
     "name": "stdout",
     "output_type": "stream",
     "text": [
      "Abram\n"
     ]
    },
    {
     "name": "stderr",
     "output_type": "stream",
     "text": [
      "100%|██████████████████████████████████████████████████████████████████████████████████████████████████████████████████████████████████████████████████████████████████████████████████████████████████████████████████████████████████████████████| 7/7 [00:09<00:00,  1.42s/it]\n"
     ]
    },
    {
     "name": "stdout",
     "output_type": "stream",
     "text": [
      "Propisi\n"
     ]
    },
    {
     "name": "stderr",
     "output_type": "stream",
     "text": [
      "100%|██████████████████████████████████████████████████████████████████████████████████████████████████████████████████████████████████████████████████████████████████████████████████████████████████████████████████████████████████████████████| 7/7 [00:10<00:00,  1.48s/it]\n"
     ]
    },
    {
     "name": "stdout",
     "output_type": "stream",
     "text": [
      "Gogol\n"
     ]
    },
    {
     "name": "stderr",
     "output_type": "stream",
     "text": [
      "100%|██████████████████████████████████████████████████████████████████████████████████████████████████████████████████████████████████████████████████████████████████████████████████████████████████████████████████████████████████████████████| 7/7 [00:09<00:00,  1.40s/it]\n"
     ]
    },
    {
     "name": "stdout",
     "output_type": "stream",
     "text": [
      "Pag\n"
     ]
    },
    {
     "name": "stderr",
     "output_type": "stream",
     "text": [
      "100%|██████████████████████████████████████████████████████████████████████████████████████████████████████████████████████████████████████████████████████████████████████████████████████████████████████████████████████████████████████████████| 7/7 [00:10<00:00,  1.43s/it]\n"
     ]
    },
    {
     "name": "stdout",
     "output_type": "stream",
     "text": [
      "Capuletty\n"
     ]
    },
    {
     "name": "stderr",
     "output_type": "stream",
     "text": [
      "100%|██████████████████████████████████████████████████████████████████████████████████████████████████████████████████████████████████████████████████████████████████████████████████████████████████████████████████████████████████████████████| 7/7 [00:09<00:00,  1.42s/it]\n"
     ]
    },
    {
     "name": "stdout",
     "output_type": "stream",
     "text": [
      "Nexa_Script\n"
     ]
    },
    {
     "name": "stderr",
     "output_type": "stream",
     "text": [
      "100%|██████████████████████████████████████████████████████████████████████████████████████████████████████████████████████████████████████████████████████████████████████████████████████████████████████████████████████████████████████████████| 7/7 [00:11<00:00,  1.58s/it]\n"
     ]
    },
    {
     "name": "stdout",
     "output_type": "stream",
     "text": [
      "Eskal\n"
     ]
    },
    {
     "name": "stderr",
     "output_type": "stream",
     "text": [
      "100%|██████████████████████████████████████████████████████████████████████████████████████████████████████████████████████████████████████████████████████████████████████████████████████████████████████████████████████████████████████████████| 7/7 [00:09<00:00,  1.41s/it]\n"
     ]
    },
    {
     "name": "stdout",
     "output_type": "stream",
     "text": [
      "Rozovii_Chulok\n"
     ]
    },
    {
     "name": "stderr",
     "output_type": "stream",
     "text": [
      "100%|██████████████████████████████████████████████████████████████████████████████████████████████████████████████████████████████████████████████████████████████████████████████████████████████████████████████████████████████████████████████| 7/7 [00:09<00:00,  1.40s/it]\n"
     ]
    },
    {
     "name": "stdout",
     "output_type": "stream",
     "text": [
      "Salavat\n"
     ]
    },
    {
     "name": "stderr",
     "output_type": "stream",
     "text": [
      "100%|██████████████████████████████████████████████████████████████████████████████████████████████████████████████████████████████████████████████████████████████████████████████████████████████████████████████████████████████████████████████| 7/7 [00:09<00:00,  1.41s/it]\n"
     ]
    },
    {
     "name": "stdout",
     "output_type": "stream",
     "text": [
      "Benvolio\n"
     ]
    },
    {
     "name": "stderr",
     "output_type": "stream",
     "text": [
      "100%|██████████████████████████████████████████████████████████████████████████████████████████████████████████████████████████████████████████████████████████████████████████████████████████████████████████████████████████████████████████████| 7/7 [00:10<00:00,  1.45s/it]\n"
     ]
    },
    {
     "name": "stdout",
     "output_type": "stream",
     "text": [
      "Lorenco\n"
     ]
    },
    {
     "name": "stderr",
     "output_type": "stream",
     "text": [
      "100%|██████████████████████████████████████████████████████████████████████████████████████████████████████████████████████████████████████████████████████████████████████████████████████████████████████████████████████████████████████████████| 7/7 [00:09<00:00,  1.41s/it]\n"
     ]
    },
    {
     "name": "stdout",
     "output_type": "stream",
     "text": [
      "Montekky\n"
     ]
    },
    {
     "name": "stderr",
     "output_type": "stream",
     "text": [
      "100%|██████████████████████████████████████████████████████████████████████████████████████████████████████████████████████████████████████████████████████████████████████████████████████████████████████████████████████████████████████████████| 7/7 [00:10<00:00,  1.43s/it]\n"
     ]
    },
    {
     "name": "stdout",
     "output_type": "stream",
     "text": [
      "Denistina\n"
     ]
    },
    {
     "name": "stderr",
     "output_type": "stream",
     "text": [
      "100%|██████████████████████████████████████████████████████████████████████████████████████████████████████████████████████████████████████████████████████████████████████████████████████████████████████████████████████████████████████████████| 7/7 [00:10<00:00,  1.45s/it]\n"
     ]
    },
    {
     "name": "stdout",
     "output_type": "stream",
     "text": [
      "Tibalt\n"
     ]
    },
    {
     "name": "stderr",
     "output_type": "stream",
     "text": [
      "100%|██████████████████████████████████████████████████████████████████████████████████████████████████████████████████████████████████████████████████████████████████████████████████████████████████████████████████████████████████████████████| 7/7 [00:09<00:00,  1.40s/it]\n"
     ]
    }
   ],
   "source": [
    "\"\"\" PUNCTUTATION MARKS \"\"\"\n",
    "\n",
    "left_neighbor_pool= re.sub(\"[вбзуд]\", \"\", LOWERCASE)\n",
    "target_char_pool=\"-:,….!?\"\n",
    "names = {\n",
    "    ',': \"coma\",\n",
    "    \":\": \"colon\",\n",
    "    \".\": \"dot\",\n",
    "    \"-\": \"dash\",\n",
    "    \"?\": \"q_mark\",\n",
    "    \"!\": \"e_mark\",\n",
    "    \"…\": \"tridot\",\n",
    "}\n",
    "\n",
    "def punctutaion_aug(save_path, pool):\n",
    "    for font in ttfs:\n",
    "        fontname = os.path.basename(font).replace(\".ttf\", '')\n",
    "        print(fontname)\n",
    "        for s in tqdm(target_char_pool):\n",
    "            subdir = names[s]\n",
    "            os.makedirs(f\"{save_path}/{subdir}\", exist_ok=1)\n",
    "            for idx in range(1,70):\n",
    "                try:\n",
    "                    random = np.random.randint(-50, 50)\n",
    "\n",
    "                    f = left_neighbor_pool[random % len(left_neighbor_pool)]\n",
    "                    word = f\"{f}{s} \"\n",
    "\n",
    "                    img = write(font, word)\n",
    "\n",
    "                    l = img.width - width_of(font, f\"{s} \") - 3\n",
    "                    r = width_of(font, f\"{f+s}\") + 3\n",
    "                    img = img.crop((l, 0, r, img.height))\n",
    "\n",
    "                    ## Applying mutations to widen the variety of images\n",
    "                    # 40% chance to rotate\n",
    "                    if 15 <= abs(random) <= 35:\n",
    "                        img = rotate(random // 2, img)\n",
    "                    # 50% chance to expand or shrink an image in either of two dimensions\n",
    "                    if random % 2 == 0: \n",
    "                        img = resize(image=img,\n",
    "                                     what=\"width\" if abs(random) >= 25 else \"height\",\n",
    "                                     how_much=(140 + random*0.8) / 100)\n",
    "                    fill_background_png(img).convert('RGB').save(f\"{save_path}/{subdir}/{s}_{fontname}_{idx}.jpg\")\n",
    "                except Exception as e:\n",
    "                    pass\n",
    "\n",
    "punctutaion_aug(PATH_TO_AUGMENTED_CHARS, target_char_pool)"
   ]
  },
  {
   "cell_type": "code",
   "execution_count": 84,
   "id": "b33a51a5",
   "metadata": {},
   "outputs": [
    {
     "name": "stdout",
     "output_type": "stream",
     "text": [
      "Abram\n"
     ]
    },
    {
     "name": "stderr",
     "output_type": "stream",
     "text": [
      "100%|████████████████████████████████████████████████████████████████████████████████████████████████████████████████████████████████████████████████████████████████████████████████████████████████████████████████████████████████████████████| 33/33 [00:00<00:00, 46.62it/s]\n"
     ]
    },
    {
     "name": "stdout",
     "output_type": "stream",
     "text": [
      "Propisi\n"
     ]
    },
    {
     "name": "stderr",
     "output_type": "stream",
     "text": [
      "100%|████████████████████████████████████████████████████████████████████████████████████████████████████████████████████████████████████████████████████████████████████████████████████████████████████████████████████████████████████████████| 33/33 [00:00<00:00, 45.38it/s]\n"
     ]
    },
    {
     "name": "stdout",
     "output_type": "stream",
     "text": [
      "Gogol\n"
     ]
    },
    {
     "name": "stderr",
     "output_type": "stream",
     "text": [
      "100%|████████████████████████████████████████████████████████████████████████████████████████████████████████████████████████████████████████████████████████████████████████████████████████████████████████████████████████████████████████████| 33/33 [00:00<00:00, 43.83it/s]\n"
     ]
    },
    {
     "name": "stdout",
     "output_type": "stream",
     "text": [
      "Pag\n"
     ]
    },
    {
     "name": "stderr",
     "output_type": "stream",
     "text": [
      "100%|████████████████████████████████████████████████████████████████████████████████████████████████████████████████████████████████████████████████████████████████████████████████████████████████████████████████████████████████████████████| 33/33 [00:00<00:00, 45.94it/s]\n"
     ]
    },
    {
     "name": "stdout",
     "output_type": "stream",
     "text": [
      "Capuletty\n"
     ]
    },
    {
     "name": "stderr",
     "output_type": "stream",
     "text": [
      "100%|████████████████████████████████████████████████████████████████████████████████████████████████████████████████████████████████████████████████████████████████████████████████████████████████████████████████████████████████████████████| 33/33 [00:00<00:00, 44.88it/s]\n"
     ]
    },
    {
     "name": "stdout",
     "output_type": "stream",
     "text": [
      "Nexa_Script\n"
     ]
    },
    {
     "name": "stderr",
     "output_type": "stream",
     "text": [
      "100%|████████████████████████████████████████████████████████████████████████████████████████████████████████████████████████████████████████████████████████████████████████████████████████████████████████████████████████████████████████████| 33/33 [00:00<00:00, 41.58it/s]\n"
     ]
    },
    {
     "name": "stdout",
     "output_type": "stream",
     "text": [
      "Eskal\n"
     ]
    },
    {
     "name": "stderr",
     "output_type": "stream",
     "text": [
      "100%|████████████████████████████████████████████████████████████████████████████████████████████████████████████████████████████████████████████████████████████████████████████████████████████████████████████████████████████████████████████| 33/33 [00:00<00:00, 46.42it/s]\n"
     ]
    },
    {
     "name": "stdout",
     "output_type": "stream",
     "text": [
      "Rozovii_Chulok\n"
     ]
    },
    {
     "name": "stderr",
     "output_type": "stream",
     "text": [
      "100%|████████████████████████████████████████████████████████████████████████████████████████████████████████████████████████████████████████████████████████████████████████████████████████████████████████████████████████████████████████████| 33/33 [00:00<00:00, 44.96it/s]\n"
     ]
    },
    {
     "name": "stdout",
     "output_type": "stream",
     "text": [
      "Salavat\n"
     ]
    },
    {
     "name": "stderr",
     "output_type": "stream",
     "text": [
      "100%|████████████████████████████████████████████████████████████████████████████████████████████████████████████████████████████████████████████████████████████████████████████████████████████████████████████████████████████████████████████| 33/33 [00:00<00:00, 46.58it/s]\n"
     ]
    },
    {
     "name": "stdout",
     "output_type": "stream",
     "text": [
      "Benvolio\n"
     ]
    },
    {
     "name": "stderr",
     "output_type": "stream",
     "text": [
      "100%|████████████████████████████████████████████████████████████████████████████████████████████████████████████████████████████████████████████████████████████████████████████████████████████████████████████████████████████████████████████| 33/33 [00:00<00:00, 46.99it/s]\n"
     ]
    },
    {
     "name": "stdout",
     "output_type": "stream",
     "text": [
      "Lorenco\n"
     ]
    },
    {
     "name": "stderr",
     "output_type": "stream",
     "text": [
      "100%|████████████████████████████████████████████████████████████████████████████████████████████████████████████████████████████████████████████████████████████████████████████████████████████████████████████████████████████████████████████| 33/33 [00:00<00:00, 46.95it/s]\n"
     ]
    },
    {
     "name": "stdout",
     "output_type": "stream",
     "text": [
      "Montekky\n"
     ]
    },
    {
     "name": "stderr",
     "output_type": "stream",
     "text": [
      "100%|████████████████████████████████████████████████████████████████████████████████████████████████████████████████████████████████████████████████████████████████████████████████████████████████████████████████████████████████████████████| 33/33 [00:00<00:00, 46.36it/s]\n"
     ]
    },
    {
     "name": "stdout",
     "output_type": "stream",
     "text": [
      "Denistina\n"
     ]
    },
    {
     "name": "stderr",
     "output_type": "stream",
     "text": [
      "100%|████████████████████████████████████████████████████████████████████████████████████████████████████████████████████████████████████████████████████████████████████████████████████████████████████████████████████████████████████████████| 33/33 [00:00<00:00, 45.64it/s]\n"
     ]
    },
    {
     "name": "stdout",
     "output_type": "stream",
     "text": [
      "Tibalt\n"
     ]
    },
    {
     "name": "stderr",
     "output_type": "stream",
     "text": [
      "100%|████████████████████████████████████████████████████████████████████████████████████████████████████████████████████████████████████████████████████████████████████████████████████████████████████████████████████████████████████████████| 33/33 [00:00<00:00, 46.94it/s]\n"
     ]
    }
   ],
   "source": [
    "\"\"\" TRASH  \"\"\"\n",
    "def trash(save_path, pool):\n",
    "    for font in ttfs:\n",
    "        randint = np.random.randint(150)\n",
    "        fontname = os.path.basename(font).replace(\".ttf\", '')\n",
    "        print(fontname)\n",
    "        for idx in tqdm(range(len(pool))):\n",
    "            for span in np.arange(0.4, 0.51, 0.05):\n",
    "                one = LOWERCASE[idx]\n",
    "                two = LOWERCASE[int(randint * idx * span * 100) % len(LOWERCASE)]\n",
    "                word = f\"{one + two}\"\n",
    "                img = write(font, word)\n",
    "                l, r = img.width * span, img.width * (span+0.2)\n",
    "                img = fill_background_png(img).convert('RGB').crop((l, 0, r, img.height))\n",
    "                img.save(f\"{save_path}/trash/{one}{two}_{fontname}_{round(span, 2)}.jpg\")\n",
    "trash(PATH_TO_AUGMENTED_CHARS, LOWERCASE)"
   ]
  },
  {
   "cell_type": "code",
   "execution_count": null,
   "id": "a5f6d500",
   "metadata": {},
   "outputs": [],
   "source": []
  }
 ],
 "metadata": {
  "kernelspec": {
   "display_name": "cv",
   "language": "python",
   "name": "cv"
  },
  "language_info": {
   "codemirror_mode": {
    "name": "ipython",
    "version": 3
   },
   "file_extension": ".py",
   "mimetype": "text/x-python",
   "name": "python",
   "nbconvert_exporter": "python",
   "pygments_lexer": "ipython3",
   "version": "3.10.4"
  }
 },
 "nbformat": 4,
 "nbformat_minor": 5
}
