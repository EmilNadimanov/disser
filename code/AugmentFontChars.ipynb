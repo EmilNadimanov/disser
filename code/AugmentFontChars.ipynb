{
 "cells": [
  {
   "cell_type": "code",
   "execution_count": 3,
   "id": "afb7949a",
   "metadata": {},
   "outputs": [],
   "source": [
    "import sys\n",
    "import os\n",
    "import matplotlib.pyplot as plt\n",
    "import numpy as np\n",
    "import cv2\n",
    "from PIL import Image as im, ImageDraw\n",
    "import PIL\n",
    "from scipy import ndimage\n",
    "from matplotlib.pyplot import figure\n",
    "from glob import glob\n",
    "from utils import add_margin, expand2square, put_in_a_box, binarize\n",
    "from tqdm import tqdm\n",
    "\n",
    "from typing import *"
   ]
  },
  {
   "cell_type": "code",
   "execution_count": 4,
   "id": "5ecebebc",
   "metadata": {},
   "outputs": [],
   "source": [
    "def get_concat_h(im1, im2):\n",
    "    dst = im.new('RGB', (im1.width + im2.width, max(im1.height, im2.height)))\n",
    "    dst.paste(im1, (0, 0))\n",
    "    dst.paste(im2, (im1.width, 0))\n",
    "    return dst\n",
    "\n",
    "def get_concat_v(im1, im2):\n",
    "    dst = im.new('RGB', (max(im1.width, im2.width), im1.height + im2.height))\n",
    "    dst.paste(im1, (0, 0))\n",
    "    dst.paste(im2, (0, im1.height))\n",
    "    return dst"
   ]
  },
  {
   "cell_type": "code",
   "execution_count": 26,
   "id": "e5ab08b8",
   "metadata": {},
   "outputs": [],
   "source": [
    "PATH_TO_FONT_CHARS = \"../formatted_data/chars_images/chars\"\n",
    "\n",
    "PATH_TO_AUGMENTED_CHARS = \"../formatted_data/chars_images/augmented_chars\"\n",
    "PATH_TO_ROTATED_CHARS = f\"{PATH_TO_AUGMENTED_CHARS}/rotated\"\n",
    "PATH_TO_OFFSET_CHARS = f\"{PATH_TO_AUGMENTED_CHARS}/offset\"\n",
    "PATH_TO_CONNECTED_CHARS = f\"{PATH_TO_AUGMENTED_CHARS}/connected\"\n",
    "PATH_TO_RESIZED_CHARS = f\"{PATH_TO_AUGMENTED_CHARS}/resized\""
   ]
  },
  {
   "cell_type": "code",
   "execution_count": 11,
   "id": "da27122e",
   "metadata": {},
   "outputs": [
    {
     "data": {
      "image/png": "[encoded data removed]",
      "text/plain": [
       "<PIL.Image.Image image mode=RGB size=129x19>"
      ]
     },
     "execution_count": 11,
     "metadata": {},
     "output_type": "execute_result"
    }
   ],
   "source": [
    "salavat = {path[-5]: im.open(path) for path in glob(PATH_TO_FONT_CHARS + \"/Salavat/*\")}\n",
    "image = im.new('RGBA', (0, 0), (0, 255, 0, 255)) \n",
    "for char in \"пипипи\":\n",
    "    image = get_concat_h(image, salavat[char])\n",
    "image"
   ]
  },
  {
   "cell_type": "code",
   "execution_count": 12,
   "id": "bd992568",
   "metadata": {},
   "outputs": [],
   "source": [
    "class Char:\n",
    "    def __init__(self, path: str):\n",
    "        self.path = path\n",
    "        self.image = im.open(path)\n",
    "        \n",
    "        split = os.path.normpath(path).split(os.path.sep)\n",
    "        self.name = split[-1].replace(\".png\", \"\")\n",
    "        self.font = split[-2]\n"
   ]
  },
  {
   "cell_type": "code",
   "execution_count": 13,
   "id": "82a29423",
   "metadata": {},
   "outputs": [],
   "source": [
    "fonts = os.listdir(PATH_TO_FONT_CHARS)\n",
    "chars_dict = {font: glob(f\"{PATH_TO_FONT_CHARS}/{font}/*\") for font in fonts}\n",
    "for k, v in chars_dict.items():\n",
    "    chars = []\n",
    "    for char in v:\n",
    "        chars.append(Char(char))\n",
    "    chars_dict[k] = chars"
   ]
  },
  {
   "cell_type": "code",
   "execution_count": 14,
   "id": "d83f7c0f",
   "metadata": {},
   "outputs": [],
   "source": [
    "charset = chars_dict['Salavat']"
   ]
  },
  {
   "cell_type": "code",
   "execution_count": 15,
   "id": "f4580667",
   "metadata": {},
   "outputs": [],
   "source": [
    "def convert_png_transparent(image, bg_color=(255,255,255)):\n",
    "    array = np.array(image, dtype=np.ubyte)\n",
    "    mask = (array[:,:,:3] == bg_color).all(axis=2)\n",
    "    alpha = np.where(mask, 0, 255)\n",
    "    array[:,:,-1] = alpha\n",
    "    return im.fromarray(np.ubyte(array))"
   ]
  },
  {
   "cell_type": "code",
   "execution_count": 16,
   "id": "ac3f933d",
   "metadata": {},
   "outputs": [],
   "source": [
    "def get_dominant_color(pil_img):\n",
    "    palette_size = 2\n",
    "    # Resize image to speed up processing\n",
    "    img = convert_png_transparent(pil_img.copy())\n",
    "    img.thumbnail((100, 100))\n",
    "\n",
    "    # Reduce colors (uses k-means internally)\n",
    "    paletted = img.convert('P', palette=im.ADAPTIVE, colors=palette_size)\n",
    "\n",
    "    # Find the color that occurs most often\n",
    "    palette = paletted.getpalette()\n",
    "    color_counts = sorted(paletted.getcolors(), reverse=False)\n",
    "    palette_index = color_counts[0][1]\n",
    "    dominant_color = palette[palette_index*3:palette_index*3+3]\n",
    "    dominant_color.append(255)\n",
    "\n",
    "    return tuple(dominant_color)"
   ]
  },
  {
   "cell_type": "code",
   "execution_count": 17,
   "id": "ed65e784",
   "metadata": {},
   "outputs": [],
   "source": [
    "def expand(img, top=0, right=0, bottom=0, left=0):\n",
    "    return add_margin(\n",
    "             expand2square(img),\n",
    "             top=top,\n",
    "             bottom=bottom,\n",
    "             left=left,\n",
    "             right=right\n",
    "           )"
   ]
  },
  {
   "cell_type": "code",
   "execution_count": 126,
   "id": "9bd133c3",
   "metadata": {},
   "outputs": [],
   "source": [
    "\"\"\" ROTATION FROM -15° to 15° \"\"\"\n",
    "for font, charset in chars_dict.items():\n",
    "    font_specific_path = f\"{PATH_TO_ROTATED_CHARS}/{font}\"\n",
    "    os.makedirs(font_specific_path, exist_ok=True)\n",
    "    for char in charset:\n",
    "        for degree in range(-15, 16):\n",
    "            char.image \\\n",
    "                .rotate(degree, expand=True, fillcolor=(255,255,255), resample=PIL.Image.Resampling.BICUBIC) \\\n",
    "                .save(f\"{font_specific_path}/{char.name}_{degree}.png\")\n"
   ]
  },
  {
   "cell_type": "code",
   "execution_count": 127,
   "id": "2dfcac48",
   "metadata": {},
   "outputs": [],
   "source": [
    "\"\"\" MOVING AROUND \"\"\"\n",
    "for font, charset in chars_dict.items():\n",
    "    font_specific_path = f\"{PATH_TO_OFFSET_CHARS}/{font}\"\n",
    "    os.makedirs(font_specific_path, exist_ok=True)\n",
    "    for char in charset:\n",
    "        for margin, side in [(m, side) for m in range(5,16,5) for side in \"lrtb\"]:\n",
    "            if side == \"l\":\n",
    "                image = expand(char.image, left=margin)\n",
    "            elif side == \"r\":\n",
    "                image = expand(char.image, right=margin)\n",
    "            elif side == \"t\":\n",
    "                image = expand(char.image, top=margin)\n",
    "            elif side == \"b\":\n",
    "                image = expand(char.image, bottom=margin)\n",
    "            image.save(f\"{font_specific_path}/{char.name}_{side}{margin}.png\")"
   ]
  },
  {
   "cell_type": "code",
   "execution_count": 18,
   "id": "dae4507e",
   "metadata": {},
   "outputs": [],
   "source": [
    "def euclideanDistance(coordinate1, coordinate2):\n",
    "    return pow(pow(coordinate1[0] - coordinate2[0], 2) + pow(coordinate1[1] - coordinate2[1], 2), .5)"
   ]
  },
  {
   "cell_type": "code",
   "execution_count": 19,
   "id": "04b31a26",
   "metadata": {},
   "outputs": [
    {
     "data": {
      "text/plain": [
       "(129, 19)"
      ]
     },
     "execution_count": 19,
     "metadata": {},
     "output_type": "execute_result"
    }
   ],
   "source": [
    "image.size"
   ]
  },
  {
   "cell_type": "code",
   "execution_count": 20,
   "id": "1730e87a",
   "metadata": {},
   "outputs": [],
   "source": [
    "def closest_to(char_image, coord: Tuple[int, int]):\n",
    "    bin_img = binarize(char_image)\n",
    "    h, w = char_image.size\n",
    "    distances = list()\n",
    "    for r_idx in range(w):\n",
    "        for c_idx in range(h):\n",
    "            if bin_img[r_idx, c_idx] > 0.5:\n",
    "                distance = euclideanDistance(coord, (r_idx, c_idx))\n",
    "                distances.append((r_idx, c_idx, distance))\n",
    "    return min(distances, key=lambda entry: entry[2])[:2]\n",
    "\n",
    "# goes up and right from here\n",
    "right_bottom_spot = lambda image: (closest_to(image, image.size[::-1]), {\"x\": 100, \"y\": -30})\n",
    "# goes down and right from here\n",
    "right_top_spot = lambda image: (closest_to(image, (0, image.size[1])), {\"x\": 100, \"y\": 30})\n",
    "\n",
    "# goes up and rigth from here\n",
    "left_bottom_spot = lambda image: (closest_to(image, (image.size[0], 0)), {\"x\": 100, \"y\": -30})\n",
    "# goes down and left from here\n",
    "left_top_spot = lambda image: (closest_to(image, (0,0)), {\"x\": -100, \"y\": 30})"
   ]
  },
  {
   "cell_type": "code",
   "execution_count": 22,
   "id": "d39a05ca",
   "metadata": {},
   "outputs": [
    {
     "name": "stderr",
     "output_type": "stream",
     "text": [
      "/tmp/ipykernel_160537/3656454590.py:8: DeprecationWarning: ADAPTIVE is deprecated and will be removed in Pillow 10 (2023-07-01). Use Palette.ADAPTIVE instead.\n",
      "  paletted = img.convert('P', palette=im.ADAPTIVE, colors=palette_size)\n"
     ]
    }
   ],
   "source": [
    "\"\"\" CONNECTED CHARS \"\"\"\n",
    "for font, charset in chars_dict.items():\n",
    "    font_specific_path = f\"{PATH_TO_CONNECTED_CHARS}/{font}\"\n",
    "    os.makedirs(font_specific_path, exist_ok=True)\n",
    "    for char in charset:\n",
    "        dominant = get_dominant_color(char.image)\n",
    "        # left_top from prev\n",
    "        char_copy = char.image.copy()\n",
    "        draw = ImageDraw.Draw(char_copy) \n",
    "        (y, x), destination = left_top_spot(char_copy)\n",
    "        draw.line((x,y, x+destination[\"x\"],y+destination[\"y\"]), fill=dominant, width=2, joint=\"curve\")     \n",
    "        char_copy.save(f\"{font_specific_path}/{char.name}_lt.png\")\n",
    "        \n",
    "        # right_top to next\n",
    "        char_copy = char.image.copy()\n",
    "        draw = ImageDraw.Draw(char_copy)\n",
    "        (y, x), destination = right_top_spot(char_copy)\n",
    "        draw.line((x,y, x+destination[\"x\"],y+destination[\"y\"]), fill=dominant, width=2, joint=\"curve\")\n",
    "        char_copy.save(f\"{font_specific_path}/{char.name}_rt.png\")\n",
    "        \n",
    "        # right_bottom to next\n",
    "        char_copy = char.image.copy()\n",
    "        draw = ImageDraw.Draw(char_copy) \n",
    "        (y, x), destination = right_bottom_spot(char_copy)\n",
    "        draw.line((x,y, x+destination[\"x\"],y+destination[\"y\"]), fill=dominant, width=2, joint=\"curve\")\n",
    "        char_copy.save(f\"{font_specific_path}/{char.name}_rb.png\")\n",
    "        \n",
    "        # left_bottom to next\n",
    "        char_copy = char.image.copy()\n",
    "        draw = ImageDraw.Draw(char_copy) \n",
    "        (y, x), destination = left_bottom_spot(char_copy)\n",
    "        draw.line((x,y, x+destination[\"x\"],y+destination[\"y\"]), fill=dominant, width=2, joint=\"curve\")\n",
    "        char_copy.save(f\"{font_specific_path}/{char.name}_lb.png\")\n",
    "        "
   ]
  },
  {
   "cell_type": "code",
   "execution_count": 29,
   "id": "3628bbf1",
   "metadata": {},
   "outputs": [
    {
     "data": {
      "text/plain": [
       "(29, 31)"
      ]
     },
     "execution_count": 29,
     "metadata": {},
     "output_type": "execute_result"
    }
   ],
   "source": [
    "char.image.size"
   ]
  },
  {
   "cell_type": "code",
   "execution_count": 47,
   "id": "1ce7c064",
   "metadata": {},
   "outputs": [],
   "source": [
    "\"\"\" RESIZED, i.e. squashed or extended\"\"\"\n",
    "for font, charset in chars_dict.items():\n",
    "    font_specific_path = f\"{PATH_TO_RESIZED_CHARS}/{font}\"\n",
    "    os.makedirs(font_specific_path, exist_ok=True)\n",
    "    for char in charset:\n",
    "        w, h = char.image.size        \n",
    "        char.image.resize((w * 12 // 10, h)).save(f\"{font_specific_path}/{char.name}_20%wider.png\")\n",
    "        char.image.resize((w * 14 // 10, h)).save(f\"{font_specific_path}/{char.name}_40%wider.png\")\n",
    "        char.image.resize((w * 8 // 10, h)).save(f\"{font_specific_path}/{char.name}_20%narrower.png\")\n",
    "        char.image.resize((w * 6 // 10, h)).save(f\"{font_specific_path}/{char.name}_40%narrower.png\")\n",
    "        char.image.resize((w, h * 12 // 10)).save(f\"{font_specific_path}/{char.name}_20%higher.png\")\n",
    "        char.image.resize((w, h * 14 // 10)).save(f\"{font_specific_path}/{char.name}_40%higher.png\")\n",
    "        char.image.resize((w, h * 8 // 10)).save(f\"{font_specific_path}/{char.name}_20%shorter.png\")\n",
    "        char.image.resize((w, h * 6 // 10)).save(f\"{font_specific_path}/{char.name}_40%shorter.png\")"
   ]
  },
  {
   "cell_type": "code",
   "execution_count": null,
   "id": "5fe1b549",
   "metadata": {},
   "outputs": [],
   "source": []
  }
 ],
 "metadata": {
  "kernelspec": {
   "display_name": "cv",
   "language": "python",
   "name": "cv"
  },
  "language_info": {
   "codemirror_mode": {
    "name": "ipython",
    "version": 3
   },
   "file_extension": ".py",
   "mimetype": "text/x-python",
   "name": "python",
   "nbconvert_exporter": "python",
   "pygments_lexer": "ipython3",
   "version": "3.10.4"
  }
 },
 "nbformat": 4,
 "nbformat_minor": 5
}
