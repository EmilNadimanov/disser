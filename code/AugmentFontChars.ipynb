{
 "cells": [
  {
   "cell_type": "code",
   "execution_count": 11,
   "id": "afb7949a",
   "metadata": {},
   "outputs": [],
   "source": [
    "import os\n",
    "import re\n",
    "import matplotlib.pyplot as plt\n",
    "import numpy as np\n",
    "from PIL import Image as im, ImageDraw, ImageFont\n",
    "import PIL\n",
    "from glob import glob\n",
    "from utils import add_margin, expand2square, put_in_a_box, binarize\n",
    "from tqdm import tqdm\n",
    "\n",
    "from typing import *"
   ]
  },
  {
   "cell_type": "code",
   "execution_count": 2,
   "id": "e5ab08b8",
   "metadata": {},
   "outputs": [],
   "source": [
    "PATH_TO_FONT_CHARS = \"../formatted_data/chars_images/chars\"\n",
    "\n",
    "PATH_TO_AUGMENTED_CHARS = \"../formatted_data/chars_images/augmented_chars\"\n",
    "PATH_TO_ROTATED_CHARS = f\"{PATH_TO_AUGMENTED_CHARS}/rotated\"\n",
    "PATH_TO_OFFSET_CHARS = f\"{PATH_TO_AUGMENTED_CHARS}/offset\"\n",
    "PATH_TO_CONNECTED_CHARS = f\"{PATH_TO_AUGMENTED_CHARS}/connected\"\n",
    "PATH_TO_RESIZED_CHARS = f\"{PATH_TO_AUGMENTED_CHARS}/resized\"\n",
    "\n",
    "LOWERCASE = \"абвгдеёжзийклмнопрстуфхцчшщъыьэюя\"\n",
    "UPPERCASE = LOWERCASE.upper().replace(\"Ъ\", '')"
   ]
  },
  {
   "cell_type": "code",
   "execution_count": 3,
   "id": "bd992568",
   "metadata": {},
   "outputs": [],
   "source": [
    "class Char:\n",
    "    def __init__(self, path: str):\n",
    "        self.path = path\n",
    "        self.image = im.open(path)\n",
    "        \n",
    "        split = os.path.normpath(path).split(os.path.sep)\n",
    "        self.name = split[-1].replace(\".png\", \"\")\n",
    "        self.font = split[-2]\n"
   ]
  },
  {
   "cell_type": "code",
   "execution_count": 4,
   "id": "82a29423",
   "metadata": {},
   "outputs": [],
   "source": [
    "fonts = os.listdir(PATH_TO_FONT_CHARS)\n",
    "chars_dict = {font: glob(f\"{PATH_TO_FONT_CHARS}/{font}/*\") for font in fonts}\n",
    "for k, v in chars_dict.items():\n",
    "    chars = []\n",
    "    for char in v:\n",
    "        chars.append(Char(char))\n",
    "    chars_dict[k] = chars"
   ]
  },
  {
   "cell_type": "code",
   "execution_count": 5,
   "id": "f4580667",
   "metadata": {},
   "outputs": [],
   "source": [
    "def convert_png_transparent(image, bg_color=(255,255,255)):\n",
    "    array = np.array(image, dtype=np.ubyte)\n",
    "    mask = (array[:,:,:3] == bg_color).all(axis=2)\n",
    "    alpha = np.where(mask, 0, 255)\n",
    "    array[:,:,-1] = alpha\n",
    "    return im.fromarray(np.ubyte(array))\n",
    "\n",
    "def get_dominant_color(img):\n",
    "    palette_size = 2\n",
    "    # Resize image to speed up processing\n",
    "    #img = convert_png_transparent(pil_img.copy())\n",
    "    img.thumbnail((100, 100))\n",
    "\n",
    "    # Reduce colors (uses k-means internally)\n",
    "    paletted = img.convert('P', palette=im.ADAPTIVE, colors=palette_size)\n",
    "\n",
    "    # Find the color that occurs most often\n",
    "    palette = paletted.getpalette()\n",
    "    color_counts = sorted(paletted.getcolors(), reverse=False)\n",
    "    palette_index = color_counts[0][1]\n",
    "    dominant_color = palette[palette_index*3:palette_index*3+3]\n",
    "    dominant_color.append(255)\n",
    "\n",
    "    return tuple(dominant_color)\n",
    "\n",
    "def expand(img, top=0, right=0, bottom=0, left=0):\n",
    "    return add_margin(\n",
    "             expand2square(img),\n",
    "             top=top,\n",
    "             bottom=bottom,\n",
    "             left=left,\n",
    "             right=right\n",
    "           )\n",
    "\n",
    "def rotate(degree, image):\n",
    "    return image.rotate(degree, expand=True, fillcolor=(255,255,255), resample=PIL.Image.Resampling.BICUBIC)\n",
    "\n",
    "def closest_to(char_image, coord: Tuple[int, int]):\n",
    "    bin_img = binarize(char_image)\n",
    "    h, w = char_image.size\n",
    "    distances = list()\n",
    "    for r_idx in range(w):\n",
    "        for c_idx in range(h):\n",
    "            if bin_img[r_idx, c_idx] > 0.5:\n",
    "                distance = euclideanDistance(coord, (r_idx, c_idx))\n",
    "                distances.append((r_idx, c_idx, distance))\n",
    "    return min(distances, key=lambda entry: entry[2])[:2]\n",
    "\n",
    "def resize(image: \"Image\", what: str, how_much: float):\n",
    "    w,h = image.width, image.height\n",
    "    if what == 'width':  return image.resize((round(w * how_much), h))\n",
    "    if what == 'height': return image.resize((w, round(h * how_much)))\n",
    "    raise AssertionError(f\"`what` must be either \\\"width\\\" or \\\"height\\\", not {what}\")\n",
    "    \n",
    "def euclideanDistance(coordinate1, coordinate2):\n",
    "    return pow(pow(coordinate1[0] - coordinate2[0], 2) + pow(coordinate1[1] - coordinate2[1], 2), .5)\n",
    "\n",
    "def fill_background_png(image):\n",
    "    fill_color = (255,255,255)  # your new background color\n",
    "    if image.mode in ('RGBA', 'LA'):\n",
    "        background = im.new(image.mode[:-1], image.size, fill_color)\n",
    "        background.paste(image, image.split()[-1]) # omit transparency\n",
    "        image = background\n",
    "    return image"
   ]
  },
  {
   "cell_type": "code",
   "execution_count": 6,
   "id": "2dfcac48",
   "metadata": {},
   "outputs": [],
   "source": [
    "\"\"\" MOVING UP AND DOWN \"\"\"\n",
    "for font, charset in chars_dict.items():\n",
    "    font_specific_path = f\"{PATH_TO_OFFSET_CHARS}/{font}\"\n",
    "    os.makedirs(font_specific_path, exist_ok=True)\n",
    "    for char in charset:\n",
    "        for margin, side in [(m, side) for m in range(5,16,5) for side in \"rltb\"]:\n",
    "            if side == \"l\":\n",
    "                image = expand(char.image, left=margin)\n",
    "            elif side == \"r\":\n",
    "                image = expand(char.image, right=margin)\n",
    "            elif side == \"t\":\n",
    "                image = expand(char.image, top=margin)\n",
    "            elif side == \"b\":\n",
    "                image = expand(char.image, bottom=margin)\n",
    "            image.convert(\"RGB\").save(f\"{font_specific_path}/{char.name}_{side}{margin}.jpg\")"
   ]
  },
  {
   "cell_type": "code",
   "execution_count": 7,
   "id": "9bd133c3",
   "metadata": {},
   "outputs": [],
   "source": [
    "\"\"\" ROTATION FROM -40° to 40° \"\"\"\n",
    "for font, charset in chars_dict.items():\n",
    "    font_specific_path = f\"{PATH_TO_ROTATED_CHARS}/{font}\"\n",
    "    os.makedirs(font_specific_path, exist_ok=True)\n",
    "    for char in charset:\n",
    "        for degree in range(-40, 41, 5):\n",
    "            image = rotate(degree, char.image)\n",
    "            image.convert(\"RGB\").save(f\"{font_specific_path}/{char.name}_{degree}.jpg\")\n"
   ]
  },
  {
   "cell_type": "code",
   "execution_count": 8,
   "id": "1730e87a",
   "metadata": {},
   "outputs": [],
   "source": [
    "# goes up and right from here\n",
    "right_bottom_spot = lambda image: (closest_to(image, (image.height, image.width)), {\"x\": 100, \"y\": -30})\n",
    "# goes down and right from here\n",
    "right_top_spot = lambda image: (closest_to(image, (0, image.height)), {\"x\": 100, \"y\": 30})\n",
    "\n",
    "# goes up and rigth from here\n",
    "left_bottom_spot = lambda image: (closest_to(image, (image.width, 0)), {\"x\": 100, \"y\": -30})\n",
    "# goes down and left from here\n",
    "left_top_spot = lambda image: (closest_to(image, (0,0)), {\"x\": -100, \"y\": 30})"
   ]
  },
  {
   "cell_type": "code",
   "execution_count": 9,
   "id": "d39a05ca",
   "metadata": {},
   "outputs": [
    {
     "name": "stderr",
     "output_type": "stream",
     "text": [
      "/tmp/ipykernel_1097371/1421345810.py:15: DeprecationWarning: ADAPTIVE is deprecated and will be removed in Pillow 10 (2023-07-01). Use Palette.ADAPTIVE instead.\n",
      "  paletted = img.convert('P', palette=im.ADAPTIVE, colors=palette_size)\n"
     ]
    },
    {
     "ename": "KeyboardInterrupt",
     "evalue": "",
     "output_type": "error",
     "traceback": [
      "\u001B[0;31m---------------------------------------------------------------------------\u001B[0m",
      "\u001B[0;31mKeyboardInterrupt\u001B[0m                         Traceback (most recent call last)",
      "Input \u001B[0;32mIn [9]\u001B[0m, in \u001B[0;36m<cell line: 2>\u001B[0;34m()\u001B[0m\n\u001B[1;32m     24\u001B[0m (y, x), destination \u001B[38;5;241m=\u001B[39m right_bottom_spot(char_copy)\n\u001B[1;32m     25\u001B[0m draw\u001B[38;5;241m.\u001B[39mline((x,y, x\u001B[38;5;241m+\u001B[39mdestination[\u001B[38;5;124m\"\u001B[39m\u001B[38;5;124mx\u001B[39m\u001B[38;5;124m\"\u001B[39m],y\u001B[38;5;241m+\u001B[39mdestination[\u001B[38;5;124m\"\u001B[39m\u001B[38;5;124my\u001B[39m\u001B[38;5;124m\"\u001B[39m]), fill\u001B[38;5;241m=\u001B[39mdominant, width\u001B[38;5;241m=\u001B[39m\u001B[38;5;241m2\u001B[39m, joint\u001B[38;5;241m=\u001B[39m\u001B[38;5;124m\"\u001B[39m\u001B[38;5;124mcurve\u001B[39m\u001B[38;5;124m\"\u001B[39m)\n\u001B[0;32m---> 26\u001B[0m \u001B[43mchar_copy\u001B[49m\u001B[38;5;241;43m.\u001B[39;49m\u001B[43mconvert\u001B[49m\u001B[43m(\u001B[49m\u001B[38;5;124;43m\"\u001B[39;49m\u001B[38;5;124;43mRGB\u001B[39;49m\u001B[38;5;124;43m\"\u001B[39;49m\u001B[43m)\u001B[49m\u001B[38;5;241;43m.\u001B[39;49m\u001B[43msave\u001B[49m\u001B[43m(\u001B[49m\u001B[38;5;124;43mf\u001B[39;49m\u001B[38;5;124;43m\"\u001B[39;49m\u001B[38;5;132;43;01m{\u001B[39;49;00m\u001B[43mfont_specific_path\u001B[49m\u001B[38;5;132;43;01m}\u001B[39;49;00m\u001B[38;5;124;43m/\u001B[39;49m\u001B[38;5;132;43;01m{\u001B[39;49;00m\u001B[43mchar\u001B[49m\u001B[38;5;241;43m.\u001B[39;49m\u001B[43mname\u001B[49m\u001B[38;5;132;43;01m}\u001B[39;49;00m\u001B[38;5;124;43m_rb.jpg\u001B[39;49m\u001B[38;5;124;43m\"\u001B[39;49m\u001B[43m)\u001B[49m\n\u001B[1;32m     28\u001B[0m \u001B[38;5;66;03m# left_bottom to next\u001B[39;00m\n\u001B[1;32m     29\u001B[0m char_copy \u001B[38;5;241m=\u001B[39m char\u001B[38;5;241m.\u001B[39mimage\u001B[38;5;241m.\u001B[39mcopy()\n",
      "File \u001B[0;32m~/temp/venv/lib/python3.10/site-packages/PIL/Image.py:2300\u001B[0m, in \u001B[0;36mImage.save\u001B[0;34m(self, fp, format, **params)\u001B[0m\n\u001B[1;32m   2297\u001B[0m         fp \u001B[38;5;241m=\u001B[39m builtins\u001B[38;5;241m.\u001B[39mopen(filename, \u001B[38;5;124m\"\u001B[39m\u001B[38;5;124mw+b\u001B[39m\u001B[38;5;124m\"\u001B[39m)\n\u001B[1;32m   2299\u001B[0m \u001B[38;5;28;01mtry\u001B[39;00m:\n\u001B[0;32m-> 2300\u001B[0m     \u001B[43msave_handler\u001B[49m\u001B[43m(\u001B[49m\u001B[38;5;28;43mself\u001B[39;49m\u001B[43m,\u001B[49m\u001B[43m \u001B[49m\u001B[43mfp\u001B[49m\u001B[43m,\u001B[49m\u001B[43m \u001B[49m\u001B[43mfilename\u001B[49m\u001B[43m)\u001B[49m\n\u001B[1;32m   2301\u001B[0m \u001B[38;5;28;01mexcept\u001B[39;00m \u001B[38;5;167;01mException\u001B[39;00m:\n\u001B[1;32m   2302\u001B[0m     \u001B[38;5;28;01mif\u001B[39;00m open_fp:\n",
      "File \u001B[0;32m~/temp/venv/lib/python3.10/site-packages/PIL/JpegImagePlugin.py:786\u001B[0m, in \u001B[0;36m_save\u001B[0;34m(im, fp, filename)\u001B[0m\n\u001B[1;32m    782\u001B[0m \u001B[38;5;66;03m# The EXIF info needs to be written as one block, + APP1, + one spare byte.\u001B[39;00m\n\u001B[1;32m    783\u001B[0m \u001B[38;5;66;03m# Ensure that our buffer is big enough. Same with the icc_profile block.\u001B[39;00m\n\u001B[1;32m    784\u001B[0m bufsize \u001B[38;5;241m=\u001B[39m \u001B[38;5;28mmax\u001B[39m(ImageFile\u001B[38;5;241m.\u001B[39mMAXBLOCK, bufsize, \u001B[38;5;28mlen\u001B[39m(exif) \u001B[38;5;241m+\u001B[39m \u001B[38;5;241m5\u001B[39m, \u001B[38;5;28mlen\u001B[39m(extra) \u001B[38;5;241m+\u001B[39m \u001B[38;5;241m1\u001B[39m)\n\u001B[0;32m--> 786\u001B[0m \u001B[43mImageFile\u001B[49m\u001B[38;5;241;43m.\u001B[39;49m\u001B[43m_save\u001B[49m\u001B[43m(\u001B[49m\u001B[43mim\u001B[49m\u001B[43m,\u001B[49m\u001B[43m \u001B[49m\u001B[43mfp\u001B[49m\u001B[43m,\u001B[49m\u001B[43m \u001B[49m\u001B[43m[\u001B[49m\u001B[43m(\u001B[49m\u001B[38;5;124;43m\"\u001B[39;49m\u001B[38;5;124;43mjpeg\u001B[39;49m\u001B[38;5;124;43m\"\u001B[39;49m\u001B[43m,\u001B[49m\u001B[43m \u001B[49m\u001B[43m(\u001B[49m\u001B[38;5;241;43m0\u001B[39;49m\u001B[43m,\u001B[49m\u001B[43m \u001B[49m\u001B[38;5;241;43m0\u001B[39;49m\u001B[43m)\u001B[49m\u001B[43m \u001B[49m\u001B[38;5;241;43m+\u001B[39;49m\u001B[43m \u001B[49m\u001B[43mim\u001B[49m\u001B[38;5;241;43m.\u001B[39;49m\u001B[43msize\u001B[49m\u001B[43m,\u001B[49m\u001B[43m \u001B[49m\u001B[38;5;241;43m0\u001B[39;49m\u001B[43m,\u001B[49m\u001B[43m \u001B[49m\u001B[43mrawmode\u001B[49m\u001B[43m)\u001B[49m\u001B[43m]\u001B[49m\u001B[43m,\u001B[49m\u001B[43m \u001B[49m\u001B[43mbufsize\u001B[49m\u001B[43m)\u001B[49m\n",
      "File \u001B[0;32m~/temp/venv/lib/python3.10/site-packages/PIL/ImageFile.py:501\u001B[0m, in \u001B[0;36m_save\u001B[0;34m(im, fp, tile, bufsize)\u001B[0m\n\u001B[1;32m    499\u001B[0m \u001B[38;5;28;01mtry\u001B[39;00m:\n\u001B[1;32m    500\u001B[0m     fh \u001B[38;5;241m=\u001B[39m fp\u001B[38;5;241m.\u001B[39mfileno()\n\u001B[0;32m--> 501\u001B[0m     \u001B[43mfp\u001B[49m\u001B[38;5;241;43m.\u001B[39;49m\u001B[43mflush\u001B[49m\u001B[43m(\u001B[49m\u001B[43m)\u001B[49m\n\u001B[1;32m    502\u001B[0m     exc \u001B[38;5;241m=\u001B[39m \u001B[38;5;28;01mNone\u001B[39;00m\n\u001B[1;32m    503\u001B[0m \u001B[38;5;28;01mexcept\u001B[39;00m (\u001B[38;5;167;01mAttributeError\u001B[39;00m, io\u001B[38;5;241m.\u001B[39mUnsupportedOperation) \u001B[38;5;28;01mas\u001B[39;00m e:\n",
      "\u001B[0;31mKeyboardInterrupt\u001B[0m: "
     ]
    }
   ],
   "source": [
    "\"\"\" CONNECTED CHARS \"\"\"\n",
    "for font, charset in chars_dict.items():\n",
    "    font_specific_path = f\"{PATH_TO_CONNECTED_CHARS}/{font}\"\n",
    "    os.makedirs(font_specific_path, exist_ok=True)\n",
    "    for char in charset:\n",
    "        dominant = get_dominant_color(char.image)\n",
    "        # left_top from prev\n",
    "        char_copy = char.image.copy()\n",
    "        draw = ImageDraw.Draw(char_copy) \n",
    "        (y, x), destination = left_top_spot(char_copy)\n",
    "        draw.line((x,y, x+destination[\"x\"],y+destination[\"y\"]), fill=dominant, width=2, joint=\"curve\")     \n",
    "        char_copy.convert(\"RGB\").save(f\"{font_specific_path}/{char.name}_lt.jpg\")\n",
    "        \n",
    "        # right_top to next\n",
    "        char_copy = char.image.copy()\n",
    "        draw = ImageDraw.Draw(char_copy)\n",
    "        (y, x), destination = right_top_spot(char_copy)\n",
    "        draw.line((x,y, x+destination[\"x\"],y+destination[\"y\"]), fill=dominant, width=2, joint=\"curve\")\n",
    "        char_copy.convert(\"RGB\").save(f\"{font_specific_path}/{char.name}_rt.jpg\")\n",
    "        \n",
    "        # right_bottom to next\n",
    "        char_copy = char.image.copy()\n",
    "        draw = ImageDraw.Draw(char_copy) \n",
    "        (y, x), destination = right_bottom_spot(char_copy)\n",
    "        draw.line((x,y, x+destination[\"x\"],y+destination[\"y\"]), fill=dominant, width=2, joint=\"curve\")\n",
    "        char_copy.convert(\"RGB\").save(f\"{font_specific_path}/{char.name}_rb.jpg\")\n",
    "        \n",
    "        # left_bottom to next\n",
    "        char_copy = char.image.copy()\n",
    "        draw = ImageDraw.Draw(char_copy) \n",
    "        (y, x), destination = left_bottom_spot(char_copy)\n",
    "        draw.line((x,y, x+destination[\"x\"],y+destination[\"y\"]), fill=dominant, width=2, joint=\"curve\")\n",
    "        char_copy.convert(\"RGB\").save(f\"{font_specific_path}/{char.name}_lb.jpg\")"
   ]
  },
  {
   "cell_type": "code",
   "execution_count": null,
   "id": "1ce7c064",
   "metadata": {},
   "outputs": [],
   "source": [
    "\"\"\" RESIZED, i.e. squashed or extended\"\"\"\n",
    "for font, charset in chars_dict.items():\n",
    "    font_specific_path = f\"{PATH_TO_RESIZED_CHARS}/{font}\"\n",
    "    os.makedirs(font_specific_path, exist_ok=True)\n",
    "    for char in charset:\n",
    "        w, h = char.image.size\n",
    "        resize(char.image, \"width\",  1.2).convert(\"RGB\").save(f\"{font_specific_path}/{char.name}_20%wider.jpg\")\n",
    "        resize(char.image, \"width\",  1.4).convert(\"RGB\").save(f\"{font_specific_path}/{char.name}_40%wider.jpg\")\n",
    "        resize(char.image, \"width\",  1.6).convert(\"RGB\").save(f\"{font_specific_path}/{char.name}_60%wider.jpg\")\n",
    "        resize(char.image, \"width\",  1.8).convert(\"RGB\").save(f\"{font_specific_path}/{char.name}_80%wider.jpg\")\n",
    "        \n",
    "        resize(char.image, \"width\",   .8).convert(\"RGB\").save(f\"{font_specific_path}/{char.name}_20%narrower.jpg\")\n",
    "        resize(char.image, \"width\",   .6).convert(\"RGB\").save(f\"{font_specific_path}/{char.name}_40%narrower.jpg\")\n",
    "        resize(char.image, \"width\",   .5).convert(\"RGB\").save(f\"{font_specific_path}/{char.name}_50%narrower.jpg\")\n",
    "        \n",
    "        resize(char.image, \"height\", 1.2).convert(\"RGB\").save(f\"{font_specific_path}/{char.name}_20%higher.jpg\")\n",
    "        resize(char.image, \"height\", 1.4).convert(\"RGB\").save(f\"{font_specific_path}/{char.name}_40%higher.jpg\")\n",
    "        resize(char.image, \"height\", 1.6).convert(\"RGB\").save(f\"{font_specific_path}/{char.name}_60%higher.jpg\")\n",
    "        resize(char.image, \"height\", 1.8).convert(\"RGB\").save(f\"{font_specific_path}/{char.name}_80%higher.jpg\")\n",
    "        \n",
    "        resize(char.image, \"height\",  .8).convert(\"RGB\").save(f\"{font_specific_path}/{char.name}_20%shorter.jpg\")\n",
    "        resize(char.image, \"height\",  .6).convert(\"RGB\").save(f\"{font_specific_path}/{char.name}_40%shorter.jpg\")\n",
    "        resize(char.image, \"height\",  .4).convert(\"RGB\").save(f\"{font_specific_path}/{char.name}_60%shorter.jpg\")\n"
   ]
  },
  {
   "cell_type": "markdown",
   "id": "97854ff6",
   "metadata": {},
   "source": [
    "Создаём фейковые изображения символов в связке с соседними символами и называем это умным словом \"аугментация\""
   ]
  },
  {
   "cell_type": "code",
   "execution_count": 10,
   "id": "fb75341d",
   "metadata": {},
   "outputs": [],
   "source": [
    "def write(font, word):\n",
    "    img  = im.new(\"RGBA\", (500,150),(255,255,255))\n",
    "    ImageDraw.Draw(img).text((22, 22), word,(49, 76, 175), font=font)\n",
    "    return put_in_a_box(img)\n",
    "\n",
    "def width_of(font, word):\n",
    "    return write(font, word).width\n",
    "\n",
    "ttfs = glob(\"ttfs/*.ttf\")"
   ]
  },
  {
   "cell_type": "code",
   "execution_count": null,
   "id": "da27122e",
   "metadata": {},
   "outputs": [],
   "source": [
    "\"\"\" SIMULATING A CONTEXT FOR A CHAR \"\"\"\n",
    "def simulate(target_char_pool=LOWERCASE,\n",
    "             left_neighbor_pool=LOWERCASE,\n",
    "             right_neighbor_pool=LOWERCASE,\n",
    "             simulations_per_char=33,\n",
    "             description='simulation'):\n",
    "    for ttf in ttfs:\n",
    "        font = ImageFont.truetype(ttf,64)\n",
    "        fontname = os.path.basename(ttf).replace(\".ttf\", '')\n",
    "        font_specific_path = f\"{PATH_TO_AUGMENTED_CHARS}/{description}/{fontname}\"\n",
    "        os.makedirs(font_specific_path, exist_ok=True)\n",
    "        print(fontname)\n",
    "        for s in tqdm(target_char_pool):\n",
    "            for idx in range(1,simulations_per_char):\n",
    "                random = np.random.randint(-50, 50)\n",
    "                \n",
    "                f = left_neighbor_pool[random % idx % len(left_neighbor_pool)]\n",
    "                t = right_neighbor_pool[-random % idx % len(right_neighbor_pool)]\n",
    "                word = f\"{f}{s}{t}\"\n",
    "\n",
    "                img = write(font, word)\n",
    "\n",
    "                l = img.width - width_of(font, f\"{s+t}\")\n",
    "                r = width_of(font, f\"{f+s}\")\n",
    "                s_itself = width_of(font, s)\n",
    "                \n",
    "                # widen the borders so that the second letter certainly fits in\n",
    "                if s_itself - 2 <= r - l <= s_itself + 2:\n",
    "                    l, r = l-5, r+5\n",
    "                img = img.crop((l, 0, r, img.height))\n",
    "                \n",
    "                ## Applying mutations to widen the variety of images\n",
    "                # 40% chance to rotate\n",
    "                if 15 <= abs(random) <= 35:\n",
    "                    img = rotate(random // 2, img)\n",
    "                # 50% chance to expand or shrink an image in either of two dimensions\n",
    "                if random % 2 == 0: \n",
    "                    img = resize(image=img,\n",
    "                                 what=\"width\" if abs(random) <= 25 else \"height\",\n",
    "                                 how_much=(120 + random) / 100)\n",
    "                fill_background_png(img).convert('RGB').save(f\"{font_specific_path}/{s}_{word}.jpg\")\n",
    "simulate()"
   ]
  },
  {
   "cell_type": "code",
   "execution_count": 27,
   "id": "63dd9a5e",
   "metadata": {},
   "outputs": [
    {
     "name": "stdout",
     "output_type": "stream",
     "text": [
      "Abram\n"
     ]
    },
    {
     "name": "stderr",
     "output_type": "stream",
     "text": [
      "100%|█████████████████████████████████████████████| 5/5 [00:06<00:00,  1.36s/it]\n"
     ]
    },
    {
     "name": "stdout",
     "output_type": "stream",
     "text": [
      "Propisi\n"
     ]
    },
    {
     "name": "stderr",
     "output_type": "stream",
     "text": [
      "100%|█████████████████████████████████████████████| 5/5 [00:06<00:00,  1.37s/it]\n"
     ]
    },
    {
     "name": "stdout",
     "output_type": "stream",
     "text": [
      "Gogol\n"
     ]
    },
    {
     "name": "stderr",
     "output_type": "stream",
     "text": [
      "100%|█████████████████████████████████████████████| 5/5 [00:06<00:00,  1.39s/it]\n"
     ]
    },
    {
     "name": "stdout",
     "output_type": "stream",
     "text": [
      "Pag\n"
     ]
    },
    {
     "name": "stderr",
     "output_type": "stream",
     "text": [
      "100%|█████████████████████████████████████████████| 5/5 [00:06<00:00,  1.38s/it]\n"
     ]
    },
    {
     "name": "stdout",
     "output_type": "stream",
     "text": [
      "Capuletty\n"
     ]
    },
    {
     "name": "stderr",
     "output_type": "stream",
     "text": [
      "100%|█████████████████████████████████████████████| 5/5 [00:06<00:00,  1.37s/it]\n"
     ]
    },
    {
     "name": "stdout",
     "output_type": "stream",
     "text": [
      "Nexa_Script\n"
     ]
    },
    {
     "name": "stderr",
     "output_type": "stream",
     "text": [
      "100%|█████████████████████████████████████████████| 5/5 [00:07<00:00,  1.47s/it]\n"
     ]
    },
    {
     "name": "stdout",
     "output_type": "stream",
     "text": [
      "Eskal\n"
     ]
    },
    {
     "name": "stderr",
     "output_type": "stream",
     "text": [
      "100%|█████████████████████████████████████████████| 5/5 [00:06<00:00,  1.37s/it]\n"
     ]
    },
    {
     "name": "stdout",
     "output_type": "stream",
     "text": [
      "Rozovii_Chulok\n"
     ]
    },
    {
     "name": "stderr",
     "output_type": "stream",
     "text": [
      "100%|█████████████████████████████████████████████| 5/5 [00:06<00:00,  1.37s/it]\n"
     ]
    },
    {
     "name": "stdout",
     "output_type": "stream",
     "text": [
      "Salavat\n"
     ]
    },
    {
     "name": "stderr",
     "output_type": "stream",
     "text": [
      "100%|█████████████████████████████████████████████| 5/5 [00:06<00:00,  1.38s/it]\n"
     ]
    },
    {
     "name": "stdout",
     "output_type": "stream",
     "text": [
      "Benvolio\n"
     ]
    },
    {
     "name": "stderr",
     "output_type": "stream",
     "text": [
      "100%|█████████████████████████████████████████████| 5/5 [00:06<00:00,  1.37s/it]\n"
     ]
    },
    {
     "name": "stdout",
     "output_type": "stream",
     "text": [
      "Lorenco\n"
     ]
    },
    {
     "name": "stderr",
     "output_type": "stream",
     "text": [
      "100%|█████████████████████████████████████████████| 5/5 [00:06<00:00,  1.38s/it]\n"
     ]
    },
    {
     "name": "stdout",
     "output_type": "stream",
     "text": [
      "Montekky\n"
     ]
    },
    {
     "name": "stderr",
     "output_type": "stream",
     "text": [
      "100%|█████████████████████████████████████████████| 5/5 [00:06<00:00,  1.39s/it]\n"
     ]
    },
    {
     "name": "stdout",
     "output_type": "stream",
     "text": [
      "Denistina\n"
     ]
    },
    {
     "name": "stderr",
     "output_type": "stream",
     "text": [
      "100%|█████████████████████████████████████████████| 5/5 [00:06<00:00,  1.38s/it]\n"
     ]
    },
    {
     "name": "stdout",
     "output_type": "stream",
     "text": [
      "Tibalt\n"
     ]
    },
    {
     "name": "stderr",
     "output_type": "stream",
     "text": [
      "100%|█████████████████████████████████████████████| 5/5 [00:06<00:00,  1.36s/it]"
     ]
    },
    {
     "name": "stdout",
     "output_type": "stream",
     "text": [
      "7 ../formatted_data/chars_images/augmented_chars/punctuation_marks/Propisi/,_13.jpg\n",
      "95 ../formatted_data/chars_images/augmented_chars/punctuation_marks/Lorenco/…_18.jpg\n",
      "25.611387163561076\n"
     ]
    },
    {
     "name": "stderr",
     "output_type": "stream",
     "text": [
      "\n"
     ]
    }
   ],
   "source": [
    "\"\"\" PUNCTUTATION MARKS \"\"\"\n",
    "\n",
    "target_char_pool=\"-:,….\"\n",
    "left_neighbor_pool= re.sub(\"[вбзуд]\", \"\", LOWERCASE)\n",
    "max_width = 0\n",
    "max_name = \"\"\n",
    "min_width = 9999\n",
    "min_name = \"\"\n",
    "avg_width = []\n",
    "\n",
    "for ttf in ttfs:\n",
    "    font = ImageFont.truetype(ttf,64)\n",
    "    fontname = os.path.basename(ttf).replace(\".ttf\", '')\n",
    "    font_specific_path = f\"{PATH_TO_AUGMENTED_CHARS}/punctuation_marks/{fontname}\"\n",
    "    os.makedirs(font_specific_path, exist_ok=True)\n",
    "    print(fontname)\n",
    "    for s in tqdm(target_char_pool):\n",
    "        for idx in range(1,70):\n",
    "            try:\n",
    "                random = np.random.randint(-50, 50)\n",
    "\n",
    "                f = left_neighbor_pool[random % len(left_neighbor_pool)]\n",
    "                word = f\"{f}{s} \"\n",
    "\n",
    "                img = write(font, word)\n",
    "\n",
    "                l = img.width - width_of(font, f\"{s} \") - 3\n",
    "                r = width_of(font, f\"{f+s}\") + 3\n",
    "                img = img.crop((l, 0, r, img.height))\n",
    "\n",
    "                ## Applying mutations to widen the variety of images\n",
    "                # 40% chance to rotate\n",
    "                if 15 <= abs(random) <= 35:\n",
    "                    img = rotate(random // 2, img)\n",
    "                # 50% chance to expand or shrink an image in either of two dimensions\n",
    "                if random % 2 == 0: \n",
    "                    img = resize(image=img,\n",
    "                                 what=\"width\" if abs(random) >= 25 else \"height\",\n",
    "                                 how_much=(140 + random*0.8) / 100)\n",
    "                fill_background_png(img).convert('RGB').save(f\"{font_specific_path}/{s}_{idx}.jpg\")\n",
    "                \n",
    "                if img.width < min_width:\n",
    "                    min_width = min(min_width, img.width)\n",
    "                    min_name = f\"{font_specific_path}/{s}_{idx}.jpg\"\n",
    "                if img.width > max_width:\n",
    "                    max_width = max(max_width, img.width)\n",
    "                    max_name = f\"{font_specific_path}/{s}_{idx}.jpg\"\n",
    "                avg_width.append(img.width)\n",
    "            except Exception as e:\n",
    "                print(e)\n",
    "                \n",
    "print(min_width, min_name)\n",
    "print(max_width, max_name)\n",
    "print(np.average(avg_width))"
   ]
  },
  {
   "cell_type": "code",
   "execution_count": 65,
   "id": "b33a51a5",
   "metadata": {},
   "outputs": [
    {
     "name": "stdout",
     "output_type": "stream",
     "text": [
      "Abram\n"
     ]
    },
    {
     "name": "stderr",
     "output_type": "stream",
     "text": [
      "100%|███████████████████████████████████████████| 33/33 [00:21<00:00,  1.51it/s]\n"
     ]
    },
    {
     "name": "stdout",
     "output_type": "stream",
     "text": [
      "Propisi\n"
     ]
    },
    {
     "name": "stderr",
     "output_type": "stream",
     "text": [
      "100%|███████████████████████████████████████████| 33/33 [00:22<00:00,  1.47it/s]\n"
     ]
    },
    {
     "name": "stdout",
     "output_type": "stream",
     "text": [
      "Gogol\n"
     ]
    },
    {
     "name": "stderr",
     "output_type": "stream",
     "text": [
      "100%|███████████████████████████████████████████| 33/33 [00:22<00:00,  1.46it/s]\n"
     ]
    },
    {
     "name": "stdout",
     "output_type": "stream",
     "text": [
      "Pag\n"
     ]
    },
    {
     "name": "stderr",
     "output_type": "stream",
     "text": [
      "100%|███████████████████████████████████████████| 33/33 [00:22<00:00,  1.47it/s]\n"
     ]
    },
    {
     "name": "stdout",
     "output_type": "stream",
     "text": [
      "Capuletty\n"
     ]
    },
    {
     "name": "stderr",
     "output_type": "stream",
     "text": [
      "100%|███████████████████████████████████████████| 33/33 [00:22<00:00,  1.47it/s]\n"
     ]
    },
    {
     "name": "stdout",
     "output_type": "stream",
     "text": [
      "Nexa_Script\n"
     ]
    },
    {
     "name": "stderr",
     "output_type": "stream",
     "text": [
      "100%|███████████████████████████████████████████| 33/33 [00:24<00:00,  1.37it/s]\n"
     ]
    },
    {
     "name": "stdout",
     "output_type": "stream",
     "text": [
      "Eskal\n"
     ]
    },
    {
     "name": "stderr",
     "output_type": "stream",
     "text": [
      "100%|███████████████████████████████████████████| 33/33 [00:22<00:00,  1.47it/s]\n"
     ]
    },
    {
     "name": "stdout",
     "output_type": "stream",
     "text": [
      "Rozovii_Chulok\n"
     ]
    },
    {
     "name": "stderr",
     "output_type": "stream",
     "text": [
      "100%|███████████████████████████████████████████| 33/33 [00:22<00:00,  1.48it/s]\n"
     ]
    },
    {
     "name": "stdout",
     "output_type": "stream",
     "text": [
      "Salavat\n"
     ]
    },
    {
     "name": "stderr",
     "output_type": "stream",
     "text": [
      "100%|███████████████████████████████████████████| 33/33 [00:22<00:00,  1.48it/s]\n"
     ]
    },
    {
     "name": "stdout",
     "output_type": "stream",
     "text": [
      "Benvolio\n"
     ]
    },
    {
     "name": "stderr",
     "output_type": "stream",
     "text": [
      "100%|███████████████████████████████████████████| 33/33 [00:21<00:00,  1.52it/s]\n"
     ]
    },
    {
     "name": "stdout",
     "output_type": "stream",
     "text": [
      "Lorenco\n"
     ]
    },
    {
     "name": "stderr",
     "output_type": "stream",
     "text": [
      "100%|███████████████████████████████████████████| 33/33 [00:21<00:00,  1.50it/s]\n"
     ]
    },
    {
     "name": "stdout",
     "output_type": "stream",
     "text": [
      "Montekky\n"
     ]
    },
    {
     "name": "stderr",
     "output_type": "stream",
     "text": [
      "100%|███████████████████████████████████████████| 33/33 [00:22<00:00,  1.48it/s]\n"
     ]
    },
    {
     "name": "stdout",
     "output_type": "stream",
     "text": [
      "Denistina\n"
     ]
    },
    {
     "name": "stderr",
     "output_type": "stream",
     "text": [
      "100%|███████████████████████████████████████████| 33/33 [00:22<00:00,  1.49it/s]\n"
     ]
    },
    {
     "name": "stdout",
     "output_type": "stream",
     "text": [
      "Tibalt\n"
     ]
    },
    {
     "name": "stderr",
     "output_type": "stream",
     "text": [
      "100%|███████████████████████████████████████████| 33/33 [00:21<00:00,  1.51it/s]\n"
     ]
    }
   ],
   "source": [
    "ttfs = glob(\"ttfs/*.ttf\")\n",
    "\"\"\" TRASH  \"\"\"\n",
    "def trash():\n",
    "    for ttf in ttfs:\n",
    "        font = ImageFont.truetype(ttf,64)\n",
    "        fontname = os.path.basename(ttf).replace(\".ttf\", '')\n",
    "        font_specific_path = f\"{PATH_TO_AUGMENTED_CHARS}/trash/{fontname}\"\n",
    "        os.makedirs(font_specific_path, exist_ok=True)\n",
    "        print(fontname)\n",
    "        for one in tqdm(LOWERCASE):\n",
    "            for two in LOWERCASE:\n",
    "                for span in np.arange(0.4, 0.51, 0.05):\n",
    "                    word = f\"{one + two}\"\n",
    "                    img = write(font, word)\n",
    "                    l, r = img.width * span, img.width * (span+0.2)\n",
    "                    img = fill_background_png(img).convert('RGB').crop((l, 0, r, img.height))\n",
    "                    img.save(f\"{font_specific_path}/{one}{two}_{round(span, 2)}.jpg\")\n",
    "trash()"
   ]
  }
 ],
 "metadata": {
  "kernelspec": {
   "display_name": "cv",
   "language": "python",
   "name": "cv"
  },
  "language_info": {
   "codemirror_mode": {
    "name": "ipython",
    "version": 3
   },
   "file_extension": ".py",
   "mimetype": "text/x-python",
   "name": "python",
   "nbconvert_exporter": "python",
   "pygments_lexer": "ipython3",
   "version": "3.10.4"
  }
 },
 "nbformat": 4,
 "nbformat_minor": 5
}