{
 "cells": [
  {
   "cell_type": "code",
   "execution_count": 1,
   "id": "6da006ad",
   "metadata": {},
   "outputs": [],
   "source": [
    "import sys\n",
    "import os\n",
    "import matplotlib.pyplot as plt\n",
    "import numpy as np\n",
    "import cv2\n",
    "from PIL import Image as im\n",
    "from PIL.ImageShow import IPythonViewer\n",
    "from scipy import ndimage\n",
    "from matplotlib.pyplot import figure\n",
    "from glob import glob\n",
    "from tqdm import tqdm\n",
    "from utils import add_margin, expand2square, binarize, put_in_a_box\n",
    "\n",
    "from typing import *"
   ]
  },
  {
   "cell_type": "code",
   "execution_count": 23,
   "id": "8b6a02ab",
   "metadata": {},
   "outputs": [],
   "source": [
    "def build_grid(image):\n",
    "    bin_img = binarize(image)\n",
    "    height, width = bin_img.shape\n",
    "    \n",
    "    horizontal = [0]\n",
    "    encountered = False\n",
    "    for idx in range(height):\n",
    "        row = bin_img[idx]\n",
    "        if np.sum(row) > 0:\n",
    "            encountered = True\n",
    "        elif encountered == True and np.sum(bin_img[idx+20, :]) == 0:\n",
    "            if idx - horizontal[-1] < 20: \n",
    "                horizontal[-1] = idx\n",
    "            else:\n",
    "                horizontal.append(idx)\n",
    "            encountered = False\n",
    "\n",
    "    vertical = [0]\n",
    "    bin_img_t = bin_img.T\n",
    "    encountered = False\n",
    "    for idx in range(width):\n",
    "        col = bin_img_t[idx]\n",
    "        if np.sum(col) > 1:\n",
    "            encountered = True\n",
    "        elif encountered == True and np.sum(bin_img_t[idx+20, :]) == 0:\n",
    "            if idx - vertical[-1] < 20: \n",
    "                vertical[-1] = idx\n",
    "            else:\n",
    "                vertical.append(idx)\n",
    "            encountered = False\n",
    "    \n",
    "    if not len(vertical) == 7 or not len(horizontal) == 12:\n",
    "        print(f\"{font}: vertical - {vertical}, horizontal - {horizontal}\")\n",
    "    assert len(vertical) == 7 # 6 vertical lines after each column + left\n",
    "    assert len(horizontal) == 12 # 11 horizontal lines under each row + top\n",
    "    \n",
    "    return vertical, horizontal"
   ]
  },
  {
   "cell_type": "code",
   "execution_count": 24,
   "id": "fbd65044",
   "metadata": {},
   "outputs": [],
   "source": [
    "pretty = put_in_a_box"
   ]
  },
  {
   "cell_type": "code",
   "execution_count": 29,
   "id": "f1993dcd",
   "metadata": {},
   "outputs": [],
   "source": [
    "FONTS_LOCATION = \"../formatted_data/chars_images/fonts\"\n",
    "CHARS_LOCATION = \"../formatted_data/chars_images/chars\"\n",
    "fonts = list(filter(lambda n: n.endswith(\"png\"), os.listdir(FONTS_LOCATION)))\n",
    "\n",
    "def f():\n",
    "    for font in tqdm(fonts):\n",
    "        img = im.open(f\"{FONTS_LOCATION}/{font}\")\n",
    "        bin_img = binarize(img)\n",
    "        vertical, horizontal = build_grid(img)\n",
    "\n",
    "        letters = (x for x in \"АБВГДЕЁЖЗИЙабвгдеёжзийКЛМНОПРСТУФклмнопрстуфХЦЧШЩЪЫЬЭЮЯхцчшщъыьэюя\")\n",
    "        os.makedirs(f\"{CHARS_LOCATION}/{font[:-4]}\", mode=0o0777, exist_ok=True)\n",
    "\n",
    "        for left, right in [(vertical[i], vertical[i+1]) for i in range(len(vertical)-1)]:\n",
    "            height, _ = bin_img.shape\n",
    "            cropped = img.crop((left, 0, right, height))\n",
    "            for upper, lower in [(horizontal[i], horizontal[i+1]) for i in range(len(horizontal)-1)]:\n",
    "                width, _  = cropped.size\n",
    "                letter = next(letters)\n",
    "                char = cropped.crop((5, upper, width, lower))\n",
    "                char = pretty(char)\n",
    "                char.save(f\"{CHARS_LOCATION}/{font[:-4]}/{letter}.png\")"
   ]
  },
  {
   "cell_type": "code",
   "execution_count": 30,
   "id": "fd02bf50",
   "metadata": {},
   "outputs": [
    {
     "name": "stderr",
     "output_type": "stream",
     "text": [
      "100%|███████████████████████████████████████████| 17/17 [00:03<00:00,  4.30it/s]\n"
     ]
    }
   ],
   "source": [
    "f()"
   ]
  },
  {
   "cell_type": "code",
   "execution_count": null,
   "id": "77d4e94c",
   "metadata": {},
   "outputs": [],
   "source": []
  }
 ],
 "metadata": {
  "kernelspec": {
   "display_name": "cv",
   "language": "python",
   "name": "cv"
  },
  "language_info": {
   "codemirror_mode": {
    "name": "ipython",
    "version": 3
   },
   "file_extension": ".py",
   "mimetype": "text/x-python",
   "name": "python",
   "nbconvert_exporter": "python",
   "pygments_lexer": "ipython3",
   "version": "3.10.4"
  }
 },
 "nbformat": 4,
 "nbformat_minor": 5
}
