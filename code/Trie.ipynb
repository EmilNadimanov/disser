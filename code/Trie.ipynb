{
 "cells": [
  {
   "cell_type": "code",
   "execution_count": 8,
   "metadata": {},
   "outputs": [],
   "source": [
    "\"\"\"\n",
    "Builds a character-level text prediction tree based on a corpus that is passed to it.\n",
    "HOW TO:\n",
    "1. import tree\n",
    "2. run `build_tree` method against a corpus (as a big string). It returns a prediction tree.\n",
    "3. predict continuation for an already typed text via `predict` method. Prediction is word-level, i.e. only\n",
    "   parts of words should be passed to `predict` method, not phrases.\n",
    "\"\"\"\n",
    "import string\n",
    "from typing import Dict, Any, Optional\n",
    "import re\n",
    "\n",
    "from nltk.tokenize import word_tokenize\n",
    "from string import punctuation"
   ]
  },
  {
   "cell_type": "code",
   "execution_count": 9,
   "metadata": {},
   "outputs": [],
   "source": [
    "class CharTree:\n",
    "    def __init__(self, data, children=None, count=0, step=1):\n",
    "        if children is None:\n",
    "            children = dict()\n",
    "        self.data: Any = data\n",
    "        self.children: Dict[Optional[str], CharTree] = children\n",
    "        self.count: int = count\n",
    "        self.step: int = step\n",
    "\n",
    "    @staticmethod\n",
    "    def build_tree(corpus: str, step=1):\n",
    "        \"\"\"\n",
    "        The main thing to build a CharTree. Pass a corpus as a string and get a chartree as a return value\n",
    "        `step` allows to build a trie based on character-level ngrams, not unigrams (single chars)\n",
    "        \"\"\"\n",
    "        tree = CharTree(data=\"\", step=step)\n",
    "        corpus = [word.strip(punctuation) for word in word_tokenize(text)]\n",
    "        for word in (c for c in corpus if len(c) > 0):\n",
    "            tree.__build_branch(word)\n",
    "        return tree\n",
    "\n",
    "    def __build_branch(self, word: str):\n",
    "        \"\"\"\n",
    "        Function used for recursive creation of chartree branches\n",
    "        \"\"\"\n",
    "        length_of_word = len(word)\n",
    "        if length_of_word >= self.step:\n",
    "            seq = word[:self.step]\n",
    "        else:\n",
    "            seq = word[:length_of_word]\n",
    "        self.children[seq] = self.children.get(seq, CharTree(data=seq, step=self.step))\n",
    "        child: CharTree = self.children[seq]\n",
    "        child.count += 1\n",
    "        if length_of_word > self.step:\n",
    "            child.__build_branch(word[self.step:])\n",
    "        elif length_of_word <= self.step:\n",
    "            child.children[None] = child.children.get(None, TreeLeaf())\n",
    "            child.children[None].count += 1\n",
    "\n",
    "    def _get_matching_subtree(self, typed_text) -> Optional['CharTree']:\n",
    "        \"\"\"\n",
    "        self-explainatory name. Given typed text, we try to find the already determined node in the tree.\n",
    "        \"\"\"\n",
    "        try:\n",
    "            length = len(typed_text)\n",
    "            if length >= self.step:\n",
    "                child = self.children[typed_text[:self.step]]\n",
    "                match = child._get_matching_subtree(typed_text[self.step:])\n",
    "            else:\n",
    "                match = self.children[typed_text[:length]]\n",
    "            return match\n",
    "        except (KeyError, IndexError):\n",
    "            return self\n",
    "\n",
    "    def __get_most_probable_continuation(self) -> str:\n",
    "        \"\"\"\n",
    "        Go down the tree through the nodes with higher count (most probablee ones), collecting the chars they represent\n",
    "        along the way\n",
    "        \"\"\"\n",
    "        (most_probable_letter, child) = max(self.children.items(), key=lambda kv: kv[1].count)\n",
    "        if most_probable_letter is None:\n",
    "            return ''\n",
    "        else:\n",
    "            return most_probable_letter + child.__get_most_probable_continuation()\n",
    "\n",
    "    def printout(self, level=0):\n",
    "        \"\"\"\n",
    "        A simple visualisation of any CharTree object.\n",
    "        Left number represents the level (from 0 to N)\n",
    "        The number next to a letter represents how often it was encountered in this position\n",
    "        Example:\n",
    "        0| l-5\n",
    "        1|   a-5\n",
    "        2|     m-5\n",
    "        3|       p-3\n",
    "        3|       a-2\n",
    "        This makes \"lama\" LESS probable than \"lamp\", given input \"lam\"\n",
    "        \"\"\"\n",
    "        for key in self.children.keys():\n",
    "            child = self.children[key]\n",
    "            print(level, '|', '\\t' * level, f\"{key}-{child.count}\", sep='')\n",
    "            child.printout(level + 1)\n",
    "\n",
    "    def predict(self, typed_text: str):\n",
    "        __lowered_text = CharTree._format_input_data(typed_text.lower())\n",
    "        match = self._get_matching_subtree(__lowered_text)\n",
    "        if match is None:\n",
    "            return None\n",
    "        continuation: str = match.__get_most_probable_continuation()\n",
    "        return typed_text + continuation\n",
    "\n",
    "\n",
    "class TreeLeaf(CharTree):\n",
    "\n",
    "    def __init__(self):\n",
    "        super(TreeLeaf, self).__init__(data=None)"
   ]
  },
  {
   "cell_type": "code",
   "execution_count": 3,
   "metadata": {},
   "outputs": [],
   "source": [
    "with open(\"../dictation_text.txt\") as f:\n",
    "    text = f.read()"
   ]
  },
  {
   "cell_type": "code",
   "execution_count": 15,
   "metadata": {},
   "outputs": [
    {
     "data": {
      "text/plain": [
       "<__main__.CharTree at 0x7ff4c67fba90>"
      ]
     },
     "execution_count": 15,
     "metadata": {},
     "output_type": "execute_result"
    }
   ],
   "source": [
    "CharTree.build_tree(text)"
   ]
  }
 ],
 "metadata": {
  "kernelspec": {
   "display_name": "cv",
   "language": "python",
   "name": "cv"
  },
  "language_info": {
   "codemirror_mode": {
    "name": "ipython",
    "version": 3
   },
   "file_extension": ".py",
   "mimetype": "text/x-python",
   "name": "python",
   "nbconvert_exporter": "python",
   "pygments_lexer": "ipython3",
   "version": "3.10.4"
  }
 },
 "nbformat": 4,
 "nbformat_minor": 4
}
