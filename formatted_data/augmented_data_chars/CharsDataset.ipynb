{
 "cells": [
  {
   "cell_type": "code",
   "execution_count": 1,
   "id": "6da006ad",
   "metadata": {},
   "outputs": [],
   "source": [
    "import sys\n",
    "import os\n",
    "import matplotlib.pyplot as plt\n",
    "import numpy as np\n",
    "import cv2\n",
    "from PIL import Image as im\n",
    "from PIL.ImageShow import IPythonViewer\n",
    "from scipy import ndimage\n",
    "from matplotlib.pyplot import figure\n",
    "from glob import glob\n",
    "from tqdm import tqdm\n",
    "\n",
    "from typing import *"
   ]
  },
  {
   "cell_type": "code",
   "execution_count": 2,
   "id": "0fd83cde",
   "metadata": {},
   "outputs": [],
   "source": [
    "def binarize(pic):\n",
    "    wd, ht = pic.size\n",
    "    pixels = np.array(pic.convert('L').getdata(), np.uint8)\n",
    "    bin_img = (1 - pixels.reshape((ht, wd)) / 255.0)\n",
    "    #plt.imshow(bin_img, cmap='gray')\n",
    "    return bin_img"
   ]
  },
  {
   "cell_type": "code",
   "execution_count": 3,
   "id": "8b6a02ab",
   "metadata": {},
   "outputs": [],
   "source": [
    "def build_grid(image):\n",
    "    bin_img = binarize(image)\n",
    "    height, width = bin_img.shape\n",
    "    \n",
    "    horizontal = [0]\n",
    "    encountered = False\n",
    "    for idx in range(height):\n",
    "        row = bin_img[idx]\n",
    "        if np.sum(row) > 1:\n",
    "            encountered = True\n",
    "        elif encountered == True and np.sum(bin_img[idx+20, :]) < 1:\n",
    "            if idx - horizontal[-1] < 20: \n",
    "                horizontal[-1] = idx\n",
    "            else:\n",
    "                horizontal.append(idx)\n",
    "            encountered = False\n",
    "\n",
    "    vertical = [0]\n",
    "    bin_img_t = bin_img.T\n",
    "    encountered = False\n",
    "    for idx in range(width):\n",
    "        col = bin_img_t[idx]\n",
    "        if np.sum(col) > 1:\n",
    "            encountered = True\n",
    "        elif encountered == True and np.sum(bin_img_t[idx+20, :]) < 1:\n",
    "            if idx - vertical[-1] < 20: \n",
    "                vertical[-1] = idx\n",
    "            else:\n",
    "                vertical.append(idx)\n",
    "            encountered = False\n",
    "    \n",
    "    if not len(vertical) == 7 or not len(horizontal) == 12:\n",
    "        print(f\"{font}: vertical - {vertical}, horizontal - {horizontal}\")\n",
    "    assert len(vertical) == 7 # 6 vertical lines after each column + left\n",
    "    assert len(horizontal) == 12 # 11 horizontal lines under each row + top\n",
    "    \n",
    "    return vertical, horizontal"
   ]
  },
  {
   "cell_type": "code",
   "execution_count": 5,
   "id": "d896aadd",
   "metadata": {},
   "outputs": [],
   "source": [
    "def put_in_a_box(char):\n",
    "    bin_img = binarize(char)\n",
    "    height, width = bin_img.shape\n",
    "    def find_border(bin_img):\n",
    "        for (idx, row) in enumerate(bin_img):\n",
    "            if np.sum(row) > 1:\n",
    "                return idx\n",
    "    \n",
    "    left = find_border(bin_img.T)\n",
    "    top = find_border(bin_img)\n",
    "    right = width - find_border(bin_img.T[::-1, :])\n",
    "    bottom = height - find_border(bin_img[::-1, :])\n",
    "    \n",
    "    return char.crop((left, top, right, bottom))\n",
    "    "
   ]
  },
  {
   "cell_type": "code",
   "execution_count": 6,
   "id": "e7dd3f17",
   "metadata": {},
   "outputs": [],
   "source": [
    "def expand2square(pil_img, background_color):\n",
    "    width, height = pil_img.size\n",
    "    if width == height:\n",
    "        return pil_img\n",
    "    elif width > height:\n",
    "        result = im.new(pil_img.mode, (width, width), background_color)\n",
    "        result.paste(pil_img, (0, (width - height) // 2))\n",
    "        return result\n",
    "    else:\n",
    "        result = im.new(pil_img.mode, (height, height), background_color)\n",
    "        result.paste(pil_img, ((height - width) // 2, 0))\n",
    "        return result"
   ]
  },
  {
   "cell_type": "code",
   "execution_count": 250,
   "id": "96571ee3",
   "metadata": {},
   "outputs": [],
   "source": [
    "def add_margin(pil_img, top, right, bottom, left, color):\n",
    "    width, height = pil_img.size\n",
    "    new_width = width + right + left\n",
    "    new_height = height + top + bottom\n",
    "    result = im.new(pil_img.mode, (new_width, new_height), color)\n",
    "    result.paste(pil_img, (left, top))\n",
    "    return result"
   ]
  },
  {
   "cell_type": "code",
   "execution_count": 270,
   "id": "6af2353e",
   "metadata": {},
   "outputs": [],
   "source": [
    "def pretty(char):\n",
    "    box = put_in_a_box(char)\n",
    "    #square = expand2square(box, (255,255,255))\n",
    "    #w, h = square.size\n",
    "    #top_and_bot = (120-h)//2\n",
    "    #l_and_r = (120-w)//2\n",
    "    #return add_margin(square, top_and_bot, l_and_r, top_and_bot, l_and_r, (255,255,255))\n",
    "    return "
   ]
  },
  {
   "cell_type": "code",
   "execution_count": 7,
   "id": "f1993dcd",
   "metadata": {},
   "outputs": [
    {
     "name": "stderr",
     "output_type": "stream",
     "text": [
      "100%|████████████████████████████████████████████████████████████████████████████████████████████████████████████████████████████████████████████████████████████████████████████████████████████████████████████████████████████████████████████| 17/17 [00:02<00:00,  5.88it/s]\n"
     ]
    }
   ],
   "source": [
    "fonts = list(filter(lambda n: n.endswith(\"png\"), os.listdir()))\n",
    "for font in tqdm(fonts):\n",
    "    img = im.open(font)\n",
    "    bin_img = binarize(img)\n",
    "    vertical, horizontal = build_grid(img)\n",
    "\n",
    "    letters = (x for x in \"АБВГДЕЁЖЗИЙабвгдеёжзийКЛМНОПРСТУФклмнопрстуфХЦЧШЩЪЫЬЭЮЯхцчшщъыьэюя\")\n",
    "    os.makedirs(f\"t/{font[:-4]}\", mode=0o0777, exist_ok=True)\n",
    "\n",
    "    for left, right in [(vertical[i], vertical[i+1]) for i in range(len(vertical)-1)]:\n",
    "        height, _ = bin_img.shape\n",
    "        cropped = img.crop((left, 0, right, height))\n",
    "        for upper, lower in [(horizontal[i], horizontal[i+1]) for i in range(len(horizontal)-1)]:\n",
    "            width, _  = cropped.size\n",
    "            char = cropped.crop((0, upper, width, lower))\n",
    "            char.save(f\"t/{font[:-4]}/{next(letters)}.png\")"
   ]
  },
  {
   "cell_type": "code",
   "execution_count": null,
   "id": "118e09e1",
   "metadata": {},
   "outputs": [],
   "source": []
  }
 ],
 "metadata": {
  "kernelspec": {
   "display_name": "cv",
   "language": "python",
   "name": "cv"
  },
  "language_info": {
   "codemirror_mode": {
    "name": "ipython",
    "version": 3
   },
   "file_extension": ".py",
   "mimetype": "text/x-python",
   "name": "python",
   "nbconvert_exporter": "python",
   "pygments_lexer": "ipython3",
   "version": "3.10.4"
  }
 },
 "nbformat": 4,
 "nbformat_minor": 5
}
