{
  "cells": [
    {
      "cell_type": "code",
      "source": [
        "from google.colab import drive\n",
        "drive.mount('/content/drive', force_remount=True)"
      ],
      "metadata": {
        "id": "SnLY0VTXRgEm",
        "colab": {
          "base_uri": "https://localhost:8080/"
        },
        "outputId": "3dc8fc5e-146c-445c-e121-d551ded87e32"
      },
      "execution_count": 1,
      "outputs": [
        {
          "output_type": "stream",
          "name": "stdout",
          "text": [
            "Mounted at /content/drive\n"
          ]
        }
      ]
    },
    {
      "cell_type": "code",
      "source": [
        "!pip install razdel\n",
        "!pip install python-Levenshtein"
      ],
      "metadata": {
        "colab": {
          "base_uri": "https://localhost:8080/"
        },
        "id": "AHZiNLgTRf8C",
        "outputId": "06f938fc-d627-444d-ef23-3b184d7936db"
      },
      "execution_count": 103,
      "outputs": [
        {
          "output_type": "stream",
          "name": "stdout",
          "text": [
            "Looking in indexes: https://pypi.org/simple, https://us-python.pkg.dev/colab-wheels/public/simple/\n",
            "Requirement already satisfied: razdel in /usr/local/lib/python3.7/dist-packages (0.5.0)\n",
            "Looking in indexes: https://pypi.org/simple, https://us-python.pkg.dev/colab-wheels/public/simple/\n",
            "Collecting python-Levenshtein\n",
            "  Downloading python-Levenshtein-0.12.2.tar.gz (50 kB)\n",
            "\u001b[K     |████████████████████████████████| 50 kB 4.4 MB/s \n",
            "\u001b[?25hRequirement already satisfied: setuptools in /usr/local/lib/python3.7/dist-packages (from python-Levenshtein) (57.4.0)\n",
            "Building wheels for collected packages: python-Levenshtein\n",
            "  Building wheel for python-Levenshtein (setup.py) ... \u001b[?25l\u001b[?25hdone\n",
            "  Created wheel for python-Levenshtein: filename=python_Levenshtein-0.12.2-cp37-cp37m-linux_x86_64.whl size=149860 sha256=b7116a3b2988faa0876ab5423cdfc154652f27598d63a288f8df0de36800188f\n",
            "  Stored in directory: /root/.cache/pip/wheels/05/5f/ca/7c4367734892581bb5ff896f15027a932c551080b2abd3e00d\n",
            "Successfully built python-Levenshtein\n",
            "Installing collected packages: python-Levenshtein\n",
            "Successfully installed python-Levenshtein-0.12.2\n"
          ]
        }
      ]
    },
    {
      "cell_type": "code",
      "source": [
        "import cv2\n",
        "import numpy as np\n",
        "import sys\n",
        "import re\n",
        "from razdel import tokenize\n",
        "\n",
        "from torchvision.models import googlenet\n",
        "import torch\n",
        "from torchvision.datasets import ImageFolder\n",
        "from torchvision.transforms import Compose, Normalize, Resize, ToTensor, RandomErasing, RandomAffine\n",
        "from PIL import Image\n",
        "from Levenshtein import distance as levenshtein_distance\n",
        "\n",
        "\n",
        "from matplotlib import pyplot as plt\n",
        "from matplotlib.pyplot import figure\n",
        "import seaborn as sns\n",
        "import os\n",
        "import random\n",
        "from pathlib import Path\n",
        "from glob import glob\n",
        "from tqdm.notebook import tqdm\n",
        "from string import punctuation, whitespace"
      ],
      "metadata": {
        "id": "UnUVs9BgRjQW"
      },
      "execution_count": 104,
      "outputs": []
    },
    {
      "cell_type": "markdown",
      "source": [
        "# Инференс"
      ],
      "metadata": {
        "id": "3xrYCqgHoIeG"
      }
    },
    {
      "cell_type": "markdown",
      "source": [
        "## Инференс модели torch. Инфраструктура"
      ],
      "metadata": {
        "id": "jSmYxssToVIT"
      }
    },
    {
      "cell_type": "markdown",
      "source": [
        "### Полезности (запусти меня)"
      ],
      "metadata": {
        "id": "yiTpmAoS_Gb0"
      }
    },
    {
      "cell_type": "markdown",
      "source": [
        "Данные для инференса"
      ],
      "metadata": {
        "id": "vcr9UWmTDEUQ"
      }
    },
    {
      "cell_type": "code",
      "source": [
        "from skimage import img_as_bool\n",
        "from skimage.color import rgb2gray\n",
        "from skimage.morphology import skeletonize, binary_closing, thin\n",
        "import skimage"
      ],
      "metadata": {
        "id": "4HWE0byOea48"
      },
      "execution_count": 9,
      "outputs": []
    },
    {
      "cell_type": "code",
      "source": [
        "# !cp /content/drive/MyDrive/Disser/dictation_text.txt .\n",
        "# !cp /content/drive/MyDrive/Disser/dataset_more_data.zip .\n",
        "# !cp /content/drive/MyDrive/Disser/words.zip .\n",
        "# !unzip -qq -o dataset_more_data.zip\n",
        "# !unzip -qq -o words.zip\n",
        "!ls dataset_more_data\n",
        "!ls dataset_more_data | wc -l"
      ],
      "metadata": {
        "colab": {
          "base_uri": "https://localhost:8080/"
        },
        "id": "gcQuU8O4JeTE",
        "outputId": "6b109a74-3e13-4384-cd71-2dda6b64684e"
      },
      "execution_count": 10,
      "outputs": [
        {
          "output_type": "stream",
          "name": "stdout",
          "text": [
            "dash\tq_mark\tб  г  е  ж  и  к  м  о\tр  т  ф  ц  ш  ъ  ь  ю\n",
            "e_mark\tа\tв  д  ё  з  й  л  н  п\tс  у  х  ч  щ  ы  э  я\n",
            "36\n"
          ]
        }
      ]
    },
    {
      "cell_type": "code",
      "source": [
        "!cp /content/drive/MyDrive/Disser/dataset_cropped_chars.zip .\n",
        "!unzip -qq -o dataset_cropped_chars.zip\n",
        "!ls dataset_cropped_chars\n",
        "!ls dataset_cropped_chars | wc -l"
      ],
      "metadata": {
        "colab": {
          "base_uri": "https://localhost:8080/"
        },
        "id": "thpf01xFnyvx",
        "outputId": "d9651d8a-a858-491d-b5b1-def23a1d7894"
      },
      "execution_count": 11,
      "outputs": [
        {
          "output_type": "stream",
          "name": "stdout",
          "text": [
            "dash\tа  Б  г  е  Ж  И  К  м\tН  п  Р  т  У  Х  ш  ы\tю\n",
            "e_mark\tА  в  д  ё  з  й  л  М\tо  П  с  Т  ф  ц  щ  ь\tя\n",
            "q_mark\tб  В  Д  ж  и  к  Л  н\tО  р  С  у  х  ч  ъ  э\tЯ\n",
            "54\n"
          ]
        }
      ]
    },
    {
      "cell_type": "code",
      "source": [
        "device = \"cuda:0\" if torch.cuda.is_available() else \"cpu\""
      ],
      "metadata": {
        "id": "9njDYPhqJXGq"
      },
      "execution_count": 12,
      "outputs": []
    },
    {
      "cell_type": "markdown",
      "source": [
        "препроцессинг"
      ],
      "metadata": {
        "id": "7Mte3oslCro9"
      }
    },
    {
      "cell_type": "code",
      "source": [
        "def add_margin(pil_img, top=0, right=0, bottom=0, left=0, color=(255,255,255)):\n",
        "    \"\"\"\n",
        "    add margin to an image. Any side you want!\n",
        "    \"\"\"\n",
        "    width, height = pil_img.size\n",
        "    new_width = width + right + left\n",
        "    new_height = height + top + bottom\n",
        "    result = Image.new(pil_img.mode, (new_width, new_height), color)\n",
        "    result.paste(pil_img, (left, top))\n",
        "    return result\n",
        "\n",
        "def binarize(pic):\n",
        "    \"\"\"\n",
        "    get a representation of this picture as an numpy matrix\n",
        "    numbers are floating-point non-integers (8-bit pixels, black and white)\n",
        "    \"\"\"\n",
        "    wd, ht = pic.size\n",
        "    pixels = np.array(pic.convert('L').getdata(), np.uint8)\n",
        "    bin_img = 1 - (pixels.reshape((ht, wd)) / 255.0)\n",
        "    return bin_img\n",
        "\n",
        "def put_in_a_box(char: 'Image'):\n",
        "    \"\"\"\n",
        "    cut an image with white background, making it a \"box\" that borders the first encountered non-white\n",
        "    parts of the image, e.g. bordering each side of a letter\n",
        "    \"\"\"\n",
        "    bin_img = binarize(char)\n",
        "    height, width = bin_img.shape\n",
        "    def find_border(bin_img):\n",
        "        for (idx, row) in enumerate(bin_img):\n",
        "            if np.sum(row) > 0:\n",
        "                return idx\n",
        "    \n",
        "    left = find_border(bin_img.T)\n",
        "    top = find_border(bin_img)\n",
        "    if left is None or top is None:\n",
        "      return None\n",
        "    right = width - find_border(bin_img.T[::-1, :])\n",
        "    bottom = height - find_border(bin_img[::-1, :])\n",
        "    \n",
        "    return char.crop((left, top, right, bottom))\n",
        "\n",
        "def pil2cv(pil_img):\n",
        "  return np.array(pil_img)[:, :, ::-1]\n",
        "\n",
        "def cv2pil(cv2_img):\n",
        "  return Image.fromarray(cv2_img)\n",
        "\n",
        "def delete_bad_contour(image: Image, min_area=30):\n",
        "  # Load image, convert to grayscale, Gaussian blur, Otsu's threshold\n",
        "  image = pil2cv(image)\n",
        "  blur = cv2.GaussianBlur(image, (3,3), 2)\n",
        "  gray = cv2.cvtColor(blur, cv2.COLOR_BGR2GRAY)\n",
        "  thresh = cv2.threshold(gray, 0, 255, cv2.THRESH_BINARY_INV + cv2.THRESH_OTSU)[1]\n",
        "\n",
        "  # Filter using contour area and remove small noise\n",
        "  cnts = cv2.findContours(thresh, cv2.RETR_TREE, cv2.CHAIN_APPROX_SIMPLE)\n",
        "  cnts = cnts[0] if len(cnts) == 2 else cnts[1]\n",
        "  for c in cnts:\n",
        "      area = cv2.contourArea(c)\n",
        "      if area < min_area:\n",
        "          cv2.drawContours(thresh, [c], -1, (0,0,0), -1)\n",
        "  color_converted = cv2.cvtColor(thresh, cv2.COLOR_GRAY2BGR)\n",
        "  res = cv2.bitwise_and(image-255, color_converted)\n",
        "  color_converted = cv2.cvtColor(res, cv2.COLOR_BGR2RGB)\n",
        "  pil_image=cv2pil(color_converted+255)\n",
        "  return pil_image\n",
        "\n",
        "def preprocess(image: Image, \n",
        "               min_contour, \n",
        "               padding=5,\n",
        "               deacrease_contour_if_none=False):\n",
        "  while True:\n",
        "    only_large_countour = delete_bad_contour(image, min_contour)\n",
        "    boxed = put_in_a_box(only_large_countour)\n",
        "    if boxed is None and deacrease_contour_if_none:\n",
        "      min_contour -= 1\n",
        "    else: break\n",
        "  return add_margin(boxed, padding,padding,padding,padding)"
      ],
      "metadata": {
        "id": "UrzLDosQCqgD"
      },
      "execution_count": 64,
      "outputs": []
    },
    {
      "cell_type": "markdown",
      "source": [
        "для сохранения файлов в одном месте без конфликта наименований"
      ],
      "metadata": {
        "id": "QdIsdfqyCt3t"
      }
    },
    {
      "cell_type": "code",
      "execution_count": 65,
      "metadata": {
        "id": "vj0b_IWPaf-7"
      },
      "outputs": [],
      "source": [
        "def next_path(path_pattern):\n",
        "    \"\"\"\n",
        "    Finds the next free path in an sequentially named list of files\n",
        "    e.g. path_pattern = 'file-%s.txt':\n",
        "    \"\"\"\n",
        "    i = 1\n",
        "\n",
        "    while os.path.exists(path_pattern % i):\n",
        "        i = i * 2\n",
        "\n",
        "    a, b = (i // 2, i)\n",
        "    while a + 1 < b:\n",
        "        c = (a + b) // 2 # interval midpoint\n",
        "        a, b = (c, b) if os.path.exists(path_pattern % c) else (a, c)\n",
        "\n",
        "    return path_pattern % b"
      ]
    },
    {
      "cell_type": "markdown",
      "source": [
        "Для загрузки модели"
      ],
      "metadata": {
        "id": "hAb-g6iJDMNG"
      }
    },
    {
      "cell_type": "code",
      "source": [
        "def load_custom_model_from_pt(fp, model, device, eval=True):\n",
        "    model.load_state_dict(torch.load(fp, map_location=torch.device(device)))\n",
        "    if eval:\n",
        "        model.eval()\n",
        "    return model\n",
        "\n",
        "def load_resnet18_model_from_pt(fp, num_of_classes, device, eval=True):\n",
        "    model = resnet18(pretrained=True)\n",
        "    model.fc = torch.nn.Linear(512, num_of_classes)\n",
        "    model.load_state_dict(torch.load(fp, map_location=torch.device(device)))\n",
        "    if eval:\n",
        "        model.eval()\n",
        "    return model\n",
        "\n",
        "def load_googlenet_model_from_pt(fp, num_of_classes, device, eval=True):\n",
        "    model = googlenet(pretrained=True)\n",
        "    model.fc = torch.nn.Linear(1024, num_of_classes)\n",
        "    model.load_state_dict(torch.load(fp, map_location=torch.device(device)))\n",
        "    if eval:\n",
        "        model.eval()\n",
        "    return model"
      ],
      "metadata": {
        "id": "0LJua8ODjC30"
      },
      "execution_count": 16,
      "outputs": []
    },
    {
      "cell_type": "markdown",
      "source": [
        "Для предсказания по модели torch"
      ],
      "metadata": {
        "id": "3QENITMWDPRn"
      }
    },
    {
      "cell_type": "code",
      "source": [
        "def predict_image(model_instance, class_names, image, transform, device=\"cpu\"):\n",
        "    image_tensor = transform(image).float()\n",
        "    image_tensor = image_tensor.unsqueeze_(0)\n",
        "    input = torch.autograd.Variable(image_tensor)\n",
        "    input = input.to(device)\n",
        "    output = model_instance(input)\n",
        "    index = output.data.cpu().numpy().argmax()\n",
        "    return class_names[index]"
      ],
      "metadata": {
        "id": "jgm1_L-tDPAh"
      },
      "execution_count": 17,
      "outputs": []
    },
    {
      "cell_type": "markdown",
      "source": [
        "#### Цепь маркова"
      ],
      "metadata": {
        "id": "A-Bj6bR1WyqE"
      }
    },
    {
      "cell_type": "code",
      "source": [
        "class MarkovChain:\n",
        "    START_TOKEN = \" \"\n",
        "    \n",
        "    def __init__(self, text: str, sequence_size:int):\n",
        "        \"\"\"\n",
        "        Markov chain allows us to predict the next element of a sequence based\n",
        "         on the current state. Here we predict the next character based of a\n",
        "         given sequence of characters.\n",
        "        \n",
        "        parameters:\n",
        "            text:          one string that contains the whole text on which the chain\n",
        "                            is going to be based\n",
        "            sequence_size: to predict the next element we take into account the last N\n",
        "                            elements of a given sequence. This parameter is the N.\n",
        "        \"\"\"\n",
        "        self.seq_size = sequence_size\n",
        "        self.text = text\n",
        "        self.corpus = self.normalize()\n",
        "        self.all_chars = sorted(list(set(''.join(self.corpus)) - set(whitespace)))\n",
        "        self.char_to_id = self.__char_to_id__()\n",
        "        self.id_to_char = {v: k for k, v in self.char_to_id.items()}\n",
        "        self.M = self.__coocurrance_matrix__()\n",
        "        \n",
        "    def predict_next_char(self, chars) -> str:\n",
        "        assert len(chars) == self.seq_size\n",
        "        \n",
        "        id_tupl = tuple([self.char_to_id[char] for char in chars])\n",
        "        next_id: int = np.argmax(self.M[id_tupl])\n",
        "        if next_id == 0:\n",
        "            # Every char has equal probability, most possibly 0, and <END> tag is returned\n",
        "            return None \n",
        "        next_char: str = self.id_to_char[next_id]\n",
        "        return next_char\n",
        "        \n",
        "    def proba(self, prev, next_) -> float:\n",
        "        \n",
        "        try:\n",
        "          assert len(prev) == self.seq_size\n",
        "          assert next_ in self.char_to_id\n",
        "          id_tupl = tuple([self.char_to_id[char] for char in prev])\n",
        "          next_id = self.char_to_id[next_]\n",
        "          proba = self.M[id_tupl][next_id]\n",
        "        except:\n",
        "          proba = 0\n",
        "        return proba\n",
        "    \n",
        "    def normalize(self):\n",
        "        tokens = [t.text.strip(punctuation) for t in tokenize(self.text)]\n",
        "        return [t for t in tokens if len(t) > 0]\n",
        "    \n",
        "    def __coocurrance_matrix__(self):\n",
        "        M = np.zeros(tuple(\n",
        "                    [len(self.char_to_id)] * (self.seq_size+1)\n",
        "                 ))\n",
        "        for word in self.corpus:\n",
        "            # srez has size `self.seq_size` + 1\n",
        "            for srez in self.__char_groups__(word):\n",
        "                ids = tuple([self.char_to_id[char] for char in srez])\n",
        "                M[ids] += 1\n",
        "        return M\n",
        "                \n",
        "        \n",
        "    def __char_to_id__(self):\n",
        "        char_to_id = {\n",
        "            MarkovChain.START_TOKEN: 0,\n",
        "        }\n",
        "        for i, char in enumerate(self.all_chars):\n",
        "            i += 1\n",
        "            char_to_id[char] = i\n",
        "        return char_to_id\n",
        "        \n",
        "    def __char_groups__(self, word):\n",
        "        word: list = list(word)\n",
        "        size = self.seq_size\n",
        "\n",
        "        # padding\n",
        "        for i in range(size):\n",
        "            word.insert(0, MarkovChain.START_TOKEN)\n",
        "        \n",
        "        for i in range(len(word)-size):\n",
        "            yield tuple(word[i:i+size+1])"
      ],
      "metadata": {
        "id": "SEMauoZ_dKAQ"
      },
      "execution_count": 18,
      "outputs": []
    },
    {
      "cell_type": "code",
      "source": [
        "class MarkovChainLight:\n",
        "    START_TOKEN = \" \"\n",
        "    \n",
        "    def __init__(self, text: str, sequence_size:int):\n",
        "        \"\"\"\n",
        "        Markov chain allows us to predict the next element of a sequence based\n",
        "         on the current state. Here we predict the next character based of a\n",
        "         given sequence of characters.\n",
        "        \n",
        "        parameters:\n",
        "            text:          one string that contains the whole text on which the chain\n",
        "                            is going to be based\n",
        "            sequence_size: to predict the next element we take into account the last N\n",
        "                            elements of a given sequence. This parameter is the N.\n",
        "        \"\"\"\n",
        "        self.seq_size = sequence_size\n",
        "        self.text = text\n",
        "        self.corpus = [text]\n",
        "        self.all_chars = sorted(list(set(''.join(self.corpus)) - set(whitespace)))\n",
        "        self.char_to_id = self.__char_to_id__()\n",
        "        self.id_to_char = {v: k for k, v in self.char_to_id.items()}\n",
        "        self.M = self.__coocurrance_matrix__()\n",
        "        \n",
        "    def predict_next_char(self, chars) -> str:\n",
        "        assert len(chars) == self.seq_size\n",
        "        \n",
        "        id_tupl = tuple([self.char_to_id[char] for char in chars])\n",
        "        next_id: int = np.argmax(self.M[id_tupl])\n",
        "        if next_id == 0:\n",
        "            # Every char has equal probability, most possibly 0, and <END> tag is returned\n",
        "            return None \n",
        "        next_char: str = self.id_to_char[next_id]\n",
        "        return next_char\n",
        "        \n",
        "    def proba(self, prev, next_) -> float:\n",
        "        \n",
        "        try:\n",
        "          assert len(prev) == self.seq_size\n",
        "          assert next_ in self.char_to_id\n",
        "          id_tupl = tuple([self.char_to_id[char] for char in prev])\n",
        "          next_id = self.char_to_id[next_]\n",
        "          proba = self.M[id_tupl][next_id]\n",
        "        except:\n",
        "          proba = 0\n",
        "        return proba\n",
        "    \n",
        "    def normalize(self):\n",
        "        tokens = [t.text.strip(punctuation) for t in tokenize(self.text)]\n",
        "        return [t for t in tokens if len(t) > 0]\n",
        "    \n",
        "    def __coocurrance_matrix__(self):\n",
        "        M = np.zeros(tuple(\n",
        "                    [len(self.char_to_id)] * (self.seq_size+1)\n",
        "                 ))\n",
        "        for word in self.corpus:\n",
        "            # srez has size `self.seq_size` + 1\n",
        "            for srez in self.__char_groups__(word):\n",
        "                ids = tuple([self.char_to_id[char] for char in srez])\n",
        "                M[ids] += 1\n",
        "        return M\n",
        "                \n",
        "        \n",
        "    def __char_to_id__(self):\n",
        "        char_to_id = {\n",
        "            MarkovChainLight.START_TOKEN: 0,\n",
        "        }\n",
        "        for i, char in enumerate(self.all_chars):\n",
        "            i += 2\n",
        "            char_to_id[char] = i\n",
        "        return char_to_id\n",
        "        \n",
        "    def __char_groups__(self, word):\n",
        "        word: list = list(word)\n",
        "        size = self.seq_size\n",
        "\n",
        "        # padding\n",
        "        for i in range(size):\n",
        "            word.insert(0, MarkovChainLight.START_TOKEN)\n",
        "        \n",
        "        for i in range(len(word)-size):\n",
        "            yield tuple(word[i:i+size+1])"
      ],
      "metadata": {
        "id": "EITq8Ro2AiAG"
      },
      "execution_count": 19,
      "outputs": []
    },
    {
      "cell_type": "markdown",
      "source": [
        "## Предсказание"
      ],
      "metadata": {
        "id": "DYSgzcWrW8MB"
      }
    },
    {
      "cell_type": "markdown",
      "source": [
        "### Лучшая модель, её датасет"
      ],
      "metadata": {
        "id": "Y9iFbRkIH2ae"
      }
    },
    {
      "cell_type": "code",
      "source": [
        "model_path = \"/content/drive/MyDrive/models/cnn_podelka_65ep.pt\"\n",
        "double_conv_model_with_scheduling = torch.nn.Sequential(\n",
        "  torch.nn.Conv2d(in_channels=3, out_channels=10, kernel_size=5),\n",
        "  torch.nn.ReLU(),\n",
        "  torch.nn.MaxPool2d(kernel_size=2),\n",
        "  torch.nn.Conv2d(in_channels=10, out_channels=20, kernel_size=5),\n",
        "  torch.nn.ReLU(),\n",
        "  torch.nn.MaxPool2d(kernel_size=2),\n",
        "  torch.nn.Flatten(),\n",
        "  torch.nn.Linear(1620, 512),\n",
        "  torch.nn.ReLU(),\n",
        "  torch.nn.Linear(512, 36),\n",
        "  )\n",
        "best_model = load_custom_model_from_pt(model_path, double_conv_model_with_scheduling, device)\n",
        "\n",
        "# model_path = \"/content/drive/MyDrive/models/cnn_podelka_cropped_chars.pt\"\n",
        "# double_conv_model_with_scheduling = torch.nn.Sequential(\n",
        "#   torch.nn.Conv2d(in_channels=3, out_channels=10, kernel_size=5),\n",
        "#   torch.nn.ReLU(),\n",
        "#   torch.nn.MaxPool2d(kernel_size=2),\n",
        "#   torch.nn.Conv2d(in_channels=10, out_channels=20, kernel_size=5),\n",
        "#   torch.nn.ReLU(),\n",
        "#   torch.nn.MaxPool2d(kernel_size=2),\n",
        "#   torch.nn.Flatten(),\n",
        "#   torch.nn.Linear(1620, 512),\n",
        "#   torch.nn.ReLU(),\n",
        "#   torch.nn.Linear(512, 54),\n",
        "#   )\n",
        "# best_model = load_custom_model_from_pt(model_path, double_conv_model_with_scheduling, device)"
      ],
      "metadata": {
        "id": "eMNZUTBtH2BN"
      },
      "execution_count": 28,
      "outputs": []
    },
    {
      "cell_type": "code",
      "source": [
        "transform = Compose(\n",
        "        [\n",
        "            Resize((50, 50)), \n",
        "            # RandomAffine(degrees=15),\n",
        "            ToTensor(),\n",
        "            # RandomErasing(inplace=True),\n",
        "            Normalize(mean=[0.485, 0.456, 0.406],\n",
        "                      std=[0.229, 0.224, 0.225])\n",
        "        ]\n",
        "    )\n",
        "dataset = ImageFolder(\n",
        "    \"./dataset_more_data\", \n",
        "    transform=transform\n",
        ")\n",
        "class_names = list(dataset.class_to_idx.keys())\n",
        "classes = {v: k for k,v in dataset.class_to_idx.items()}\n",
        "print(class_names)\n",
        "\n",
        "# transform = Compose(\n",
        "#         [\n",
        "#             Resize((50, 50)), \n",
        "#             # RandomAffine(degrees=15),\n",
        "#             ToTensor(), \n",
        "#             # RandomErasing(inplace=True),\n",
        "#             # Normalize(mean=[0.485, 0.456, 0.406],\n",
        "#             #           std=[0.229, 0.224, 0.225]),\n",
        "#             RandomErasing(value=(-255,-255,-255), ratio=(.3, .4), scale=(.1, .1)),\n",
        "#         ]\n",
        "#     )\n",
        "# dataset = ImageFolder(\n",
        "#     \"./dataset_cropped_chars\", \n",
        "#     transform=transform\n",
        "# )\n",
        "\n",
        "# class_names = list(dataset.class_to_idx.keys())\n",
        "# classes = {v: k for k,v in dataset.class_to_idx.items()}\n",
        "# print(class_names)"
      ],
      "metadata": {
        "colab": {
          "base_uri": "https://localhost:8080/"
        },
        "id": "DCxL2K1QIY_L",
        "outputId": "162f1815-6e50-4780-8d01-b7efc91aecb5"
      },
      "execution_count": 26,
      "outputs": [
        {
          "output_type": "stream",
          "name": "stdout",
          "text": [
            "['dash', 'e_mark', 'q_mark', 'а', 'б', 'в', 'г', 'д', 'е', 'ж', 'з', 'и', 'й', 'к', 'л', 'м', 'н', 'о', 'п', 'р', 'с', 'т', 'у', 'ф', 'х', 'ц', 'ч', 'ш', 'щ', 'ъ', 'ы', 'ь', 'э', 'ю', 'я', 'ё']\n"
          ]
        }
      ]
    },
    {
      "cell_type": "markdown",
      "source": [
        "### Непосредственно предсказание"
      ],
      "metadata": {
        "id": "tFG-cEk2H2vv"
      }
    },
    {
      "cell_type": "markdown",
      "source": [
        "#### Скользящее окно. Поскользнулось и не работает"
      ],
      "metadata": {
        "id": "3QrIcCntBM1M"
      }
    },
    {
      "cell_type": "code",
      "source": [
        "def parse_word_with_incremental_window(\n",
        "    path,\n",
        "    classifier,\n",
        "    chain,\n",
        "    dataset,\n",
        "    device,\n",
        "    window_min_size=15,\n",
        "    window_max_size=50,\n",
        "    window_growth_step=5,\n",
        "    window_slide_step=5,\n",
        "    markov_threshold: float = 0.,\n",
        "    save_img: bool = False,\n",
        "    save_path: bool = None):\n",
        "  \"\"\"\n",
        "  Sliding window goes through the image located at `path`. It is defined by its \n",
        "    leftmost position and its size, i.e. how far right it spans. \n",
        "  With each attempt at recognition of a letter the window will grow from `window_min_size` to `window_max_size` with step `window_growth_step`\n",
        "    until it either successfully predicts a letter or can grow no more.\n",
        "  Either the probability of prediction must be >= `classification_threshold`,\n",
        "      or the probability of this letter being a continuation of the previous sequence must be >= `markov_threshold`.\n",
        "\n",
        "  Parameters:\n",
        "    path: path to an image of a word\n",
        "    classifier: sklearn classifier or anything that has same interface for prediction\n",
        "    chain: Markov chain to evaluate, how well the predicted char fits in the previous sequence.\n",
        "    dataset: pytorch dataset. Is used to take classes and transform object from it\n",
        "    device: cuda or cpu\n",
        "    window_min_size: the starting width of a sliding window\n",
        "    window_max_size: the max width of a sliding window.\n",
        "    window_growth_step: how much a sliding window grows if no char was recognised for current size. \n",
        "                        Window never grows beyond `window_max_size` or the width of the image.\n",
        "    window_slide_step: the step of a sliding window, like a stride in a CNN\n",
        "    classification_threshold: how high must the probability of prediction be qualify for a valid classification\n",
        "    markov_threshold: how high must the probability of a letter-sequence be to qualify for a valid sequence\n",
        "    save_img: whether the content of the window is saved, given that the prediction probability surpasses the thresholds\n",
        "  \"\"\"\n",
        "  assert window_min_size <= window_max_size\n",
        "  transform = dataset.transform\n",
        "  classes = {v: k for k,v in dataset.class_to_idx.items()}\n",
        "  word_img = Image.open(path)\n",
        "  width,height= word_img.size\n",
        "\n",
        "  if width < window_min_size:\n",
        "    # if the image is very small, we will inspect it once and hope for the best\n",
        "    window_min_size = width\n",
        "\n",
        "  # left border of a window \n",
        "  position = 0\n",
        "  # initial padding for markov chain\n",
        "  inferred = [MarkovChain.START_TOKEN] * chain.seq_size\n",
        "  pics = []\n",
        "  while position <= width - window_min_size:\n",
        "    window_size = window_min_size\n",
        "    success = False\n",
        "\n",
        "    while window_size <= window_max_size and position + window_size <= width:\n",
        "      # print(f\"Infering {path}. Position: {position}, window size: {window_size}\")\n",
        "      l, r = position, position + window_size \n",
        "      window = word_img.crop((l,0,r,height))\n",
        "      pad_size = 5 ## (BASE_WIDTH-window.width)//2\n",
        "      resized = preprocess(\n",
        "          window,\n",
        "          padding=10,\n",
        "          min_contour=30,\n",
        "          deacrease_contour_if_none=True,\n",
        "      )      \n",
        "      letter = predict_image(classifier, classes, resized, transform, \"cpu\")\n",
        "      markov_sure = chain.proba(inferred[-chain.seq_size:], next_=letter) >= markov_threshold\n",
        "      if markov_sure:\n",
        "        # print(f\"COOL! Infered {letter}. Position: {position}, window size: {window_size}. Markov: {markov_sure}, Predictor: {predictor_sure}\")\n",
        "        success = True\n",
        "        inferred.append(letter)\n",
        "        pics.append(resized)\n",
        "        if save_img and save_path is not None:\n",
        "          path_prefix = f\"{save_path}/{letter}\"\n",
        "          os.makedirs(path_prefix, exist_ok=True)\n",
        "          target_loc = next_path(path_pattern=f\"{path_prefix}/{letter}-%s.jpg\")\n",
        "          window.save(target_loc)\n",
        "        break\n",
        "      else:\n",
        "        window_size += window_growth_step\n",
        "    if success is True:\n",
        "      # this window contained a letter, so we can go further for its whole width\n",
        "      position += window_size\n",
        "    else:\n",
        "      position += window_slide_step\n",
        "  return pics, inferred[chain.seq_size:]#''.join(inferred[chain.seq_size:])"
      ],
      "metadata": {
        "id": "K4FWLrW7BMAK"
      },
      "execution_count": 30,
      "outputs": []
    },
    {
      "cell_type": "code",
      "source": [
        "text = open(\"dictation_text.txt\").read().lower()\n",
        "chain = MarkovChain(sequence_size=3,text=text)\n",
        "# 57347_16 хороший почерк\n",
        "words = glob(\"./words/57347_16/**/*.jpg\", recursive=True)\n",
        "print(words)\n",
        "word = words[26]\n",
        "word_img = Image.open(word)\n",
        "word_img"
      ],
      "metadata": {
        "id": "Fdk_viylB-ug",
        "colab": {
          "base_uri": "https://localhost:8080/",
          "height": 104
        },
        "outputId": "459f5d38-4cbc-4fbc-cd1f-9f9110773c55"
      },
      "execution_count": 32,
      "outputs": [
        {
          "output_type": "stream",
          "name": "stdout",
          "text": [
            "['./words/57347_16/57347_16-0/12/2.jpg', './words/57347_16/57347_16-0/12/5.jpg', './words/57347_16/57347_16-0/12/0.jpg', './words/57347_16/57347_16-0/12/3.jpg', './words/57347_16/57347_16-0/12/4.jpg', './words/57347_16/57347_16-0/12/1.jpg', './words/57347_16/57347_16-0/12/6.jpg', './words/57347_16/57347_16-0/21/2.jpg', './words/57347_16/57347_16-0/21/0.jpg', './words/57347_16/57347_16-0/21/3.jpg', './words/57347_16/57347_16-0/21/4.jpg', './words/57347_16/57347_16-0/21/1.jpg', './words/57347_16/57347_16-0/19/2.jpg', './words/57347_16/57347_16-0/19/0.jpg', './words/57347_16/57347_16-0/19/3.jpg', './words/57347_16/57347_16-0/19/4.jpg', './words/57347_16/57347_16-0/19/1.jpg', './words/57347_16/57347_16-0/1/2.jpg', './words/57347_16/57347_16-0/1/5.jpg', './words/57347_16/57347_16-0/1/0.jpg', './words/57347_16/57347_16-0/1/3.jpg', './words/57347_16/57347_16-0/1/4.jpg', './words/57347_16/57347_16-0/1/1.jpg', './words/57347_16/57347_16-0/1/6.jpg', './words/57347_16/57347_16-0/1/7.jpg', './words/57347_16/57347_16-0/14/2.jpg', './words/57347_16/57347_16-0/14/0.jpg', './words/57347_16/57347_16-0/14/3.jpg', './words/57347_16/57347_16-0/14/1.jpg', './words/57347_16/57347_16-0/25/2.jpg', './words/57347_16/57347_16-0/25/0.jpg', './words/57347_16/57347_16-0/25/3.jpg', './words/57347_16/57347_16-0/25/4.jpg', './words/57347_16/57347_16-0/25/1.jpg', './words/57347_16/57347_16-0/6/2.jpg', './words/57347_16/57347_16-0/6/0.jpg', './words/57347_16/57347_16-0/6/3.jpg', './words/57347_16/57347_16-0/6/1.jpg', './words/57347_16/57347_16-0/2/2.jpg', './words/57347_16/57347_16-0/2/0.jpg', './words/57347_16/57347_16-0/2/3.jpg', './words/57347_16/57347_16-0/2/4.jpg', './words/57347_16/57347_16-0/2/1.jpg', './words/57347_16/57347_16-0/18/2.jpg', './words/57347_16/57347_16-0/18/0.jpg', './words/57347_16/57347_16-0/18/3.jpg', './words/57347_16/57347_16-0/18/4.jpg', './words/57347_16/57347_16-0/18/1.jpg', './words/57347_16/57347_16-0/10/2.jpg', './words/57347_16/57347_16-0/10/5.jpg', './words/57347_16/57347_16-0/10/0.jpg', './words/57347_16/57347_16-0/10/3.jpg', './words/57347_16/57347_16-0/10/4.jpg', './words/57347_16/57347_16-0/10/1.jpg', './words/57347_16/57347_16-0/0/0.jpg', './words/57347_16/57347_16-0/27/2.jpg', './words/57347_16/57347_16-0/27/0.jpg', './words/57347_16/57347_16-0/27/3.jpg', './words/57347_16/57347_16-0/27/4.jpg', './words/57347_16/57347_16-0/27/1.jpg', './words/57347_16/57347_16-0/26/2.jpg', './words/57347_16/57347_16-0/26/5.jpg', './words/57347_16/57347_16-0/26/0.jpg', './words/57347_16/57347_16-0/26/3.jpg', './words/57347_16/57347_16-0/26/4.jpg', './words/57347_16/57347_16-0/26/1.jpg', './words/57347_16/57347_16-0/26/6.jpg', './words/57347_16/57347_16-0/11/2.jpg', './words/57347_16/57347_16-0/11/5.jpg', './words/57347_16/57347_16-0/11/0.jpg', './words/57347_16/57347_16-0/11/3.jpg', './words/57347_16/57347_16-0/11/4.jpg', './words/57347_16/57347_16-0/11/1.jpg', './words/57347_16/57347_16-0/20/2.jpg', './words/57347_16/57347_16-0/20/0.jpg', './words/57347_16/57347_16-0/20/3.jpg', './words/57347_16/57347_16-0/20/4.jpg', './words/57347_16/57347_16-0/20/1.jpg', './words/57347_16/57347_16-0/22/2.jpg', './words/57347_16/57347_16-0/22/5.jpg', './words/57347_16/57347_16-0/22/0.jpg', './words/57347_16/57347_16-0/22/3.jpg', './words/57347_16/57347_16-0/22/4.jpg', './words/57347_16/57347_16-0/22/1.jpg', './words/57347_16/57347_16-0/9/2.jpg', './words/57347_16/57347_16-0/9/5.jpg', './words/57347_16/57347_16-0/9/0.jpg', './words/57347_16/57347_16-0/9/3.jpg', './words/57347_16/57347_16-0/9/4.jpg', './words/57347_16/57347_16-0/9/1.jpg', './words/57347_16/57347_16-0/9/6.jpg', './words/57347_16/57347_16-0/9/7.jpg', './words/57347_16/57347_16-0/23/2.jpg', './words/57347_16/57347_16-0/23/0.jpg', './words/57347_16/57347_16-0/23/1.jpg', './words/57347_16/57347_16-0/15/2.jpg', './words/57347_16/57347_16-0/15/5.jpg', './words/57347_16/57347_16-0/15/0.jpg', './words/57347_16/57347_16-0/15/3.jpg', './words/57347_16/57347_16-0/15/4.jpg', './words/57347_16/57347_16-0/15/1.jpg', './words/57347_16/57347_16-0/15/6.jpg', './words/57347_16/57347_16-0/7/2.jpg', './words/57347_16/57347_16-0/7/0.jpg', './words/57347_16/57347_16-0/7/3.jpg', './words/57347_16/57347_16-0/7/4.jpg', './words/57347_16/57347_16-0/7/1.jpg', './words/57347_16/57347_16-0/4/2.jpg', './words/57347_16/57347_16-0/4/5.jpg', './words/57347_16/57347_16-0/4/0.jpg', './words/57347_16/57347_16-0/4/3.jpg', './words/57347_16/57347_16-0/4/4.jpg', './words/57347_16/57347_16-0/4/1.jpg', './words/57347_16/57347_16-0/16/2.jpg', './words/57347_16/57347_16-0/16/0.jpg', './words/57347_16/57347_16-0/16/3.jpg', './words/57347_16/57347_16-0/16/4.jpg', './words/57347_16/57347_16-0/16/1.jpg', './words/57347_16/57347_16-0/8/2.jpg', './words/57347_16/57347_16-0/8/5.jpg', './words/57347_16/57347_16-0/8/0.jpg', './words/57347_16/57347_16-0/8/3.jpg', './words/57347_16/57347_16-0/8/4.jpg', './words/57347_16/57347_16-0/8/1.jpg', './words/57347_16/57347_16-0/13/2.jpg', './words/57347_16/57347_16-0/13/0.jpg', './words/57347_16/57347_16-0/13/3.jpg', './words/57347_16/57347_16-0/13/4.jpg', './words/57347_16/57347_16-0/13/1.jpg', './words/57347_16/57347_16-0/29/2.jpg', './words/57347_16/57347_16-0/29/5.jpg', './words/57347_16/57347_16-0/29/0.jpg', './words/57347_16/57347_16-0/29/3.jpg', './words/57347_16/57347_16-0/29/4.jpg', './words/57347_16/57347_16-0/29/1.jpg', './words/57347_16/57347_16-0/3/2.jpg', './words/57347_16/57347_16-0/3/5.jpg', './words/57347_16/57347_16-0/3/0.jpg', './words/57347_16/57347_16-0/3/3.jpg', './words/57347_16/57347_16-0/3/4.jpg', './words/57347_16/57347_16-0/3/1.jpg', './words/57347_16/57347_16-0/28/2.jpg', './words/57347_16/57347_16-0/28/5.jpg', './words/57347_16/57347_16-0/28/0.jpg', './words/57347_16/57347_16-0/28/3.jpg', './words/57347_16/57347_16-0/28/4.jpg', './words/57347_16/57347_16-0/28/1.jpg', './words/57347_16/57347_16-0/28/6.jpg', './words/57347_16/57347_16-0/17/2.jpg', './words/57347_16/57347_16-0/17/0.jpg', './words/57347_16/57347_16-0/17/3.jpg', './words/57347_16/57347_16-0/17/4.jpg', './words/57347_16/57347_16-0/17/1.jpg', './words/57347_16/57347_16-0/5/2.jpg', './words/57347_16/57347_16-0/5/5.jpg', './words/57347_16/57347_16-0/5/0.jpg', './words/57347_16/57347_16-0/5/3.jpg', './words/57347_16/57347_16-0/5/4.jpg', './words/57347_16/57347_16-0/5/1.jpg', './words/57347_16/57347_16-0/5/6.jpg', './words/57347_16/57347_16-0/24/2.jpg', './words/57347_16/57347_16-0/24/5.jpg', './words/57347_16/57347_16-0/24/0.jpg', './words/57347_16/57347_16-0/24/3.jpg', './words/57347_16/57347_16-0/24/4.jpg', './words/57347_16/57347_16-0/24/1.jpg', './words/57347_16/57347_16-1/12/2.jpg', './words/57347_16/57347_16-1/12/5.jpg', './words/57347_16/57347_16-1/12/0.jpg', './words/57347_16/57347_16-1/12/3.jpg', './words/57347_16/57347_16-1/12/4.jpg', './words/57347_16/57347_16-1/12/1.jpg', './words/57347_16/57347_16-1/21/0.jpg', './words/57347_16/57347_16-1/21/1.jpg', './words/57347_16/57347_16-1/19/2.jpg', './words/57347_16/57347_16-1/19/5.jpg', './words/57347_16/57347_16-1/19/0.jpg', './words/57347_16/57347_16-1/19/3.jpg', './words/57347_16/57347_16-1/19/1.jpg', './words/57347_16/57347_16-1/19/6.jpg', './words/57347_16/57347_16-1/1/2.jpg', './words/57347_16/57347_16-1/1/5.jpg', './words/57347_16/57347_16-1/1/0.jpg', './words/57347_16/57347_16-1/1/3.jpg', './words/57347_16/57347_16-1/1/4.jpg', './words/57347_16/57347_16-1/1/1.jpg', './words/57347_16/57347_16-1/14/2.jpg', './words/57347_16/57347_16-1/14/5.jpg', './words/57347_16/57347_16-1/14/0.jpg', './words/57347_16/57347_16-1/14/4.jpg', './words/57347_16/57347_16-1/14/1.jpg', './words/57347_16/57347_16-1/6/2.jpg', './words/57347_16/57347_16-1/6/5.jpg', './words/57347_16/57347_16-1/6/0.jpg', './words/57347_16/57347_16-1/6/3.jpg', './words/57347_16/57347_16-1/6/4.jpg', './words/57347_16/57347_16-1/6/1.jpg', './words/57347_16/57347_16-1/2/2.jpg', './words/57347_16/57347_16-1/2/5.jpg', './words/57347_16/57347_16-1/2/0.jpg', './words/57347_16/57347_16-1/2/3.jpg', './words/57347_16/57347_16-1/2/4.jpg', './words/57347_16/57347_16-1/2/1.jpg', './words/57347_16/57347_16-1/18/2.jpg', './words/57347_16/57347_16-1/18/0.jpg', './words/57347_16/57347_16-1/18/3.jpg', './words/57347_16/57347_16-1/18/4.jpg', './words/57347_16/57347_16-1/18/1.jpg', './words/57347_16/57347_16-1/10/2.jpg', './words/57347_16/57347_16-1/10/5.jpg', './words/57347_16/57347_16-1/10/0.jpg', './words/57347_16/57347_16-1/10/3.jpg', './words/57347_16/57347_16-1/10/4.jpg', './words/57347_16/57347_16-1/10/1.jpg', './words/57347_16/57347_16-1/0/2.jpg', './words/57347_16/57347_16-1/0/5.jpg', './words/57347_16/57347_16-1/0/0.jpg', './words/57347_16/57347_16-1/0/3.jpg', './words/57347_16/57347_16-1/0/4.jpg', './words/57347_16/57347_16-1/0/1.jpg', './words/57347_16/57347_16-1/0/6.jpg', './words/57347_16/57347_16-1/11/2.jpg', './words/57347_16/57347_16-1/11/0.jpg', './words/57347_16/57347_16-1/11/3.jpg', './words/57347_16/57347_16-1/11/1.jpg', './words/57347_16/57347_16-1/20/2.jpg', './words/57347_16/57347_16-1/20/5.jpg', './words/57347_16/57347_16-1/20/0.jpg', './words/57347_16/57347_16-1/20/3.jpg', './words/57347_16/57347_16-1/20/9.jpg', './words/57347_16/57347_16-1/20/8.jpg', './words/57347_16/57347_16-1/20/4.jpg', './words/57347_16/57347_16-1/20/6.jpg', './words/57347_16/57347_16-1/20/7.jpg', './words/57347_16/57347_16-1/9/2.jpg', './words/57347_16/57347_16-1/9/0.jpg', './words/57347_16/57347_16-1/9/3.jpg', './words/57347_16/57347_16-1/9/1.jpg', './words/57347_16/57347_16-1/15/0.jpg', './words/57347_16/57347_16-1/7/2.jpg', './words/57347_16/57347_16-1/7/5.jpg', './words/57347_16/57347_16-1/7/0.jpg', './words/57347_16/57347_16-1/7/3.jpg', './words/57347_16/57347_16-1/7/4.jpg', './words/57347_16/57347_16-1/7/1.jpg', './words/57347_16/57347_16-1/4/2.jpg', './words/57347_16/57347_16-1/4/0.jpg', './words/57347_16/57347_16-1/4/3.jpg', './words/57347_16/57347_16-1/4/4.jpg', './words/57347_16/57347_16-1/4/1.jpg', './words/57347_16/57347_16-1/16/0.jpg', './words/57347_16/57347_16-1/16/1.jpg', './words/57347_16/57347_16-1/8/2.jpg', './words/57347_16/57347_16-1/8/0.jpg', './words/57347_16/57347_16-1/8/3.jpg', './words/57347_16/57347_16-1/8/1.jpg', './words/57347_16/57347_16-1/13/2.jpg', './words/57347_16/57347_16-1/13/0.jpg', './words/57347_16/57347_16-1/13/3.jpg', './words/57347_16/57347_16-1/13/4.jpg', './words/57347_16/57347_16-1/13/1.jpg', './words/57347_16/57347_16-1/3/2.jpg', './words/57347_16/57347_16-1/3/0.jpg', './words/57347_16/57347_16-1/3/3.jpg', './words/57347_16/57347_16-1/3/1.jpg', './words/57347_16/57347_16-1/17/2.jpg', './words/57347_16/57347_16-1/17/5.jpg', './words/57347_16/57347_16-1/17/3.jpg', './words/57347_16/57347_16-1/17/4.jpg', './words/57347_16/57347_16-1/17/1.jpg', './words/57347_16/57347_16-1/17/6.jpg', './words/57347_16/57347_16-1/5/2.jpg', './words/57347_16/57347_16-1/5/0.jpg', './words/57347_16/57347_16-1/5/1.jpg']\n"
          ]
        },
        {
          "output_type": "execute_result",
          "data": {
            "text/plain": [
              "<PIL.JpegImagePlugin.JpegImageFile image mode=RGB size=83x50 at 0x7F06EF2F7590>"
            ],
            "image/png": "[encoded data removed]"
          },
          "metadata": {},
          "execution_count": 32
        }
      ]
    },
    {
      "cell_type": "code",
      "source": [
        "parsed = parse_word_with_incremental_window(\n",
        "  path=word,\n",
        "  classifier=best_model,\n",
        "  chain=chain,\n",
        "  dataset=dataset,\n",
        "  device=device,\n",
        "  markov_threshold=0.05,\n",
        "  window_min_size=10\n",
        ")\n",
        "parsed"
      ],
      "metadata": {
        "id": "YHYkImINCAJo",
        "colab": {
          "base_uri": "https://localhost:8080/",
          "height": 381
        },
        "outputId": "ac4acd7b-782b-4035-c5cf-b03329aad38f"
      },
      "execution_count": 33,
      "outputs": [
        {
          "output_type": "error",
          "ename": "TypeError",
          "evalue": "ignored",
          "traceback": [
            "\u001b[0;31m---------------------------------------------------------------------------\u001b[0m",
            "\u001b[0;31mTypeError\u001b[0m                                 Traceback (most recent call last)",
            "\u001b[0;32m<ipython-input-33-00e4e4edc8bb>\u001b[0m in \u001b[0;36m<module>\u001b[0;34m()\u001b[0m\n\u001b[1;32m      6\u001b[0m   \u001b[0mdevice\u001b[0m\u001b[0;34m=\u001b[0m\u001b[0mdevice\u001b[0m\u001b[0;34m,\u001b[0m\u001b[0;34m\u001b[0m\u001b[0;34m\u001b[0m\u001b[0m\n\u001b[1;32m      7\u001b[0m   \u001b[0mmarkov_threshold\u001b[0m\u001b[0;34m=\u001b[0m\u001b[0;36m0.05\u001b[0m\u001b[0;34m,\u001b[0m\u001b[0;34m\u001b[0m\u001b[0;34m\u001b[0m\u001b[0m\n\u001b[0;32m----> 8\u001b[0;31m   \u001b[0mwindow_min_size\u001b[0m\u001b[0;34m=\u001b[0m\u001b[0;36m10\u001b[0m\u001b[0;34m\u001b[0m\u001b[0;34m\u001b[0m\u001b[0m\n\u001b[0m\u001b[1;32m      9\u001b[0m )\n\u001b[1;32m     10\u001b[0m \u001b[0mparsed\u001b[0m\u001b[0;34m\u001b[0m\u001b[0;34m\u001b[0m\u001b[0m\n",
            "\u001b[0;32m<ipython-input-30-f84240244dea>\u001b[0m in \u001b[0;36mparse_word_with_incremental_window\u001b[0;34m(path, classifier, chain, dataset, device, window_min_size, window_max_size, window_growth_step, window_slide_step, markov_threshold, save_img, save_path)\u001b[0m\n\u001b[1;32m     63\u001b[0m           \u001b[0mpadding\u001b[0m\u001b[0;34m=\u001b[0m\u001b[0;36m10\u001b[0m\u001b[0;34m,\u001b[0m\u001b[0;34m\u001b[0m\u001b[0;34m\u001b[0m\u001b[0m\n\u001b[1;32m     64\u001b[0m           \u001b[0mmin_contour\u001b[0m\u001b[0;34m=\u001b[0m\u001b[0;36m30\u001b[0m\u001b[0;34m,\u001b[0m\u001b[0;34m\u001b[0m\u001b[0;34m\u001b[0m\u001b[0m\n\u001b[0;32m---> 65\u001b[0;31m           \u001b[0mdeacrease_contour_if_none\u001b[0m\u001b[0;34m=\u001b[0m\u001b[0;32mTrue\u001b[0m\u001b[0;34m,\u001b[0m\u001b[0;34m\u001b[0m\u001b[0;34m\u001b[0m\u001b[0m\n\u001b[0m\u001b[1;32m     66\u001b[0m       )      \n\u001b[1;32m     67\u001b[0m       \u001b[0mletter\u001b[0m \u001b[0;34m=\u001b[0m \u001b[0mpredict_image\u001b[0m\u001b[0;34m(\u001b[0m\u001b[0mclassifier\u001b[0m\u001b[0;34m,\u001b[0m \u001b[0mclasses\u001b[0m\u001b[0;34m,\u001b[0m \u001b[0mresized\u001b[0m\u001b[0;34m,\u001b[0m \u001b[0mtransform\u001b[0m\u001b[0;34m,\u001b[0m \u001b[0;34m\"cpu\"\u001b[0m\u001b[0;34m)\u001b[0m\u001b[0;34m\u001b[0m\u001b[0;34m\u001b[0m\u001b[0m\n",
            "\u001b[0;32m<ipython-input-13-1551dd60d22b>\u001b[0m in \u001b[0;36mpreprocess\u001b[0;34m(image, min_contour, padding, deacrease_contour_if_none)\u001b[0m\n\u001b[1;32m     63\u001b[0m   \u001b[0;32mwhile\u001b[0m \u001b[0;32mTrue\u001b[0m\u001b[0;34m:\u001b[0m\u001b[0;34m\u001b[0m\u001b[0;34m\u001b[0m\u001b[0m\n\u001b[1;32m     64\u001b[0m     \u001b[0monly_large_countour\u001b[0m \u001b[0;34m=\u001b[0m \u001b[0mdelete_bad_contour\u001b[0m\u001b[0;34m(\u001b[0m\u001b[0mimage\u001b[0m\u001b[0;34m,\u001b[0m \u001b[0mmin_contour\u001b[0m\u001b[0;34m)\u001b[0m\u001b[0;34m\u001b[0m\u001b[0;34m\u001b[0m\u001b[0m\n\u001b[0;32m---> 65\u001b[0;31m     \u001b[0mboxed\u001b[0m \u001b[0;34m=\u001b[0m \u001b[0mput_in_a_box\u001b[0m\u001b[0;34m(\u001b[0m\u001b[0monly_large_countour\u001b[0m\u001b[0;34m)\u001b[0m\u001b[0;34m\u001b[0m\u001b[0;34m\u001b[0m\u001b[0m\n\u001b[0m\u001b[1;32m     66\u001b[0m     \u001b[0;32mif\u001b[0m \u001b[0mboxed\u001b[0m \u001b[0;32mis\u001b[0m \u001b[0;32mNone\u001b[0m \u001b[0;32mand\u001b[0m \u001b[0mdeacrease_contour_if_none\u001b[0m\u001b[0;34m:\u001b[0m\u001b[0;34m\u001b[0m\u001b[0;34m\u001b[0m\u001b[0m\n\u001b[1;32m     67\u001b[0m       \u001b[0mmin_contour\u001b[0m \u001b[0;34m-=\u001b[0m \u001b[0;36m1\u001b[0m\u001b[0;34m\u001b[0m\u001b[0;34m\u001b[0m\u001b[0m\n",
            "\u001b[0;32m<ipython-input-14-777a4ffe1381>\u001b[0m in \u001b[0;36mput_in_a_box\u001b[0;34m(char)\u001b[0m\n\u001b[1;32m     22\u001b[0m     \u001b[0mleft\u001b[0m \u001b[0;34m=\u001b[0m \u001b[0mfind_border\u001b[0m\u001b[0;34m(\u001b[0m\u001b[0mbin_img\u001b[0m\u001b[0;34m.\u001b[0m\u001b[0mT\u001b[0m\u001b[0;34m)\u001b[0m\u001b[0;34m\u001b[0m\u001b[0;34m\u001b[0m\u001b[0m\n\u001b[1;32m     23\u001b[0m     \u001b[0mtop\u001b[0m \u001b[0;34m=\u001b[0m \u001b[0mfind_border\u001b[0m\u001b[0;34m(\u001b[0m\u001b[0mbin_img\u001b[0m\u001b[0;34m)\u001b[0m\u001b[0;34m\u001b[0m\u001b[0;34m\u001b[0m\u001b[0m\n\u001b[0;32m---> 24\u001b[0;31m     \u001b[0mright\u001b[0m \u001b[0;34m=\u001b[0m \u001b[0mwidth\u001b[0m \u001b[0;34m-\u001b[0m \u001b[0mfind_border\u001b[0m\u001b[0;34m(\u001b[0m\u001b[0mbin_img\u001b[0m\u001b[0;34m.\u001b[0m\u001b[0mT\u001b[0m\u001b[0;34m[\u001b[0m\u001b[0;34m:\u001b[0m\u001b[0;34m:\u001b[0m\u001b[0;34m-\u001b[0m\u001b[0;36m1\u001b[0m\u001b[0;34m,\u001b[0m \u001b[0;34m:\u001b[0m\u001b[0;34m]\u001b[0m\u001b[0;34m)\u001b[0m\u001b[0;34m\u001b[0m\u001b[0;34m\u001b[0m\u001b[0m\n\u001b[0m\u001b[1;32m     25\u001b[0m     \u001b[0mbottom\u001b[0m \u001b[0;34m=\u001b[0m \u001b[0mheight\u001b[0m \u001b[0;34m-\u001b[0m \u001b[0mfind_border\u001b[0m\u001b[0;34m(\u001b[0m\u001b[0mbin_img\u001b[0m\u001b[0;34m[\u001b[0m\u001b[0;34m:\u001b[0m\u001b[0;34m:\u001b[0m\u001b[0;34m-\u001b[0m\u001b[0;36m1\u001b[0m\u001b[0;34m,\u001b[0m \u001b[0;34m:\u001b[0m\u001b[0;34m]\u001b[0m\u001b[0;34m)\u001b[0m\u001b[0;34m\u001b[0m\u001b[0;34m\u001b[0m\u001b[0m\n\u001b[1;32m     26\u001b[0m \u001b[0;34m\u001b[0m\u001b[0m\n",
            "\u001b[0;31mTypeError\u001b[0m: unsupported operand type(s) for -: 'int' and 'NoneType'"
          ]
        }
      ]
    },
    {
      "cell_type": "markdown",
      "source": [
        "#### Ещё что-то"
      ],
      "metadata": {
        "id": "ePQ4TABoBMnc"
      }
    },
    {
      "cell_type": "markdown",
      "source": [
        "1) \"Большое\" слово не может состоять из букв. Можно посчитать среднюю длину символа L пикселей: и рассчитывать, что слово, состоящее из `N*L +- e` состоит из N символов с погрешностью в пикселях e.\n",
        "\n",
        "2) Граница буквы в любом случае пролегает там, где в колонке содержится 1 пиксель\n",
        "\n",
        "3) Каждое новое слово - продолжение предыдущего: либо его часть, либо следует за ним в диктанте. Можно натравить марковскую цепь на это, т.е. предыдущие три символа - это не теги начала слова, а две буквы предыдущего слова и пробел."
      ],
      "metadata": {
        "id": "IPkRrNlGCPC0"
      }
    },
    {
      "cell_type": "code",
      "source": [
        "\n",
        "\n",
        "# def predict_word(\n",
        "#     word: Image,\n",
        "#     chain: MarkovChainLight,\n",
        "#     window_min_size: int,\n",
        "#     window_max_size: int,\n",
        "#     window_slide_step: int,\n",
        "#     window_growth_step: int):\n",
        "#   PAD = 5\n",
        "#   MIN_CONTOUR = 40\n",
        "#   predicted = [chain.__class__.START_TOKEN] * chain.seq_size\n",
        "#   images = []\n",
        "#   window_max_size = min(word.width, window_max_size)\n",
        "#   window = [0, 0, min(window_min_size,window_max_size), word.height]\n",
        "#   # цикл для прохода по слову\n",
        "#   while window[2] <= word.width:\n",
        "#     # проверка на то, что правая граница окна не проходит через \"закрытую\" букву типа о,а,б,в. \n",
        "#     print(f\"Validating window {window}.\", end=\" \")\n",
        "#     while window[2] - window[0] < window_max_size and window[2] < word.width:\n",
        "#       image = word.crop(window)\n",
        "#       preprocessed = preprocess(\n",
        "#         image,\n",
        "#         padding=PAD,\n",
        "#         min_contour=MIN_CONTOUR,\n",
        "#         deacrease_contour_if_none=True,\n",
        "#       )\n",
        "#       plt.imshow(word)\n",
        "#       if window_is_valid(preprocessed, PAD):\n",
        "#         print(f\" Valid! \")\n",
        "#         break\n",
        "#       else:\n",
        "#         window[2] += 1\n",
        "#         print(f\" -> {window}\", end=\" \")\n",
        "#     # цикл для изменения скользящего окна\n",
        "#     while window[2] - window[0] <= window_max_size and window[2] <= word.width:\n",
        "#       #trying to predict\n",
        "#       # classes, best_model и transform берутся из среды!\n",
        "#       letter = predict_image(best_model, classes, preprocessed, transform, \"cpu\")\n",
        "\n",
        "#       if chain.proba(predicted[-chain.seq_size:], letter) > 0:\n",
        "#         print(f\"Predicted {letter} in {window}.\", end=\" \")\n",
        "#         predicted.append(letter)\n",
        "#         images.append(image)\n",
        "#         window[0] = window[2]\n",
        "#         window[2] += window_min_size\n",
        "#         print(f\"Window is now {window}\")\n",
        "#         break\n",
        "#       else:\n",
        "#         window[2] += window_growth_step\n",
        "#         print(f\"Prediction '{letter}' given context '{predicted[-chain.seq_size:]}' did not satisfy the chain. Window increased to {window}\")\n",
        "#     # только если окно разрослось, но так и не получилось ничего распознать\n",
        "#     else:\n",
        "#       window[0] += window_slide_step\n",
        "#       window[2] = window[0] + window_min_size\n",
        "#   return images, predicted[chain.seq_size:]"
      ],
      "metadata": {
        "id": "utL50wudcsJY"
      },
      "execution_count": null,
      "outputs": []
    },
    {
      "cell_type": "code",
      "source": [
        "def calc_average_symbol_width(words: \"List[Image]\") -> float:\n",
        "  return sum(map(lambda image: image.width, words)) / total_characters\n",
        "\n",
        "def open_images(paths):\n",
        "  words = []\n",
        "  for each in paths:\n",
        "    words.append(Image.open(each))\n",
        "  return words\n",
        "\n",
        "def window_is_valid(pil_image, pad):\n",
        "  im = img_as_bool(binarize(pil_image))\n",
        "  im = thin(binary_closing(skeletonize(im)))\n",
        "  if pad:\n",
        "    im = im[pad:-pad, pad:-pad]\n",
        "  return im[:, -1].sum() < 2\n",
        "\n",
        "def create_valid_window(window: \"list[int]\",\n",
        "                        word_img: Image,\n",
        "                        window_max_size: int,\n",
        "                        PAD: int,\n",
        "                        MIN_CONTOUR: int):\n",
        "  \"\"\" ИЗМЕНЯЕТ ИЗНАЧАЛЬНЫЙ МАССИВ В КАЧЕСТВЕ САЙД ЭФФЕКТА \"\"\"\n",
        "  # расширяем окно, чтобы правая граница не проходила через \"закрытую\" букву типа о,а,б,в. \n",
        "  # в случае с такими буквами это позволяет провести правую границу окна через соединение с соседней буквой\n",
        "  while window[2] - window[0] <= window_max_size and window[2] <= word_img.width:\n",
        "    image = word_img.crop(window)\n",
        "    preprocessed = preprocess(\n",
        "      image,\n",
        "      padding=PAD,\n",
        "      min_contour=MIN_CONTOUR,\n",
        "      deacrease_contour_if_none=True,\n",
        "    )\n",
        "    if window_is_valid(preprocessed, PAD):\n",
        "      break\n",
        "    else:\n",
        "      window[2] += 1\n",
        "  try:\n",
        "    return image, preprocessed\n",
        "  except Exception as e:\n",
        "    # plt.imshow(word_img)\n",
        "    # print(\"window, window_max_size, word_width\")\n",
        "    # print(window, window_max_size, word_img.width)\n",
        "    # raise e\n",
        "    pass\n",
        "  \n",
        "\n",
        "def predict_word_with_fallback(\n",
        "    word: Image,\n",
        "    chain: MarkovChainLight,\n",
        "    average_char_width: int,\n",
        "    window_min_size: int,\n",
        "    window_max_size: int,\n",
        "    window_slide_step: int,\n",
        "    window_growth_step: int):\n",
        "  PAD = 5\n",
        "  MIN_CONTOUR = 40\n",
        "  MAX_CONSECUTIVE_WINDOW_SLIDES = 3\n",
        "\n",
        "  LEVENSTEIN_TOLERANCE = 1\n",
        "  best_images = []\n",
        "  best_letters = []\n",
        "\n",
        "  # рекурсия для продвижения окна по слову с возможностью возвратиться в предыдущее состояние (вернувишь в контекст предыдущего вызова)\n",
        "  def parse_word_rec(\n",
        "      word_img: Image,\n",
        "      accum_letters: \"list[str]\",\n",
        "      accum_images = [],\n",
        "      slides = 0\n",
        "      ):\n",
        "    accum_letters_as_str = ''.join(accum_letters[chain.seq_size:])\n",
        "    # print(f\"Parsing image of shape {word_img.size}. Letters so far: {accum_letters_as_str}\")\n",
        "    # base case 1: успех\n",
        "    if word.width * 0.8 <= average_char_width * len(accum_letters_as_str) <= word.width * 1.2and\\\n",
        "        accum_letters_as_str in corpus:\n",
        "      return accum_images, accum_letters[chain.seq_size:], True\n",
        "\n",
        "    # base case 2: почти успех. Сохраним в переменные, потом вернём в случае неудачи\n",
        "    elif word.width * 0.8 <= average_char_width * len(accum_letters_as_str) <= word.width * 1.2 and\\\n",
        "        any(map(lambda x: levenshtein_distance(x, accum_letters_as_str) <= LEVENSTEIN_TOLERANCE, corpus)):\n",
        "      nonlocal best_images\n",
        "      nonlocal best_letters\n",
        "      best_images = accum_images\n",
        "      best_letters = accum_letters[chain.seq_size:]\n",
        "\n",
        "    # base case 3: позорный провал\n",
        "    if word_img.width < window_min_size or slides >= MAX_CONSECUTIVE_WINDOW_SLIDES:\n",
        "      return accum_images, accum_letters, False\n",
        "\n",
        "    # recursive case \n",
        "    successfuly_parsed_word = False\n",
        "    window = [0, 0, window_min_size, word_img.height]\n",
        "    max_window = min(window_max_size, word_img.width)\n",
        "    # в цикле окно растёт, пока не достигнет границы картинки или максимального размера\n",
        "    while window[2] - window[0] <= max_window and window[2] <= word.width:\n",
        "      # window изменяется внутри вызова `create_valid_window`. Чтобы избежать вычислений с заведомо неверным окошком\n",
        "      image, preprocessed = create_valid_window(window, word_img, max_window, PAD, MIN_CONTOUR)\n",
        "      # Распознавание. Переменные classes, best_model и transform берутся из среды!\n",
        "      letter = predict_image(best_model, classes, preprocessed, transform, \"cpu\")\n",
        "\n",
        "      # Если цепь Маркова одобрила результат распознавания\n",
        "      if chain.proba(accum_letters[-chain.seq_size:], letter) > 0:\n",
        "        # То углубимся в рекурсию, вырезав из word_img окошко с успешно распознанным символом.\n",
        "        # print(f\"Detected {letter} in {window}. Image of shape {word_img.size}\")\n",
        "        parsed_images, parsed_prediction, successfuly_parsed_word = parse_word_rec(\n",
        "            word_img.crop((window[2], 0, word_img.width, word_img.height)),\n",
        "            accum_letters=accum_letters + [letter],\n",
        "            accum_images=accum_images + [image],\n",
        "            slides=0\n",
        "        )\n",
        "        # True, если удалось распознать слово из корпуса, которое ещё и подходящего размера\n",
        "        if successfuly_parsed_word:\n",
        "          break\n",
        "\n",
        "      # Либо цепь Маркова не одобрила результат\n",
        "      # Либо распознать слово в последующих вызовах не удалось.\n",
        "      # Продолжим изменять расположение текущего окошка (а значит и последующих)\n",
        "      window[2] += window_growth_step\n",
        "\n",
        "    # если окно разрослось, но так и не получилось ничего распознать\n",
        "    else:\n",
        "        parsed_images, parsed_prediction, successfuly_parsed_word = parse_word_rec(\n",
        "            word_img.crop((window_slide_step, 0, word_img.width, word_img.height)),\n",
        "            accum_letters=accum_letters,\n",
        "            accum_images=accum_images,\n",
        "            slides=slides+1\n",
        "        )\n",
        "    return parsed_images, parsed_prediction, successfuly_parsed_word\n",
        "    \n",
        "\n",
        "  # # # # # # # # # # # # # # # # # # # # # # # # # # # # # # # # # # # # # # # # # # \n",
        "  parsed_images, parsed_prediction, successfuly_parsed_word = parse_word_rec(\n",
        "      word_img=word,\n",
        "      accum_letters=[chain.__class__.START_TOKEN] * chain.seq_size,\n",
        "  )\n",
        "  if successfuly_parsed_word:\n",
        "    return parsed_images, parsed_prediction, True\n",
        "  elif len(best_images) > 0 or len(best_letters) > 0:\n",
        "    return best_images, best_letters, True\n",
        "  else:\n",
        "    return parsed_images, parsed_prediction, False\n",
        "\n",
        "\n",
        "def recognition_another_try(\n",
        "    path_to_work: str,\n",
        "    chain: MarkovChainLight,\n",
        "    window_min_size=15,\n",
        "    window_max_size=45,\n",
        "    window_growth_step=5,\n",
        "    window_slide_step=5,\n",
        "    ):\n",
        "  words = glob(f\"{path_to_work}/**/*.jpg\", recursive=True)\n",
        "  words.sort(key=lambda path: int(path.split('/')[-1].replace(\".jpg\", \"\")))\n",
        "  words.sort(key=lambda path: int(path.split('/')[-2]))\n",
        "  words.sort(key=lambda path: int(path.split('/')[-3][-1]))\n",
        "  word_images = open_images(words)\n",
        "  average_char_width = calc_average_symbol_width(word_images)\n",
        "  tuples = []\n",
        "  for word in tqdm(word_images):\n",
        "    images, predicted, success = predict_word_with_fallback(\n",
        "        word,\n",
        "        chain,\n",
        "        average_char_width,\n",
        "        window_min_size,\n",
        "        window_max_size,\n",
        "        window_slide_step,\n",
        "        window_growth_step)\n",
        "    if success:\n",
        "      tuples.extend(zip(images, predicted))\n"
      ],
      "metadata": {
        "id": "jIUQwzfICKgb"
      },
      "execution_count": 164,
      "outputs": []
    },
    {
      "cell_type": "markdown",
      "source": [
        "#### Демка"
      ],
      "metadata": {
        "id": "vVq_9PtiBzaK"
      }
    },
    {
      "cell_type": "code",
      "source": [
        "text = open(\"dictation_text.txt\").read().lower()\n",
        "corpus = re.findall(\"[\\w]+\", text)\n",
        "text_cleared = ' '.join(corpus)\n",
        "total_characters = sum(map(len, corpus))\n",
        "total_characters\n",
        "chain = MarkovChain(sequence_size=3,text=text)\n",
        "# chain = MarkovChainLight(sequence_size=3,text=text_cleared)"
      ],
      "metadata": {
        "id": "G9oqIoXFHjLi"
      },
      "execution_count": 111,
      "outputs": []
    },
    {
      "cell_type": "code",
      "source": [
        "# 57347_16 хороший почерк\n",
        "words = glob(\"./words/57347_16/**/*.jpg\", recursive=True)\n",
        "words.sort(key=lambda path: int(path.split('/')[-1].replace(\".jpg\", \"\")))\n",
        "words.sort(key=lambda path: int(path.split('/')[-2]))\n",
        "words.sort(key=lambda path: int(path.split('/')[-3][-1]))\n",
        "word = words[0]\n",
        "word_img = Image.open(word)\n",
        "word_img"
      ],
      "metadata": {
        "colab": {
          "base_uri": "https://localhost:8080/",
          "height": 66
        },
        "id": "ezD387MlJY4E",
        "outputId": "cf3a3c59-0b64-482f-c598-dada984a1986"
      },
      "execution_count": 97,
      "outputs": [
        {
          "output_type": "execute_result",
          "data": {
            "text/plain": [
              "<PIL.JpegImagePlugin.JpegImageFile image mode=RGB size=134x49 at 0x7F06FFB00C90>"
            ],
            "image/png": "[encoded data removed]"
          },
          "metadata": {},
          "execution_count": 97
        }
      ]
    },
    {
      "cell_type": "code",
      "source": [
        "word_img.size"
      ],
      "metadata": {
        "colab": {
          "base_uri": "https://localhost:8080/"
        },
        "id": "7AetsqW9k2vN",
        "outputId": "07e68cb4-8e19-40ec-87b1-8ef736230488"
      },
      "execution_count": 144,
      "outputs": [
        {
          "output_type": "execute_result",
          "data": {
            "text/plain": [
              "(134, 49)"
            ]
          },
          "metadata": {},
          "execution_count": 144
        }
      ]
    },
    {
      "cell_type": "code",
      "source": [
        "images, letters = recognition_another_try(\n",
        "    \"./words/57347_16\",\n",
        "    chain\n",
        "    )"
      ],
      "metadata": {
        "colab": {
          "base_uri": "https://localhost:8080/",
          "height": 49,
          "referenced_widgets": [
            "5ea0dcc3583447c88650df102eacb98a",
            "811c07172336418cb20419af9987845d",
            "52218890c444497da7812039ad1511ad",
            "d1db8261c3404eeba631350403ff8669",
            "fa36dfefd6aa4d5496bf44e6662e164f",
            "366eaed2962844da998b884671727299",
            "db788da350ff4c849fd9d028fa873960",
            "7c8b4367dbb642fcb5cd8b5d639a4317",
            "45174966cff44e4582878247593248cd",
            "82c0f4e06cb84adaaa5ea2ec930ddbe3",
            "f2fd67dd143e492f93a70e2d12b772c7"
          ]
        },
        "id": "EY4OTf6vMLpU",
        "outputId": "0ae50762-c61f-4416-e25c-b1ef8b757277"
      },
      "execution_count": null,
      "outputs": [
        {
          "output_type": "display_data",
          "data": {
            "text/plain": [
              "  0%|          | 0/274 [00:00<?, ?it/s]"
            ],
            "application/vnd.jupyter.widget-view+json": {
              "version_major": 2,
              "version_minor": 0,
              "model_id": "5ea0dcc3583447c88650df102eacb98a"
            }
          },
          "metadata": {}
        }
      ]
    },
    {
      "cell_type": "code",
      "source": [
        "word_img.crop(\n",
        "    [0, 0, 40, 49]\n",
        ")"
      ],
      "metadata": {
        "colab": {
          "base_uri": "https://localhost:8080/",
          "height": 66
        },
        "id": "nxLyL4_9mBSd",
        "outputId": "8c66feef-ee5f-4d15-b060-5152661d51a7"
      },
      "execution_count": 158,
      "outputs": [
        {
          "output_type": "execute_result",
          "data": {
            "text/plain": [
              "<PIL.Image.Image image mode=RGB size=40x49 at 0x7F06FF6F6750>"
            ],
            "image/png": "[encoded data removed]"
          },
          "metadata": {},
          "execution_count": 158
        }
      ]
    },
    {
      "cell_type": "code",
      "source": [
        "img_test = word_img.crop(\n",
        "    [139-50, 0, word_img.width, 49]\n",
        ")\n",
        "img_test = preprocess(\n",
        "        img_test,\n",
        "        padding=5,\n",
        "        min_contour=40,\n",
        "        deacrease_contour_if_none=True,\n",
        "      )\n",
        "\n",
        "im = img_as_bool(binarize(img_test))\n",
        "im = thin(binary_closing(skeletonize(im)))\n",
        "# plt.imshow(im, cmap='gray')\n",
        "im = im[5:-5, 5:-5]\n",
        "print(im[:, -1].sum() < 2)\n",
        "img_test"
      ],
      "metadata": {
        "colab": {
          "base_uri": "https://localhost:8080/",
          "height": 74
        },
        "id": "u5AL9qMqo6W0",
        "outputId": "9391dd33-b0c9-4d04-a044-822783f1655b"
      },
      "execution_count": 151,
      "outputs": [
        {
          "output_type": "stream",
          "name": "stdout",
          "text": [
            "False\n"
          ]
        },
        {
          "output_type": "execute_result",
          "data": {
            "text/plain": [
              "<PIL.Image.Image image mode=RGB size=42x40 at 0x7F06E904D090>"
            ],
            "image/png": "[encoded data removed]"
          },
          "metadata": {},
          "execution_count": 151
        }
      ]
    },
    {
      "cell_type": "code",
      "source": [
        "# for word in tqdm(words):\n",
        "#   parse_word_with_incremental_window(\n",
        "#       path=word,\n",
        "#       classifier=best_model,\n",
        "#       chain=chain,\n",
        "#       classes=class_names,\n",
        "#       markov_threshold=0.05,\n",
        "#       window_min_size=10,\n",
        "#       save_img=True,\n",
        "#       save_path=\"/content/drive/MyDrive/Disser/prediction_05-25_21-27-59\"\n",
        "#   )\n"
      ],
      "metadata": {
        "id": "uQVzdUDTbG_I"
      },
      "execution_count": null,
      "outputs": []
    },
    {
      "cell_type": "code",
      "source": [
        "predict_image(best_model, class_names, Image.open(\"/content/drive/MyDrive/Disser/prediction_05-25_21-27-59/п/п-3.jpg\"))"
      ],
      "metadata": {
        "id": "EwgD4Pt2l7nh"
      },
      "execution_count": null,
      "outputs": []
    },
    {
      "cell_type": "markdown",
      "metadata": {
        "id": "vfJkLKblOEHu"
      },
      "source": [
        "## Итог"
      ]
    }
  ],
  "metadata": {
    "colab": {
      "collapsed_sections": [
        "LXB--foDNFJG",
        "tXf3Zory2aTk",
        "cbHRye-ayKTU",
        "WmgsgR062Y2e",
        "Z-Oqkh902EVR",
        "OEvhUQJK2YI-",
        "7rBSegmK2Hgs",
        "c-FlTvvR2WQn",
        "zIv_O2WQ2Iqr",
        "U0o2VtFVVGpT",
        "c8agVykVMQID",
        "-Ckj2DMNKXks",
        "1Aknma84Lw2S",
        "YVS0B450OeJO",
        "UpmSTMHKd9y7",
        "hTny2XRRPbSY",
        "ZZgtZBc2PfL5",
        "yiTpmAoS_Gb0",
        "Y9iFbRkIH2ae",
        "3QrIcCntBM1M"
      ],
      "name": "Инференс",
      "provenance": [],
      "toc_visible": true
    },
    "kernelspec": {
      "display_name": "Python 3",
      "name": "python3"
    },
    "language_info": {
      "name": "python"
    },
    "widgets": {
      "application/vnd.jupyter.widget-state+json": {
        "5ea0dcc3583447c88650df102eacb98a": {
          "model_module": "@jupyter-widgets/controls",
          "model_name": "HBoxModel",
          "model_module_version": "1.5.0",
          "state": {
            "_dom_classes": [],
            "_model_module": "@jupyter-widgets/controls",
            "_model_module_version": "1.5.0",
            "_model_name": "HBoxModel",
            "_view_count": null,
            "_view_module": "@jupyter-widgets/controls",
            "_view_module_version": "1.5.0",
            "_view_name": "HBoxView",
            "box_style": "",
            "children": [
              "IPY_MODEL_811c07172336418cb20419af9987845d",
              "IPY_MODEL_52218890c444497da7812039ad1511ad",
              "IPY_MODEL_d1db8261c3404eeba631350403ff8669"
            ],
            "layout": "IPY_MODEL_fa36dfefd6aa4d5496bf44e6662e164f"
          }
        },
        "811c07172336418cb20419af9987845d": {
          "model_module": "@jupyter-widgets/controls",
          "model_name": "HTMLModel",
          "model_module_version": "1.5.0",
          "state": {
            "_dom_classes": [],
            "_model_module": "@jupyter-widgets/controls",
            "_model_module_version": "1.5.0",
            "_model_name": "HTMLModel",
            "_view_count": null,
            "_view_module": "@jupyter-widgets/controls",
            "_view_module_version": "1.5.0",
            "_view_name": "HTMLView",
            "description": "",
            "description_tooltip": null,
            "layout": "IPY_MODEL_366eaed2962844da998b884671727299",
            "placeholder": "​",
            "style": "IPY_MODEL_db788da350ff4c849fd9d028fa873960",
            "value": " 79%"
          }
        },
        "52218890c444497da7812039ad1511ad": {
          "model_module": "@jupyter-widgets/controls",
          "model_name": "FloatProgressModel",
          "model_module_version": "1.5.0",
          "state": {
            "_dom_classes": [],
            "_model_module": "@jupyter-widgets/controls",
            "_model_module_version": "1.5.0",
            "_model_name": "FloatProgressModel",
            "_view_count": null,
            "_view_module": "@jupyter-widgets/controls",
            "_view_module_version": "1.5.0",
            "_view_name": "ProgressView",
            "bar_style": "",
            "description": "",
            "description_tooltip": null,
            "layout": "IPY_MODEL_7c8b4367dbb642fcb5cd8b5d639a4317",
            "max": 274,
            "min": 0,
            "orientation": "horizontal",
            "style": "IPY_MODEL_45174966cff44e4582878247593248cd",
            "value": 216
          }
        },
        "d1db8261c3404eeba631350403ff8669": {
          "model_module": "@jupyter-widgets/controls",
          "model_name": "HTMLModel",
          "model_module_version": "1.5.0",
          "state": {
            "_dom_classes": [],
            "_model_module": "@jupyter-widgets/controls",
            "_model_module_version": "1.5.0",
            "_model_name": "HTMLModel",
            "_view_count": null,
            "_view_module": "@jupyter-widgets/controls",
            "_view_module_version": "1.5.0",
            "_view_name": "HTMLView",
            "description": "",
            "description_tooltip": null,
            "layout": "IPY_MODEL_82c0f4e06cb84adaaa5ea2ec930ddbe3",
            "placeholder": "​",
            "style": "IPY_MODEL_f2fd67dd143e492f93a70e2d12b772c7",
            "value": " 216/274 [40:16&lt;09:44, 10.07s/it]"
          }
        },
        "fa36dfefd6aa4d5496bf44e6662e164f": {
          "model_module": "@jupyter-widgets/base",
          "model_name": "LayoutModel",
          "model_module_version": "1.2.0",
          "state": {
            "_model_module": "@jupyter-widgets/base",
            "_model_module_version": "1.2.0",
            "_model_name": "LayoutModel",
            "_view_count": null,
            "_view_module": "@jupyter-widgets/base",
            "_view_module_version": "1.2.0",
            "_view_name": "LayoutView",
            "align_content": null,
            "align_items": null,
            "align_self": null,
            "border": null,
            "bottom": null,
            "display": null,
            "flex": null,
            "flex_flow": null,
            "grid_area": null,
            "grid_auto_columns": null,
            "grid_auto_flow": null,
            "grid_auto_rows": null,
            "grid_column": null,
            "grid_gap": null,
            "grid_row": null,
            "grid_template_areas": null,
            "grid_template_columns": null,
            "grid_template_rows": null,
            "height": null,
            "justify_content": null,
            "justify_items": null,
            "left": null,
            "margin": null,
            "max_height": null,
            "max_width": null,
            "min_height": null,
            "min_width": null,
            "object_fit": null,
            "object_position": null,
            "order": null,
            "overflow": null,
            "overflow_x": null,
            "overflow_y": null,
            "padding": null,
            "right": null,
            "top": null,
            "visibility": null,
            "width": null
          }
        },
        "366eaed2962844da998b884671727299": {
          "model_module": "@jupyter-widgets/base",
          "model_name": "LayoutModel",
          "model_module_version": "1.2.0",
          "state": {
            "_model_module": "@jupyter-widgets/base",
            "_model_module_version": "1.2.0",
            "_model_name": "LayoutModel",
            "_view_count": null,
            "_view_module": "@jupyter-widgets/base",
            "_view_module_version": "1.2.0",
            "_view_name": "LayoutView",
            "align_content": null,
            "align_items": null,
            "align_self": null,
            "border": null,
            "bottom": null,
            "display": null,
            "flex": null,
            "flex_flow": null,
            "grid_area": null,
            "grid_auto_columns": null,
            "grid_auto_flow": null,
            "grid_auto_rows": null,
            "grid_column": null,
            "grid_gap": null,
            "grid_row": null,
            "grid_template_areas": null,
            "grid_template_columns": null,
            "grid_template_rows": null,
            "height": null,
            "justify_content": null,
            "justify_items": null,
            "left": null,
            "margin": null,
            "max_height": null,
            "max_width": null,
            "min_height": null,
            "min_width": null,
            "object_fit": null,
            "object_position": null,
            "order": null,
            "overflow": null,
            "overflow_x": null,
            "overflow_y": null,
            "padding": null,
            "right": null,
            "top": null,
            "visibility": null,
            "width": null
          }
        },
        "db788da350ff4c849fd9d028fa873960": {
          "model_module": "@jupyter-widgets/controls",
          "model_name": "DescriptionStyleModel",
          "model_module_version": "1.5.0",
          "state": {
            "_model_module": "@jupyter-widgets/controls",
            "_model_module_version": "1.5.0",
            "_model_name": "DescriptionStyleModel",
            "_view_count": null,
            "_view_module": "@jupyter-widgets/base",
            "_view_module_version": "1.2.0",
            "_view_name": "StyleView",
            "description_width": ""
          }
        },
        "7c8b4367dbb642fcb5cd8b5d639a4317": {
          "model_module": "@jupyter-widgets/base",
          "model_name": "LayoutModel",
          "model_module_version": "1.2.0",
          "state": {
            "_model_module": "@jupyter-widgets/base",
            "_model_module_version": "1.2.0",
            "_model_name": "LayoutModel",
            "_view_count": null,
            "_view_module": "@jupyter-widgets/base",
            "_view_module_version": "1.2.0",
            "_view_name": "LayoutView",
            "align_content": null,
            "align_items": null,
            "align_self": null,
            "border": null,
            "bottom": null,
            "display": null,
            "flex": null,
            "flex_flow": null,
            "grid_area": null,
            "grid_auto_columns": null,
            "grid_auto_flow": null,
            "grid_auto_rows": null,
            "grid_column": null,
            "grid_gap": null,
            "grid_row": null,
            "grid_template_areas": null,
            "grid_template_columns": null,
            "grid_template_rows": null,
            "height": null,
            "justify_content": null,
            "justify_items": null,
            "left": null,
            "margin": null,
            "max_height": null,
            "max_width": null,
            "min_height": null,
            "min_width": null,
            "object_fit": null,
            "object_position": null,
            "order": null,
            "overflow": null,
            "overflow_x": null,
            "overflow_y": null,
            "padding": null,
            "right": null,
            "top": null,
            "visibility": null,
            "width": null
          }
        },
        "45174966cff44e4582878247593248cd": {
          "model_module": "@jupyter-widgets/controls",
          "model_name": "ProgressStyleModel",
          "model_module_version": "1.5.0",
          "state": {
            "_model_module": "@jupyter-widgets/controls",
            "_model_module_version": "1.5.0",
            "_model_name": "ProgressStyleModel",
            "_view_count": null,
            "_view_module": "@jupyter-widgets/base",
            "_view_module_version": "1.2.0",
            "_view_name": "StyleView",
            "bar_color": null,
            "description_width": ""
          }
        },
        "82c0f4e06cb84adaaa5ea2ec930ddbe3": {
          "model_module": "@jupyter-widgets/base",
          "model_name": "LayoutModel",
          "model_module_version": "1.2.0",
          "state": {
            "_model_module": "@jupyter-widgets/base",
            "_model_module_version": "1.2.0",
            "_model_name": "LayoutModel",
            "_view_count": null,
            "_view_module": "@jupyter-widgets/base",
            "_view_module_version": "1.2.0",
            "_view_name": "LayoutView",
            "align_content": null,
            "align_items": null,
            "align_self": null,
            "border": null,
            "bottom": null,
            "display": null,
            "flex": null,
            "flex_flow": null,
            "grid_area": null,
            "grid_auto_columns": null,
            "grid_auto_flow": null,
            "grid_auto_rows": null,
            "grid_column": null,
            "grid_gap": null,
            "grid_row": null,
            "grid_template_areas": null,
            "grid_template_columns": null,
            "grid_template_rows": null,
            "height": null,
            "justify_content": null,
            "justify_items": null,
            "left": null,
            "margin": null,
            "max_height": null,
            "max_width": null,
            "min_height": null,
            "min_width": null,
            "object_fit": null,
            "object_position": null,
            "order": null,
            "overflow": null,
            "overflow_x": null,
            "overflow_y": null,
            "padding": null,
            "right": null,
            "top": null,
            "visibility": null,
            "width": null
          }
        },
        "f2fd67dd143e492f93a70e2d12b772c7": {
          "model_module": "@jupyter-widgets/controls",
          "model_name": "DescriptionStyleModel",
          "model_module_version": "1.5.0",
          "state": {
            "_model_module": "@jupyter-widgets/controls",
            "_model_module_version": "1.5.0",
            "_model_name": "DescriptionStyleModel",
            "_view_count": null,
            "_view_module": "@jupyter-widgets/base",
            "_view_module_version": "1.2.0",
            "_view_name": "StyleView",
            "description_width": ""
          }
        }
      }
    },
    "accelerator": "GPU"
  },
  "nbformat": 4,
  "nbformat_minor": 0
}